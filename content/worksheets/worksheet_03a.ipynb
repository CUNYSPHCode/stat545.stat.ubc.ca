{
 "cells": [
  {
   "cell_type": "markdown",
   "metadata": {
    "deletable": false,
    "editable": false,
    "nbgrader": {
     "cell_type": "markdown",
     "checksum": "aa9cad72cfced72bd5fc3b80043ea8e4",
     "grade": false,
     "grade_id": "cell-fc171c7a1fa7ad47",
     "locked": true,
     "schema_version": 3,
     "solution": false,
     "task": false
    }
   },
   "source": [
    "# Worksheet 03A: Data Wrangling II and ggplot2 II\n",
    "*Icíar Fernández Boyano*\n",
    "\n",
    "**Version 1.1**\n",
    "\n",
    "Fixes:\n",
    "\n",
    "- Solution structure in comments moved to markdown since Question 1.6+ code to fix wasn't showing\n",
    "- Change non-autograded cells from autograded answer to none\n",
    "\n",
    "## Instructions + Grading\n",
    "\n",
    "+ To get full marks for each participation worksheet, you must successfully answer at least 40% of all autograded questions. In this worksheet, 40% are 4 questions.\n",
    "\n",
    "+ Autograded questions are easily identifiable throughout the worksheet, labelled as **QUESTION**. Any other instructions that prompt the student to write code are activities, which are not graded and thus do not contribute to marks - but do contribute to the workflow of the worksheet!\n",
    "\n",
    "+ Run this code chunk to load the packages required for the autograder:"
   ]
  },
  {
   "cell_type": "markdown",
   "metadata": {
    "deletable": false,
    "editable": false,
    "nbgrader": {
     "cell_type": "markdown",
     "checksum": "82017216e3b291a4aac2e4c4046e6f6a",
     "grade": false,
     "grade_id": "cell-04c685cb2eb8b6f0",
     "locked": true,
     "schema_version": 3,
     "solution": false,
     "task": false
    }
   },
   "source": [
    "If there are any packages which are not yet installed, you can use the code cell below to install them. But please do not keep the `install.packages()` code in the script after running it!"
   ]
  },
  {
   "cell_type": "code",
   "execution_count": null,
   "metadata": {},
   "outputs": [],
   "source": [
    "# Install packages here\n",
    "# install.packages('ggridges')"
   ]
  },
  {
   "cell_type": "markdown",
   "metadata": {
    "deletable": false,
    "editable": false,
    "nbgrader": {
     "cell_type": "markdown",
     "checksum": "aae85366dec0904ef43890d7c54d3bbc",
     "grade": false,
     "grade_id": "cell-41f92dcdb202e472",
     "locked": true,
     "schema_version": 3,
     "solution": false,
     "task": false
    }
   },
   "source": [
    "Use the following code cell to load any additional packages you want to use for this worksheet. You may not need to use this code cell at all."
   ]
  },
  {
   "cell_type": "code",
   "execution_count": null,
   "metadata": {},
   "outputs": [],
   "source": [
    "# Load additional packages here\n",
    "# library(ggridges)"
   ]
  },
  {
   "cell_type": "markdown",
   "metadata": {
    "deletable": false,
    "editable": false,
    "nbgrader": {
     "cell_type": "markdown",
     "checksum": "a7cfe3ec68c4b4178e217ec6131ff0d8",
     "grade": false,
     "grade_id": "cell-c9832764b6325f04",
     "locked": true,
     "schema_version": 3,
     "solution": false,
     "task": false
    }
   },
   "source": [
    "Run the code cell below to load the packages."
   ]
  },
  {
   "cell_type": "code",
   "execution_count": null,
   "metadata": {
    "deletable": false,
    "editable": false,
    "nbgrader": {
     "cell_type": "code",
     "checksum": "0726c4edd998b7affbb59d59ec64c18b",
     "grade": false,
     "grade_id": "cell-24309ff38e46bf59",
     "locked": true,
     "schema_version": 3,
     "solution": false,
     "task": false
    }
   },
   "outputs": [],
   "source": [
    "library(testthat)\n",
    "library(digest)"
   ]
  },
  {
   "cell_type": "markdown",
   "metadata": {
    "deletable": false,
    "editable": false,
    "nbgrader": {
     "cell_type": "markdown",
     "checksum": "0f45e8dcc73ae0101e3769792a937976",
     "grade": false,
     "grade_id": "cell-cb123fac05d9f5b9",
     "locked": true,
     "schema_version": 3,
     "solution": false,
     "task": false
    }
   },
   "source": [
    "## Attributions\n",
    "\n",
    "The following resources were used as inspiration in the creation of this worksheet:\n",
    "\n",
    "+ [R4DS Data Manipulation Chapter](https://r4ds.had.co.nz/transform.html)\n",
    "+ [Rebecca Barter's post on across()](http://www.rebeccabarter.com/blog/2020-07-09-across/)\n",
    "+ STAT545 materials from previous years \n",
    "+ [Palmer penguins dataset](https://allisonhorst.github.io/palmerpenguins/articles/examples.html)\n",
    "\n",
    "## 0. Interacting with this Worksheet: Running code in jupyter\n",
    "\n",
    "In Episode 01A of the [STAT 545 video series](https://www.youtube.com/channel/UCrB-uourf2vxGeBnGjQrA0w), RStudio was mentioned as being an IDE for R. You're probably viewing this worksheet in another IDE called **jupyter**. We're using jupyter for the STAT 545 worksheets because it works well with an autograder called nbgrader.\n",
    "\n",
    "Try running the R code in the following _cell_: click on the cell, and either click \"Run\" in your toolbar, or press \"Shift + Enter\" or \"Shift + Return\"."
   ]
  },
  {
   "cell_type": "code",
   "execution_count": null,
   "metadata": {
    "deletable": false,
    "editable": false,
    "nbgrader": {
     "cell_type": "code",
     "checksum": "0db2354d1b7fc4f2aaf8158e216acb1d",
     "grade": false,
     "grade_id": "cell-3ce6bbb19fffd6ef",
     "locked": true,
     "schema_version": 3,
     "solution": false,
     "task": false
    }
   },
   "outputs": [],
   "source": [
    "1 + 1"
   ]
  },
  {
   "cell_type": "markdown",
   "metadata": {
    "deletable": false,
    "editable": false,
    "nbgrader": {
     "cell_type": "markdown",
     "checksum": "938a3714720ad516900ec103a5f96a60",
     "grade": false,
     "grade_id": "cell-77f92fa5d10d4cf2",
     "locked": true,
     "schema_version": 3,
     "solution": false,
     "task": false
    }
   },
   "source": [
    "The output appears below the cell.\n",
    "\n",
    "Also notice that you can't change the above code. We've programmed the worksheet that way to preserve the worksheet structure -- another plus to jupyter over RStudio here. The only cells you can change are the ones where we prompt you for input.\n",
    "\n",
    "## Class 6: The nuts and bolts of data wrangling \n",
    "\n",
    "This section of the worksheet is to be completed during **Class 6: Data Wrangling II.** By the end of today's worksheet, you will be able to: \n",
    "1. Use group_by(), and scoped variants of summarise() and mutate(), with across()\n",
    "2. Apply your dplyr knowledge to exploratory data analysis of a dataset\n",
    "\n",
    "### 1.0 Get started\n",
    "\n",
    "Load the `gapminder`, `palmerpenguins`, and `tidyverse` packages."
   ]
  },
  {
   "cell_type": "code",
   "execution_count": null,
   "metadata": {
    "deletable": false,
    "editable": false,
    "nbgrader": {
     "cell_type": "code",
     "checksum": "aa8515832a7c93f7d837da26db3e8fab",
     "grade": false,
     "grade_id": "cell-e45b7d0a85e380d7",
     "locked": true,
     "schema_version": 3,
     "solution": false,
     "task": false
    }
   },
   "outputs": [],
   "source": [
    "library(gapminder)\n",
    "library(palmerpenguins)\n",
    "library(tidyverse)"
   ]
  },
  {
   "cell_type": "markdown",
   "metadata": {
    "deletable": false,
    "editable": false,
    "nbgrader": {
     "cell_type": "markdown",
     "checksum": "9db104df1f7e79817299577c0914c47a",
     "grade": false,
     "grade_id": "cell-5d9c25c6e9eb8197",
     "locked": true,
     "schema_version": 3,
     "solution": false,
     "task": false
    }
   },
   "source": [
    "### 1.1 Practicing dplyr verbs\n",
    "\n",
    "In Data Wrangling II (Class 7), you have learned to use:\n",
    "\n",
    "+ `group_by()`\n",
    "+ `summarize()`\n",
    "+ `across() `\n",
    "\n",
    "*Questions 1.0 and 1.1 use the `gapminder` dataset. The remaining questions in this section use the `penguins` dataset.*\n",
    "\n",
    "**QUESTION 1.0**\n",
    "\n",
    "Make a tibble that accomplishes the following. Use a single expression using the pipe operator. \n",
    "\n",
    "+ Add a column called `min_life` of the *minimum* life expectancy for each continent and each year of the `gapminder` dataset -- but keep the same amount of rows as in the original gapminder data set.\n",
    "+ Add a column called `min_country` containing the country name having the lowest life expectancy for that year and that continent -- again, keeping the same amount of rows as the original.\n",
    "+ `arrange` by min life expectancy\n",
    "\n",
    "Assign your answer to a variable named `answer1.0`\n",
    "\n",
    "```\n",
    "answer1.0 <- gapminder %>% \n",
    " group_by(FILL_THIS_IN) %>% \n",
    " FILL_THIS_IN(min_life = min(lifeExp),\n",
    "              min_country = country[lifeExp == FILL_THIS_IN]) %>%\n",
    " arrange(FILL_THIS_IN)\n",
    " ```"
   ]
  },
  {
   "cell_type": "code",
   "execution_count": null,
   "metadata": {
    "deletable": false,
    "nbgrader": {
     "cell_type": "code",
     "checksum": "b45daec0c06f59610a29fec5d83e72d4",
     "grade": false,
     "grade_id": "cell-4eea8bf701fb2b1f",
     "locked": false,
     "schema_version": 3,
     "solution": true,
     "task": false
    }
   },
   "outputs": [],
   "source": [
    "# your code here\n",
    "fail() # No Answer - remove if you provide an answer\n",
    "print(answer1.0)"
   ]
  },
  {
   "cell_type": "code",
   "execution_count": null,
   "metadata": {
    "deletable": false,
    "editable": false,
    "nbgrader": {
     "cell_type": "code",
     "checksum": "d8388d4cc026e06536ba758d5d5e08d4",
     "grade": true,
     "grade_id": "cell-32af7251b3e7afcc",
     "locked": true,
     "points": 1,
     "schema_version": 3,
     "solution": false,
     "task": false
    }
   },
   "outputs": [],
   "source": [
    "test_that(\"Answer 1.0\", {\n",
    "    expect_true(\"min_country\" %in% names(answer1.0))\n",
    "    expect_true(\"min_life\" %in% names(answer1.0))\n",
    "    expect_equal(answer1.0$min_life[1], 23.599)\n",
    "    expect_equal(answer1.0$min_life[1704], 80.204)\n",
    "    expect_equal(\n",
    "        digest(as.character(unique(answer1.0$min_country))),\n",
    "        '7b278f7b9cfb884d5210390f056d4aeb'\n",
    "    )\n",
    "    expect_equal(nrow(answer1.0), 1704)\n",
    "})\n",
    "cat(\"success!\")"
   ]
  },
  {
   "cell_type": "markdown",
   "metadata": {
    "deletable": false,
    "editable": false,
    "nbgrader": {
     "cell_type": "markdown",
     "checksum": "4c81ad0b446f330f4824b1201ab82d13",
     "grade": false,
     "grade_id": "cell-7bcec14042a589a9",
     "locked": true,
     "schema_version": 3,
     "solution": false,
     "task": false
    }
   },
   "source": [
    "**QUESTION 1.1**\n",
    "\n",
    "Calculate the growth in population since the first year on record _for each country_ by **rearranging the following lines**, and **filling in the `FILL_THIS_IN`**. Name the column `rel_growth`. Here's another convenience function for you: `dplyr::first()`.\n",
    "\n",
    "Assign your answer to a variable named `answer1.1`\n",
    "\n",
    "```\n",
    "answer1.1 <-\n",
    "    mutate(rel_growth = FILL_THIS_IN) %>% \n",
    "    arrange(FILL_THIS_IN) %>% \n",
    "    gapminder %>% \n",
    "    group_by(country) %>% \n",
    "```"
   ]
  },
  {
   "cell_type": "code",
   "execution_count": null,
   "metadata": {
    "deletable": false,
    "nbgrader": {
     "cell_type": "code",
     "checksum": "8ad5a00c773a3e4a73f9e2c83df74f84",
     "grade": false,
     "grade_id": "cell-e592332026164b20",
     "locked": false,
     "schema_version": 3,
     "solution": true,
     "task": false
    }
   },
   "outputs": [],
   "source": [
    "# your code here\n",
    "fail() # No Answer - remove if you provide an answer\n",
    "print(answer1.1)"
   ]
  },
  {
   "cell_type": "code",
   "execution_count": null,
   "metadata": {
    "deletable": false,
    "editable": false,
    "nbgrader": {
     "cell_type": "code",
     "checksum": "9d487a2e8871723bc94f0c2f5d31a02b",
     "grade": true,
     "grade_id": "cell-cd47a70367762f45",
     "locked": true,
     "points": 1,
     "schema_version": 3,
     "solution": false,
     "task": false
    }
   },
   "outputs": [],
   "source": [
    "test_that(\"Answer 1.1\", {\n",
    "    expect_equal(nrow(answer1.0), 1704)\n",
    "    c('country', 'continent', 'year', 'lifeExp', 'pop', 'gdpPercap', 'rel_growth') %>% \n",
    "       map_lgl(~ .x %in% names(answer1.1)) %>% \n",
    "       all() %>% \n",
    "       expect_true()\n",
    "    expect_equal(digest(as.integer(answer1.1$rel_growth)), '26735e4b17481f965f9eb1d3b5de89ad')\n",
    "})\n",
    "cat(\"success!\")"
   ]
  },
  {
   "cell_type": "markdown",
   "metadata": {
    "deletable": false,
    "editable": false,
    "nbgrader": {
     "cell_type": "markdown",
     "checksum": "688241299854af9817e877e3fed430b6",
     "grade": false,
     "grade_id": "cell-8867b13aa060f89c",
     "locked": true,
     "schema_version": 3,
     "solution": false,
     "task": false
    }
   },
   "source": [
    "**QUESTION 1.2**\n",
    "\n",
    "Let's work with the `penguins` dataset from the `palmerpenguins` package. To find out which penguin species has the greatest mean body mass, calculate a mean body mass for each species, and store it in a column named `body_mass`. Order the results in descending order of `body_mass`.\n",
    "\n",
    "Assign your answer to a variable named `answer1.2`\n",
    "\n",
    "```\n",
    "answer1.2 <- penguins %>%\n",
    " group_by(FILL_THIS_IN) %>%\n",
    " summarise(body_mass = mean(FILL_THIS_IN, na.rm = TRUE)) %>%\n",
    " arrange(FILL_THIS_IN(FILL_THIS_IN))\n",
    "```"
   ]
  },
  {
   "cell_type": "code",
   "execution_count": null,
   "metadata": {
    "deletable": false,
    "nbgrader": {
     "cell_type": "code",
     "checksum": "f357538b14311a6d2950530b6d1027e9",
     "grade": false,
     "grade_id": "cell-187f7d2441152cb2",
     "locked": false,
     "schema_version": 3,
     "solution": true,
     "task": false
    }
   },
   "outputs": [],
   "source": [
    "# your code here\n",
    "fail() # No Answer - remove if you provide an answer\n",
    "print(answer1.2)"
   ]
  },
  {
   "cell_type": "code",
   "execution_count": null,
   "metadata": {
    "deletable": false,
    "editable": false,
    "nbgrader": {
     "cell_type": "code",
     "checksum": "dd4ea50da963dc04c0326eb576707242",
     "grade": true,
     "grade_id": "cell-a3172f32c3f7e93c",
     "locked": true,
     "points": 1,
     "schema_version": 3,
     "solution": false,
     "task": false
    }
   },
   "outputs": [],
   "source": [
    "test_that(\"Answer 1.2\", {\n",
    "    expect_equal(digest(as.character(answer1.2$species)), 'dad482699761c3b2907f181ac1b4af11')\n",
    "    expect_equal(digest(round(answer1.2$body_mass, 2)), '6e6ed88f2b45893ae00bec197346eed4')\n",
    "})\n",
    "cat(\"success!\")"
   ]
  },
  {
   "cell_type": "markdown",
   "metadata": {
    "deletable": false,
    "editable": false,
    "nbgrader": {
     "cell_type": "markdown",
     "checksum": "24eb1a0df75bd6cea9674e8c8c5cd6ad",
     "grade": false,
     "grade_id": "cell-89b20700690fe299",
     "locked": true,
     "schema_version": 3,
     "solution": false,
     "task": false
    }
   },
   "source": [
    "**QUESTION 1.3**\n",
    "\n",
    "In a single expression, make a tibble with the following columns *for each island* in the penguins data set:\n",
    "\n",
    "+ What is the *mean* of each numeric variable in the `penguins` dataset in each island? Keep the column names the same.\n",
    "+ How many penguins are there in each island? Add this to a column named `n`.\n",
    "\n",
    "Assign your answer to a variable named `answer1.3`\n",
    "\n",
    "```\n",
    "answer1.3 <- penguins %>% \n",
    " group_by(FILL_THIS_IN) %>% \n",
    " filter(n() > 1) %>% \n",
    " summarise(across(where(FILL_THIS_IN), FILL_THIS_IN, na.rm = TRUE), \n",
    "           n = n())\n",
    "```"
   ]
  },
  {
   "cell_type": "code",
   "execution_count": null,
   "metadata": {
    "deletable": false,
    "nbgrader": {
     "cell_type": "code",
     "checksum": "173e1d1d950341bc8de2343815554ba6",
     "grade": false,
     "grade_id": "cell-72def33e7872c583",
     "locked": false,
     "schema_version": 3,
     "solution": true,
     "task": false
    }
   },
   "outputs": [],
   "source": [
    "# your code here\n",
    "fail() # No Answer - remove if you provide an answer\n",
    "print(answer1.3)        "
   ]
  },
  {
   "cell_type": "code",
   "execution_count": null,
   "metadata": {
    "deletable": false,
    "editable": false,
    "nbgrader": {
     "cell_type": "code",
     "checksum": "b8ac0bc3de427fb46ca35d638118a7c8",
     "grade": true,
     "grade_id": "cell-b19dd740ce6187d2",
     "locked": true,
     "points": 1,
     "schema_version": 3,
     "solution": false,
     "task": false
    }
   },
   "outputs": [],
   "source": [
    "test_that(\"Answer 1.3\", {\n",
    "    expect_equal(\n",
    "        answer1.3 %>% \n",
    "          mutate(across(where(is.numeric), round, digits = 0)) %>% \n",
    "          unclass() %>% \n",
    "          digest(),\n",
    "        \"b06d7816762e489a57ca922d175f08ef\"\n",
    "    )\n",
    "})\n",
    "cat(\"success!\")"
   ]
  },
  {
   "cell_type": "markdown",
   "metadata": {
    "deletable": false,
    "editable": false,
    "nbgrader": {
     "cell_type": "markdown",
     "checksum": "e35eeef641937eb02fb67c6468810fea",
     "grade": false,
     "grade_id": "cell-9bb9a5e2a9521dc5",
     "locked": true,
     "schema_version": 3,
     "solution": false,
     "task": false
    }
   },
   "source": [
    "**QUESTION 1.4**\n",
    "\n",
    "Identify how many missing values there are in each column of the `penguins` dataset. Hint: use `summarise()`, `everything()` and `across()`.\n",
    "\n",
    "Assign your answer to a variable named `answer1.4`. It should be a tibble with one row and the same column names as the original `penguins` dataset.\n",
    "\n",
    "```\n",
    "answer1.4 <- FILL_THIS_IN %>%\n",
    " FILL_THIS_IN(FILL_THIS_IN(FILL_THIS_IN(),\n",
    "                           ~sum(is.na(.))))\n",
    "```                           "
   ]
  },
  {
   "cell_type": "code",
   "execution_count": null,
   "metadata": {
    "deletable": false,
    "nbgrader": {
     "cell_type": "code",
     "checksum": "8c9fb44e82d72ef7bab140c371d78cfd",
     "grade": false,
     "grade_id": "cell-9140cb3ea45eb725",
     "locked": false,
     "schema_version": 3,
     "solution": true,
     "task": false
    }
   },
   "outputs": [],
   "source": [
    "# your code here\n",
    "fail() # No Answer - remove if you provide an answer\n",
    "print(answer1.4)"
   ]
  },
  {
   "cell_type": "code",
   "execution_count": null,
   "metadata": {
    "deletable": false,
    "editable": false,
    "nbgrader": {
     "cell_type": "code",
     "checksum": "31d3c79a653ebad84856f1d577ca6469",
     "grade": true,
     "grade_id": "cell-a011c5ca4662b060",
     "locked": true,
     "points": 1,
     "schema_version": 3,
     "solution": false,
     "task": false
    }
   },
   "outputs": [],
   "source": [
    "test_that(\"Answer 1.4\", {\n",
    "    expect_equal(digest(unname(as.matrix(answer1.4))[1, ]), \"299537c4d0eeeca44bddd11a2b02f68d\")\n",
    "})\n",
    "cat(\"success!\")"
   ]
  },
  {
   "cell_type": "markdown",
   "metadata": {
    "deletable": false,
    "editable": false,
    "nbgrader": {
     "cell_type": "markdown",
     "checksum": "b15952f02957acdae6faf651eb139eb3",
     "grade": false,
     "grade_id": "cell-c43e66052ee63d5e",
     "locked": true,
     "schema_version": 3,
     "solution": false,
     "task": false
    }
   },
   "source": [
    "`~` indicates that you have started an anonymous function, the argument of which can be defined with `.x` or `.`. `~sum(is.na(.))` calculates how many NA values there are in each column (represented by `.`) and adds them up."
   ]
  },
  {
   "cell_type": "markdown",
   "metadata": {
    "deletable": false,
    "editable": false,
    "nbgrader": {
     "cell_type": "markdown",
     "checksum": "af58e649c6a864ed4e09a10cc07f456b",
     "grade": false,
     "grade_id": "cell-0eb8a1088e301e08",
     "locked": true,
     "schema_version": 3,
     "solution": false,
     "task": false
    }
   },
   "source": [
    "**QUESTION 1.5**\n",
    "\n",
    "Replace the missing values of the numeric columns in the `penguins` dataset with the *mean* of the relevant column. Hint: `FILL_THIS_IN_SAME` should be the same in all three expressions where it is noted. Another hint, look at question 1.4 above!\n",
    "\n",
    "Assign your answer to a variable named `answer1.5`\n",
    "\n",
    "```\n",
    "answer1.5 <- penguins %>%\n",
    " FILL_THIS_IN(across(FILL_THIS_IN(is.numeric), ~if_else(is.na(FILL_THIS_IN_SAME), mean(FILL_THIS_IN_SAME, na.rm = T), as.numeric(FILL_THIS_IN_SAME))))\n",
    "```"
   ]
  },
  {
   "cell_type": "code",
   "execution_count": null,
   "metadata": {
    "deletable": false,
    "nbgrader": {
     "cell_type": "code",
     "checksum": "bfd51fb84c68d5082e6c4f0ade62caee",
     "grade": false,
     "grade_id": "cell-2a6e7882cd51b2f8",
     "locked": false,
     "schema_version": 3,
     "solution": true,
     "task": false
    }
   },
   "outputs": [],
   "source": [
    "# your code here\n",
    "fail() # No Answer - remove if you provide an answer\n",
    "print(answer1.5)"
   ]
  },
  {
   "cell_type": "code",
   "execution_count": null,
   "metadata": {
    "deletable": false,
    "editable": false,
    "nbgrader": {
     "cell_type": "code",
     "checksum": "a49783f9c744114df71c78c9c43c6b8d",
     "grade": true,
     "grade_id": "cell-718c16c8c1c7b411",
     "locked": true,
     "points": 1,
     "schema_version": 3,
     "solution": false,
     "task": false
    }
   },
   "outputs": [],
   "source": [
    "test_that(\"Answer 1.5\", {\n",
    "    expect_equal(\n",
    "        answer1.5 %>% \n",
    "          mutate(across(where(is.numeric), round, digits = 0)) %>% \n",
    "          unclass() %>% \n",
    "          digest(),\n",
    "        \"5208731e19772e086d78778ffa8d68fa\"\n",
    "    )\n",
    "})\n",
    "cat(\"success!\")"
   ]
  },
  {
   "cell_type": "markdown",
   "metadata": {
    "deletable": false,
    "editable": false,
    "nbgrader": {
     "cell_type": "markdown",
     "checksum": "392d309d7b87ef713514c5daf98dab44",
     "grade": false,
     "grade_id": "cell-3c6dcdc293bf760d",
     "locked": true,
     "schema_version": 3,
     "solution": false,
     "task": false
    }
   },
   "source": [
    "### 1.2 Explore a dataset with dplyr and ggplot II\n",
    "\n",
    "*This section of the worksheet is not autograded, but answers will be uploaded after the deadline for submission of this worksheet.* \n",
    "\n",
    "For each of the tasks below, produce: \n",
    "\n",
    "- a tibble, using `dplyr` as your data manipulation tool;\n",
    "- an accompanying plot of data from the tibble, using `ggplot2` as your visualization tool; and\n",
    "- some dialogue about what your tables/figures show (doesn't have to be much).\n",
    "\n",
    "**Tip:** Treat this worksheet as a \"cheat sheet\" for future-you / for working on your mini data analysis project! Don't assume that you'll remember the lessons you learned while working on this worksheet. Write things down:\n",
    "\n",
    "- Add notes on difficulties/oddities you encountered. For example, which figures are easy/hard to make, which data formats make better inputs for plotting functions vs. for human-friendly tables.\n",
    "- Provide attribution whenever you take code or an idea from somewhere else, whether a blog post, a colleague, a vignette, etc. Putting those pointers in your \"cheat sheet\" will be useful for future-you -- and it's just good practice to indicate where you got things from.\n",
    "\n",
    "### Task 1\n",
    "\n",
    "Report the absolute and/or relative abundance of countries with low life expectancy over time by continent: Compute some measure of worldwide life expectancy – you decide – a mean or median or some other quantile or perhaps your current age. Then determine how many countries on each continent have a life expectancy less than this benchmark, for each year.\n",
    "\n",
    "### Task 2\n",
    "\n",
    "Get the *maximum* and *minimum* of GDP per capita for all continents.\n"
   ]
  },
  {
   "cell_type": "code",
   "execution_count": null,
   "metadata": {},
   "outputs": [],
   "source": [
    "# your code here"
   ]
  },
  {
   "cell_type": "markdown",
   "metadata": {
    "deletable": false,
    "editable": false,
    "nbgrader": {
     "cell_type": "markdown",
     "checksum": "689b7daf9be90ca86d27e5eaa7ddfabe",
     "grade": false,
     "grade_id": "cell-9db267e502962c72",
     "locked": true,
     "schema_version": 3,
     "solution": false,
     "task": false
    }
   },
   "source": [
    "## Class 7: Effective visualizations with ggplot2\n",
    "\n",
    "This section of the worksheet is to be completed during Class 7: ggplot II + effective visualizations. By the end of today's worksheets, you will be able to:\n",
    "\n",
    "1. Troubleshoot common coding errors when plotting data with ggplot2, using the `gapminder` package.\n",
    "2. Create an effective visualization of the `penguins` data with ggplot2.\n",
    "\n",
    "### 1.0 Fix the plots!\n",
    "\n",
    "In this section, we'll be looking at some erroneous plots and fixing them. You might need to install the `ggridges` and `scales` packages before proceeding."
   ]
  },
  {
   "cell_type": "code",
   "execution_count": null,
   "metadata": {
    "deletable": false,
    "editable": false,
    "nbgrader": {
     "cell_type": "code",
     "checksum": "f0320357f154045a520fe38b77af6eed",
     "grade": false,
     "grade_id": "cell-cfcd29f056781eff",
     "locked": true,
     "schema_version": 3,
     "solution": false,
     "task": false
    }
   },
   "outputs": [],
   "source": [
    "library(tidyverse)\n",
    "library(gapminder)\n",
    "library(ggridges)\n",
    "library(scales)"
   ]
  },
  {
   "cell_type": "markdown",
   "metadata": {
    "deletable": false,
    "editable": false,
    "nbgrader": {
     "cell_type": "markdown",
     "checksum": "4a5035c00da515a98337b6a7ad72f7c8",
     "grade": false,
     "grade_id": "cell-a87be4257b2f2988",
     "locked": true,
     "schema_version": 3,
     "solution": false,
     "task": false
    }
   },
   "source": [
    "**QUESTION 1.6**\n",
    "\n",
    "Fix the errors in the following scatterplot. *Hint:* What is `select()` doing? `desc()` should be elsewhere... \n",
    "\n",
    "The plot should be a scatterplot with one of the axes reversed.\n",
    "\n",
    "Assign your answer to a variable named `answer1.6`\n",
    "\n",
    "```\n",
    "answer1.6 <- gapminder %>% \n",
    " filter(country = \"Canada\") %>%\n",
    " select(desc(year)) %>%\n",
    " ggplot(aes(year, lifeExp)) +\n",
    " geom_point()\n",
    "```"
   ]
  },
  {
   "cell_type": "code",
   "execution_count": null,
   "metadata": {
    "deletable": false,
    "nbgrader": {
     "cell_type": "code",
     "checksum": "e4c848686afc72dda7ba810c5522cd21",
     "grade": false,
     "grade_id": "cell-7aec8df57cd52433",
     "locked": false,
     "schema_version": 3,
     "solution": true,
     "task": false
    }
   },
   "outputs": [],
   "source": [
    "# your code here\n",
    "fail() # No Answer - remove if you provide an answer\n",
    "print(answer1.6)"
   ]
  },
  {
   "cell_type": "code",
   "execution_count": null,
   "metadata": {
    "deletable": false,
    "editable": false,
    "nbgrader": {
     "cell_type": "code",
     "checksum": "a0d2f7c15050f869bfe29be8dca95e19",
     "grade": true,
     "grade_id": "cell-b32b1408897b44ef",
     "locked": true,
     "points": 1,
     "schema_version": 3,
     "solution": false,
     "task": false
    }
   },
   "outputs": [],
   "source": [
    "test_that(\"Answer 1.6\", {\n",
    "    expect_true(\n",
    "        digest(as.character(rlang::get_expr(answer1.6$mapping))) %in%\n",
    "        c(\"f02a3570b3f25fab66031b9fa16c8bc4\", \n",
    "          \"8141f2476b2b50ff403f6ce68263cb93\", \n",
    "          \"f097628c1fccc00f80485cdc54a37f65\")\n",
    "    )\n",
    "})\n",
    "cat(\"success!\")"
   ]
  },
  {
   "cell_type": "markdown",
   "metadata": {
    "deletable": false,
    "editable": false,
    "nbgrader": {
     "cell_type": "markdown",
     "checksum": "8f64a507ababab3278947d1255f8ea1d",
     "grade": false,
     "grade_id": "cell-cca88c9f7fd3160c",
     "locked": true,
     "schema_version": 3,
     "solution": false,
     "task": false
    }
   },
   "source": [
    "**QUESTION 1.7**\n",
    "\n",
    "Instead of alpha transparency, we can fix the overplotting issue by making the points smaller. Why is this not working? Fix it.\n",
    "\n",
    "Assign your answer to a variable named `answer1.7`\n",
    "\n",
    "```\n",
    "answer1.7 <- ggplot(gapminder) +\n",
    "  geom_point(aes(gdpPercap, lifeExp, size = 0.1)) +\n",
    "  scale_x_log10(labels = scales::dollar_format())\n",
    "```"
   ]
  },
  {
   "cell_type": "code",
   "execution_count": null,
   "metadata": {
    "deletable": false,
    "nbgrader": {
     "cell_type": "code",
     "checksum": "0267b307ee728eb39c72cfd5b216b8e4",
     "grade": false,
     "grade_id": "cell-b28ea46f0e6cce0d",
     "locked": false,
     "schema_version": 3,
     "solution": true,
     "task": false
    }
   },
   "outputs": [],
   "source": [
    "# your code here\n",
    "fail() # No Answer - remove if you provide an answer\n",
    "print(answer1.7)"
   ]
  },
  {
   "cell_type": "code",
   "execution_count": null,
   "metadata": {
    "deletable": false,
    "editable": false,
    "nbgrader": {
     "cell_type": "code",
     "checksum": "1a2b4e828f17e8cae3faad064e5244b5",
     "grade": true,
     "grade_id": "cell-1bb9ffe3e12eea95",
     "locked": true,
     "points": 1,
     "schema_version": 3,
     "solution": false,
     "task": false
    }
   },
   "outputs": [],
   "source": [
    "test_that(\"Answer 1.7\", {\n",
    "    expect_false(\"size\" %in% names(answer1.7$layers[[1]]$mapping))\n",
    "    expect_equal(answer1.7$layers[[1]]$geom_params$size, 0.1)\n",
    "})\n",
    "cat(\"success!\")"
   ]
  },
  {
   "cell_type": "markdown",
   "metadata": {
    "deletable": false,
    "editable": false,
    "nbgrader": {
     "cell_type": "markdown",
     "checksum": "4a7a0388937033e7f0a48a505298f06b",
     "grade": false,
     "grade_id": "cell-6422befdf23b20c8",
     "locked": true,
     "schema_version": 3,
     "solution": false,
     "task": false
    }
   },
   "source": [
    "**QUESTION 1.8**\n",
    "\n",
    "Fix the plot so that the size of the dots is related to the body mass, and so that the dots are colored by species.\n",
    "\n",
    "Assign your answer to a variable named `answer1.8` \n",
    "\n",
    "```\n",
    "answer1.8 <- ggplot(penguins, aes(x = body_mass_g, y = flipper_length_mm) +\n",
    "       geom_point(shape = 21,\n",
    "                  size = species,\n",
    "                  fill = island))\n",
    "```                  "
   ]
  },
  {
   "cell_type": "code",
   "execution_count": null,
   "metadata": {
    "deletable": false,
    "nbgrader": {
     "cell_type": "code",
     "checksum": "1eab532ce867c41b5b1a5f338141d4b1",
     "grade": false,
     "grade_id": "cell-9aa8029613c3c82a",
     "locked": false,
     "schema_version": 3,
     "solution": true,
     "task": false
    }
   },
   "outputs": [],
   "source": [
    "# your code here\n",
    "fail() # No Answer - remove if you provide an answer\n",
    "print(answer1.8)"
   ]
  },
  {
   "cell_type": "code",
   "execution_count": null,
   "metadata": {
    "deletable": false,
    "editable": false,
    "nbgrader": {
     "cell_type": "code",
     "checksum": "3b73500ccf8f2a12a08be963ad57147c",
     "grade": true,
     "grade_id": "cell-86ff95a18e8ad74d",
     "locked": true,
     "points": 1,
     "schema_version": 3,
     "solution": false,
     "task": false
    }
   },
   "outputs": [],
   "source": [
    "test_that(\"Answer 1.8\", {\n",
    "    expect_true(\"x\" %in% names(answer1.8$mapping) | \"x\" %in% names(answer1.8$layers[[1]]$mapping))\n",
    "    expect_true(\"y\" %in% names(answer1.8$mapping) | \"y\" %in% names(answer1.8$layers[[1]]$mapping))\n",
    "    expect_true(\"size\" %in% names(answer1.8$mapping) | \"size\" %in% names(answer1.8$layers[[1]]$mapping))\n",
    "    expect_true(\"fill\" %in% names(answer1.8$mapping) | \"fill\" %in% names(answer1.8$layers[[1]]$mapping))\n",
    "})\n",
    "cat(\"success!\")"
   ]
  },
  {
   "cell_type": "markdown",
   "metadata": {
    "deletable": false,
    "editable": false,
    "nbgrader": {
     "cell_type": "markdown",
     "checksum": "14808f2992642cd5925795b82f0e811d",
     "grade": false,
     "grade_id": "cell-aa9543ec02f0d2e6",
     "locked": true,
     "schema_version": 3,
     "solution": false,
     "task": false
    }
   },
   "source": [
    "**QUESTION 1.9**\n",
    "\n",
    "Consider the code below:\n",
    "\n",
    "```\n",
    "gapminder %>%\n",
    "  ggplot(aes(gdpPercap, lifeExp)) +\n",
    "  geom_point(alpha = 0.2) +\n",
    "  scale_x_log10()\n",
    "```\n",
    "\n",
    "Modify the plot: \n",
    "\n",
    "- Change the x-axis text to be in \"comma format\" with `scales::comma_format()`.\n",
    "- Separate each continent into sub-panels, in a single row of plots.\n",
    "\n",
    "Assign your answer to a variable named `answer1.9`"
   ]
  },
  {
   "cell_type": "code",
   "execution_count": null,
   "metadata": {
    "deletable": false,
    "nbgrader": {
     "cell_type": "code",
     "checksum": "b10682e900ba003d84459da9db243c27",
     "grade": false,
     "grade_id": "cell-9ee5da2d49d01716",
     "locked": false,
     "schema_version": 3,
     "solution": true,
     "task": false
    }
   },
   "outputs": [],
   "source": [
    "# your code here\n",
    "fail() # No Answer - remove if you provide an answer\n",
    "print(answer1.9)"
   ]
  },
  {
   "cell_type": "code",
   "execution_count": null,
   "metadata": {
    "deletable": false,
    "editable": false,
    "nbgrader": {
     "cell_type": "code",
     "checksum": "6da9eda1cd316edcf24a325be4320a65",
     "grade": true,
     "grade_id": "cell-40960cdcc5c1b968",
     "locked": true,
     "points": 1,
     "schema_version": 3,
     "solution": false,
     "task": false
    }
   },
   "outputs": [],
   "source": [
    "test_that(\"Answer 1.9\", {\n",
    "    expect_equal(names(answer1.9$facet$params$facets), \"continent\")\n",
    "})\n",
    "cat(\"success!\")"
   ]
  },
  {
   "cell_type": "markdown",
   "metadata": {
    "deletable": false,
    "editable": false,
    "nbgrader": {
     "cell_type": "markdown",
     "checksum": "17c219df8f55e943d836004b3e631a0f",
     "grade": false,
     "grade_id": "cell-327f1b733c8b200f",
     "locked": true,
     "schema_version": 3,
     "solution": false,
     "task": false
    }
   },
   "source": [
    "### 1.1 Investigate the `penguins` dataset with plots\n",
    "\n",
    "**QUESTION 1.10**\n",
    "\n",
    "Plot the `penguins` body mass (on the y axis) vs. flipper length (on the x axis) using a **scatterplot**, with the following specifications:\n",
    "+ Color by `species`\n",
    "+ Set the `size` of the points to 3, and the `alpha` to 0.8\n",
    "+ Set the theme to minimal\n",
    "\n",
    "Assign your answer to a variable named `answer1.10`\n",
    "\n",
    "```\n",
    "answer1.10 <- ggplot(data = FILL_THIS_IN,\n",
    "                      FILL_THIS_IN(x = FILL_THIS_IN,\n",
    "                                   y = FILL_THIS_IN)) +\n",
    " FILL_THIS_IN(FILL_THIS_IN(color = FILL_THIS_IN),\n",
    "              size = FILL_THIS_IN,\n",
    "              alpha = FILL_THIS_IN) +\n",
    " FILL_THIS_IN() \n",
    "```"
   ]
  },
  {
   "cell_type": "code",
   "execution_count": null,
   "metadata": {
    "deletable": false,
    "nbgrader": {
     "cell_type": "code",
     "checksum": "9ae2e11182392ea383f523347561f78c",
     "grade": false,
     "grade_id": "cell-436e43ab2a6c03e4",
     "locked": false,
     "schema_version": 3,
     "solution": true,
     "task": false
    }
   },
   "outputs": [],
   "source": [
    "# your code here\n",
    "fail() # No Answer - remove if you provide an answer\n",
    "print(answer1.10)"
   ]
  },
  {
   "cell_type": "code",
   "execution_count": null,
   "metadata": {
    "deletable": false,
    "editable": false,
    "nbgrader": {
     "cell_type": "code",
     "checksum": "7d86184ae9b0dab78a9bf670736cf4c5",
     "grade": true,
     "grade_id": "cell-ef1d7f671af8b6f5",
     "locked": true,
     "points": 1,
     "schema_version": 3,
     "solution": false,
     "task": false
    }
   },
   "outputs": [],
   "source": [
    "test_that(\"Answer 1.10\", {\n",
    "    expect_true(\"species\" %in% as.character(answer1.10$mapping$colour) | \n",
    "                \"species\" %in% as.character(answer1.10$layers[[1]]$mapping$colour))\n",
    "    expect_true(\"flipper_length_mm\" %in% as.character(answer1.10$mapping$x) | \n",
    "                \"flipper_length_mm\" %in% as.character(answer1.10$layers[[1]]$mapping$x))\n",
    "    expect_true(\"body_mass_g\" %in% as.character(answer1.10$mapping$y) | \n",
    "                \"body_mass_g\" %in% as.character(answer1.10$layers[[1]]$mapping$y))\n",
    "    expect_equal(answer1.10$layers[[1]]$geom_params$size, 3)\n",
    "    expect_equal(answer1.10$layers[[1]]$geom_params$alpha, 0.8)\n",
    "})\n",
    "cat(\"success!\")"
   ]
  },
  {
   "cell_type": "markdown",
   "metadata": {
    "deletable": false,
    "editable": false,
    "nbgrader": {
     "cell_type": "markdown",
     "checksum": "4219c8dd9ffafb7fdac6f9b586b66f24",
     "grade": false,
     "grade_id": "cell-ee84ea7696e7ad0a",
     "locked": true,
     "schema_version": 3,
     "solution": false,
     "task": false
    }
   },
   "source": [
    "**QUESTION 1.11**\n",
    "\n",
    "Repeat the same graph as above, this time coloring by sex, and separating each species into subpanels.\n",
    "\n",
    "Assign your answer to a variable named `answer1.11`"
   ]
  },
  {
   "cell_type": "code",
   "execution_count": null,
   "metadata": {
    "deletable": false,
    "nbgrader": {
     "cell_type": "code",
     "checksum": "1aaa8224033f15a288f0bc04f41d7b6a",
     "grade": false,
     "grade_id": "cell-20b4487e862f40c9",
     "locked": false,
     "schema_version": 3,
     "solution": true,
     "task": false
    }
   },
   "outputs": [],
   "source": [
    "# your code here\n",
    "fail() # No Answer - remove if you provide an answer\n",
    "print(answer1.11)"
   ]
  },
  {
   "cell_type": "code",
   "execution_count": null,
   "metadata": {
    "deletable": false,
    "editable": false,
    "nbgrader": {
     "cell_type": "code",
     "checksum": "36721f82988cfb0233ec7eeb89f5569f",
     "grade": true,
     "grade_id": "cell-ae29c516f77ef8f6",
     "locked": true,
     "points": 1,
     "schema_version": 3,
     "solution": false,
     "task": false
    }
   },
   "outputs": [],
   "source": [
    "test_that(\"Answer 1.11\", {\n",
    "    expect_true(\"sex\" %in% as.character(answer1.11$mapping$colour) | \n",
    "                \"sex\" %in% as.character(answer1.11$layers[[1]]$mapping$colour))\n",
    "    expect_true(\"flipper_length_mm\" %in% as.character(answer1.11$mapping$x) | \n",
    "                \"flipper_length_mm\" %in% as.character(answer1.11$layers[[1]]$mapping$x))\n",
    "    expect_true(\"body_mass_g\" %in% as.character(answer1.11$mapping$y) | \n",
    "                \"body_mass_g\" %in% as.character(answer1.11$layers[[1]]$mapping$y))\n",
    "    expect_equal(answer1.11$layers[[1]]$geom_params$size, 3)\n",
    "    expect_equal(answer1.11$layers[[1]]$geom_params$alpha, 0.8)\n",
    "    expect_equal(names(answer1.11$facet$params$facets), \"species\")\n",
    "})\n",
    "cat(\"success!\")"
   ]
  },
  {
   "cell_type": "markdown",
   "metadata": {
    "deletable": false,
    "editable": false,
    "nbgrader": {
     "cell_type": "markdown",
     "checksum": "74c4e4c58b015326d293a719e375764c",
     "grade": false,
     "grade_id": "cell-78d12e3a2b2fab4b",
     "locked": true,
     "schema_version": 3,
     "solution": false,
     "task": false
    }
   },
   "source": [
    "*Not autograded:* What could we add to improve the above graph? This time, try to replicate the graph above, using `labs()` to add:\n",
    "+ A `title`\n",
    "+ A `subtitle`\n",
    "+ Change the names of the `x` and `y` axes to something more readable (without _)\n",
    "+ A `legend` for what the `color` indicates\n",
    "\n",
    "Feeling inspired? You can also try to specify colors with `scale_color_manual()`!"
   ]
  },
  {
   "cell_type": "code",
   "execution_count": null,
   "metadata": {},
   "outputs": [],
   "source": [
    "# your code here"
   ]
  }
 ],
 "metadata": {
  "kernelspec": {
   "display_name": "R",
   "language": "R",
   "name": "ir"
  },
  "language_info": {
   "codemirror_mode": "r",
   "file_extension": ".r",
   "mimetype": "text/x-r-source",
   "name": "R",
   "pygments_lexer": "r",
   "version": "4.0.2"
  }
 },
 "nbformat": 4,
 "nbformat_minor": 4
}
