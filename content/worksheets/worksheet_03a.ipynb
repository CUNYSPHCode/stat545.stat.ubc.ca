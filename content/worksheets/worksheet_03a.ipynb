{
 "cells": [
  {
   "cell_type": "markdown",
   "metadata": {},
   "source": [
    "# Worksheet 01A: Intro to R, R Markdown, and Reproducibility\n",
    "*Icíar Fernández Boyano*\n",
    "\n",
    "## Instructions + Grading\n",
    "\n",
    "+ To get full marks for each participation worksheet, you must successfully answer at least 40% of all autograded questions. \n",
    "\n",
    "+ Autograded questions are easily identifiable throughout the worksheet, labelled as **QUESTION**. Any other instructions that prompt the student to write code are activities, which are not graded and thus do not contribute to marks - but do contribute to the workflow of the worksheet!\n",
    "\n",
    "+ Run this code chunk to load the packages required for the autograder:"
   ]
  },
  {
   "cell_type": "code",
   "execution_count": null,
   "metadata": {},
   "outputs": [],
   "source": [
    "library(testthat)\n",
    "library(digest)"
   ]
  },
  {
   "cell_type": "markdown",
   "metadata": {},
   "source": [
    "## Attributions\n",
    "\n",
    "The following resources were used as inspiration in the creation of this worksheet:\n",
    "\n",
    "*fill in as I go*\n",
    "\n",
    "## 0. Interacting with this Worksheet: Running code in jupyter\n",
    "\n",
    "In Episode 01A of the [STAT 545 video series](https://www.youtube.com/channel/UCrB-uourf2vxGeBnGjQrA0w), RStudio was mentioned as being an IDE for R. You're probably viewing this worksheet in another IDE called **jupyter**. We're using jupyter for the STAT 545 worksheets because it works well with an autograder called nbgrader.\n",
    "\n",
    "Try running the R code in the following _cell_: click on the cell, and either click \"Run\" in your toolbar, or press \"Shift + Enter\" or \"Shift + Return\"."
   ]
  },
  {
   "cell_type": "code",
   "execution_count": null,
   "metadata": {},
   "outputs": [],
   "source": [
    "1 + 1"
   ]
  },
  {
   "cell_type": "code",
   "execution_count": null,
   "metadata": {},
   "outputs": [],
   "source": [
    "The output appears below the cell.\n",
    "\n",
    "Also notice that you can't change the above code. We've programmed the worksheet that way to preserve the worksheet structure -- another plus to jupyter over RStudio here. The only cells you can change are the ones where we prompt you for input.\n",
    "\n",
    "## Class 6: The nuts and bolts of data wrangling \n",
    "\n",
    "This section of the worksheet is to be completed during Class 6: Data Wrangling II. By the end of today's class, you will be able to: *LO1*."
   ]
  }
 ],
 "metadata": {
  "kernelspec": {
   "display_name": "R",
   "language": "R",
   "name": "ir"
  },
  "language_info": {
   "codemirror_mode": "r",
   "file_extension": ".r",
   "mimetype": "text/x-r-source",
   "name": "R",
   "pygments_lexer": "r",
   "version": "4.0.2"
  }
 },
 "nbformat": 4,
 "nbformat_minor": 4
}
