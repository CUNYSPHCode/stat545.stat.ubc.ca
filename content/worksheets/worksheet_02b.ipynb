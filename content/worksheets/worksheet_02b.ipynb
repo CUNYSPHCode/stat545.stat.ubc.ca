{
 "cells": [
  {
   "cell_type": "markdown",
   "metadata": {
    "deletable": false,
    "editable": false,
    "nbgrader": {
     "cell_type": "markdown",
     "checksum": "a54608a503b39e5eb99f195a2be9e687",
     "grade": false,
     "grade_id": "cell-441786adbe710cac",
     "locked": true,
     "schema_version": 3,
     "solution": false,
     "task": false
    }
   },
   "source": [
    "# Worksheet 02b: Nesting, List Columns, and `purrr`\n",
    "_**Leader:** Diana Lin **Reviewer:** Iciar Fernandez **ASDA Assist:** David Kepplinger_\n",
    "\n",
    "_Version 1.0_\n",
    "\n",
    "_Attributions_: Major thanks to Firas Moosvi, as some of these questions were taken from his assignment from previous years, and the STAT547 2018-2019 Guidebook, as well as Vincenzo Coia for his ideas and input.\n",
    "\n",
    "This is the corresponding worksheet for Lecture 03b (November 3, 2020) & Lecture 04b (November 5, 2020) of STAT545B.\n",
    "\n",
    "To achieve full marks for worksheets, you will have to answer 40% of the autograded questions. For this particular worksheet, you will have to answer **6** out of the **14** autograded questions (Q15 & Q16 are not autograded). Some questions rely on answers from previous questions in order to be completed. \n",
    "\n",
    "Here are the groupings:\n",
    "\n",
    "- **Group 1**: 1, 2\n",
    "- **Group 2**: 3, 4, 5*\n",
    "- **Group 3**: 10, 11, 12\n",
    "- **Group 4**: 13, 14\n",
    "- **Individuals**: 6, 7, 8, 9\n",
    "\n",
    "\\*The questions in Group 2 can actually be answered individually, but are ideally completed as a group as they build on each other conceptually."
   ]
  },
  {
   "cell_type": "markdown",
   "metadata": {
    "deletable": false,
    "editable": false,
    "nbgrader": {
     "cell_type": "markdown",
     "checksum": "390b6ff3e837e8c56afd22c730cbb040",
     "grade": false,
     "grade_id": "cell-8cc5ec4510ee55b3",
     "locked": true,
     "schema_version": 3,
     "solution": false,
     "task": false
    }
   },
   "source": [
    "Here you can install any packages you may need. Most likely you will need to install `devtools`, to order to install the very last package `distplyr`."
   ]
  },
  {
   "cell_type": "code",
   "execution_count": null,
   "metadata": {},
   "outputs": [],
   "source": [
    "# install packages, e.g.\n",
    "# install.packages('testthat')\n",
    "# install.packages('digest')\n",
    "# install.packages('tidyverse')\n",
    "# install.packages('palmerpenguins')\n",
    "# install.packages('glue')\n",
    "# install.packages('gapminder')\n",
    "# install.packages('broom')\n",
    "# install.packages('devtools')\n",
    "# devtools::install_github('vincenzocoia/distplyr')"
   ]
  },
  {
   "cell_type": "markdown",
   "metadata": {
    "deletable": false,
    "editable": false,
    "nbgrader": {
     "cell_type": "markdown",
     "checksum": "63085ee6cac2776d0416375999f9f341",
     "grade": false,
     "grade_id": "cell-ba195caeb6611825",
     "locked": true,
     "schema_version": 3,
     "solution": false,
     "task": false
    }
   },
   "source": [
    "Here you can load any packages you may need:"
   ]
  },
  {
   "cell_type": "code",
   "execution_count": null,
   "metadata": {},
   "outputs": [],
   "source": [
    "# load packages, e.g.\n",
    "# library(devtools)"
   ]
  },
  {
   "cell_type": "markdown",
   "metadata": {
    "deletable": false,
    "editable": false,
    "nbgrader": {
     "cell_type": "markdown",
     "checksum": "7f447245803ba05ee11f41a7d54063f2",
     "grade": false,
     "grade_id": "cell-36079eb22ff9fcd4",
     "locked": true,
     "schema_version": 3,
     "solution": false,
     "task": false
    }
   },
   "source": [
    "Here are the packages _we need_ for this worksheet:"
   ]
  },
  {
   "cell_type": "code",
   "execution_count": null,
   "metadata": {
    "deletable": false,
    "editable": false,
    "nbgrader": {
     "cell_type": "code",
     "checksum": "11392885474f3e2a5d8fa0505b25690f",
     "grade": false,
     "grade_id": "cell-04b3e77f6b2aa884",
     "locked": true,
     "schema_version": 3,
     "solution": false,
     "task": false
    }
   },
   "outputs": [],
   "source": [
    "library(testthat)\n",
    "library(digest)\n",
    "library(tidyverse)\n",
    "library(palmerpenguins)\n",
    "library(glue)\n",
    "library(gapminder)\n",
    "library(broom)\n",
    "library(distplyr)"
   ]
  },
  {
   "cell_type": "markdown",
   "metadata": {
    "deletable": false,
    "editable": false,
    "nbgrader": {
     "cell_type": "markdown",
     "checksum": "c6f790be9faec6f3a5ff7c63420c413d",
     "grade": false,
     "grade_id": "cell-3f5f8e1e41f41aaa",
     "locked": true,
     "schema_version": 3,
     "solution": false,
     "task": false
    }
   },
   "source": [
    "## Nesting and List Columns\n",
    "\n",
    "_One_ of the ways a list-column can be made is by using `nest()`."
   ]
  },
  {
   "cell_type": "markdown",
   "metadata": {
    "deletable": false,
    "editable": false,
    "nbgrader": {
     "cell_type": "markdown",
     "checksum": "f59f3df81c01e7b237df67242d99c00f",
     "grade": false,
     "grade_id": "cell-b15e31f5618b8b6d",
     "locked": true,
     "schema_version": 3,
     "solution": false,
     "task": false
    }
   },
   "source": [
    "**QUESTION 1**: Create a tibble that bundles everything in `gapminder` except for `country` and `continent` into a list-column. Name your list column `other` (without using `rename()` or `mutate()`). Store your answer in `answer1`.\n",
    "\n",
    "```r\n",
    "\n",
    "(answer1 <- gapminder %>%\n",
    "   nest(FILL_THIS_IN = FILL_THIS_IN))\n",
    "```"
   ]
  },
  {
   "cell_type": "code",
   "execution_count": null,
   "metadata": {
    "deletable": false,
    "nbgrader": {
     "cell_type": "code",
     "checksum": "04419476cbeea92e32d38987599b9216",
     "grade": false,
     "grade_id": "cell-3a01a9b84f3cf2e5",
     "locked": false,
     "schema_version": 3,
     "solution": true,
     "task": false
    }
   },
   "outputs": [],
   "source": [
    "# your code here\n",
    "fail() # No Answer - remove if you provide an answer"
   ]
  },
  {
   "cell_type": "code",
   "execution_count": null,
   "metadata": {
    "deletable": false,
    "editable": false,
    "nbgrader": {
     "cell_type": "code",
     "checksum": "9bb726454a97623d3cd53ab9b76f0af0",
     "grade": true,
     "grade_id": "cell-36f1c148426a4e9b",
     "locked": true,
     "points": 1,
     "schema_version": 3,
     "solution": false,
     "task": false
    }
   },
   "outputs": [],
   "source": [
    "test_that('Question 1', {\n",
    "    expect_known_hash(enc2utf8(sapply(answer1$other, colnames)), 'ceba7fd58def34a537b5b13430a7ec2a')\n",
    "    expect_known_hash(sapply(answer1$other, dim), '388a8eae98b3cb184d3fe8ed8dd46916')\n",
    "    expect_known_hash(sapply(answer1$other, `[[`, 'year'), '0370844f5c0d097891d284949811883e')\n",
    "})\n",
    "cat('Success!')"
   ]
  },
  {
   "cell_type": "markdown",
   "metadata": {
    "deletable": false,
    "editable": false,
    "nbgrader": {
     "cell_type": "markdown",
     "checksum": "10d57ac779c285171bbf6398f8767868",
     "grade": false,
     "grade_id": "cell-2aaa2f11e285f2bf",
     "locked": true,
     "schema_version": 3,
     "solution": false,
     "task": false
    }
   },
   "source": [
    "Why would we use list-columns? Here is a use case.\n",
    "\n",
    "**QUESTION 2**: _Reproducibly_ randomly sample 5 countries in the `gapminder` tibble. Store your answer in `answer2`.\n",
    "\n",
    "```r\n",
    "FILL_THIS_IN(123)\n",
    "(answer2 <- gapminder %>%\n",
    "    nest(FILL_THIS_IN = FILL_THIS_IN) %>% \n",
    "    sample_n(5) %>% \n",
    "    unnest(cols = FILL_THIS_IN))\n",
    "```"
   ]
  },
  {
   "cell_type": "code",
   "execution_count": null,
   "metadata": {
    "deletable": false,
    "nbgrader": {
     "cell_type": "code",
     "checksum": "6227a0ba70dfd8e4f16d1e7f94750139",
     "grade": false,
     "grade_id": "cell-7d3cc906a94b6b46",
     "locked": false,
     "schema_version": 3,
     "solution": true,
     "task": false
    }
   },
   "outputs": [],
   "source": [
    "# your code here\n",
    "fail() # No Answer - remove if you provide an answer"
   ]
  },
  {
   "cell_type": "code",
   "execution_count": null,
   "metadata": {
    "deletable": false,
    "editable": false,
    "nbgrader": {
     "cell_type": "code",
     "checksum": "910e1185db40b1590e48d2dbbb05f72d",
     "grade": true,
     "grade_id": "cell-7e8ef7ae30e0fd6a",
     "locked": true,
     "points": 1,
     "schema_version": 3,
     "solution": false,
     "task": false
    }
   },
   "outputs": [],
   "source": [
    "test_that('Question 2', {\n",
    "    expect_known_hash(sort(enc2utf8(as.character(answer2$country)), method = 'radix'), 'ca060e5983d51a09aeb24c2393462353')\n",
    "    expect_known_hash(round(answer2$gdpPercap[order(enc2utf8(as.character(answer2$country)), method = 'radix')], 3), '75d94ea77a21140b54a374ed59f2253a')\n",
    "})\n",
    "cat('Success!')"
   ]
  },
  {
   "cell_type": "markdown",
   "metadata": {
    "deletable": false,
    "editable": false,
    "nbgrader": {
     "cell_type": "markdown",
     "checksum": "174cdbfb03c4637844394b7d9611ce0a",
     "grade": false,
     "grade_id": "cell-b8ef43336df77928",
     "locked": true,
     "schema_version": 3,
     "solution": false,
     "task": false
    }
   },
   "source": [
    "## Exploring `purrr` Fundamentals\n",
    "\n",
    "The `purrr` package is also part of the `tidyverse`.\n",
    "\n",
    "Apply a function to each element in a list/vector with `map`.\n",
    "\n",
    "General usage: `purrr::map(VECTOR_OR_LIST, YOUR_FUNCTION)`\n",
    "\n",
    "Note:\n",
    "\n",
    "- `map` always returns a list.\n",
    "- `YOUR_FUNCTION` can return anything!\n",
    "\n",
    "There are many variations of `map_*`, which you can find in this [cheatsheet](https://github.com/rstudio/cheatsheets/blob/master/purrr.pdf)."
   ]
  },
  {
   "cell_type": "markdown",
   "metadata": {
    "deletable": false,
    "editable": false,
    "nbgrader": {
     "cell_type": "markdown",
     "checksum": "baea791bdaa2fae2260b4e15b3176ef6",
     "grade": false,
     "grade_id": "cell-39402bc67d445e29",
     "locked": true,
     "schema_version": 3,
     "solution": false,
     "task": false
    }
   },
   "source": [
    "For the next few tasks, you will be converting for-loop(s) to vectorized expressions that reproduce the output (numbers should be the same, the format can be different).\n",
    "\n",
    "**QUESTION 3**: Without using vectorization, take the square root of the following vector:"
   ]
  },
  {
   "cell_type": "code",
   "execution_count": null,
   "metadata": {
    "deletable": false,
    "editable": false,
    "nbgrader": {
     "cell_type": "code",
     "checksum": "b9fd99c626cde4c068997118d3a65d68",
     "grade": false,
     "grade_id": "cell-cf14f37393dfb8aa",
     "locked": true,
     "schema_version": 3,
     "solution": false,
     "task": false
    }
   },
   "outputs": [],
   "source": [
    "x <- 1:10"
   ]
  },
  {
   "cell_type": "markdown",
   "metadata": {
    "deletable": false,
    "editable": false,
    "nbgrader": {
     "cell_type": "markdown",
     "checksum": "837e931219099b3b3f4619390d981534",
     "grade": false,
     "grade_id": "cell-a05a931e588540a5",
     "locked": true,
     "schema_version": 3,
     "solution": false,
     "task": false
    }
   },
   "source": [
    "Store your answer in `answer3`:\n",
    "\n",
    "```r\n",
    "(answer3 <- map(FILL_THIS_IN, FILL_THIS_IN))\n",
    "```"
   ]
  },
  {
   "cell_type": "code",
   "execution_count": null,
   "metadata": {
    "deletable": false,
    "nbgrader": {
     "cell_type": "code",
     "checksum": "5cf3e115f3d2b7bbd7edbbc995ec09a3",
     "grade": false,
     "grade_id": "cell-6284b5e7fedca3b9",
     "locked": false,
     "schema_version": 3,
     "solution": true,
     "task": false
    }
   },
   "outputs": [],
   "source": [
    "# your code here\n",
    "fail() # No Answer - remove if you provide an answer"
   ]
  },
  {
   "cell_type": "code",
   "execution_count": null,
   "metadata": {
    "deletable": false,
    "editable": false,
    "nbgrader": {
     "cell_type": "code",
     "checksum": "e8a617317a9d19e2d51320e30d49db8f",
     "grade": true,
     "grade_id": "cell-24f033554d4e73c0",
     "locked": true,
     "points": 1,
     "schema_version": 3,
     "solution": false,
     "task": false
    }
   },
   "outputs": [],
   "source": [
    "test_that('Question 3', {\n",
    "    expect_known_hash(mode(answer3), '086ebc4c59c08c43e75bae74f1e16897')\n",
    "    expect_known_hash(round(unlist(answer3), 4), 'ad16817e39d61cdf2ce38234f61306de')\n",
    "})\n",
    "cat('Success!')"
   ]
  },
  {
   "cell_type": "markdown",
   "metadata": {
    "deletable": false,
    "editable": false,
    "nbgrader": {
     "cell_type": "markdown",
     "checksum": "4b2533fa185de4381b0b106a5156224a",
     "grade": false,
     "grade_id": "cell-d71be613854f3101",
     "locked": true,
     "schema_version": 3,
     "solution": false,
     "task": false
    }
   },
   "source": [
    "In Question 3, we used the generic `map` function, and got a list. Let's use a more specific `map_*` function this time.\n",
    "\n",
    "**QUESTION 4**: Without using vectorization, square each component of `x`. Store your answer in `answer4`:\n",
    "\n",
    "```r\n",
    "(answer4 <- map_dbl(FILL_THIS_IN, FILL_THIS_IN))\n",
    "```\n",
    "\n",
    "_Hint:_ The last `FILL_THIS_IN` corresponds to an anonymous function!"
   ]
  },
  {
   "cell_type": "code",
   "execution_count": null,
   "metadata": {
    "deletable": false,
    "nbgrader": {
     "cell_type": "code",
     "checksum": "1ff9f71929ccdaa787f303e251357aa4",
     "grade": false,
     "grade_id": "cell-7ef5e38acec39a45",
     "locked": false,
     "schema_version": 3,
     "solution": true,
     "task": false
    }
   },
   "outputs": [],
   "source": [
    "# your code here\n",
    "fail() # No Answer - remove if you provide an answer"
   ]
  },
  {
   "cell_type": "code",
   "execution_count": null,
   "metadata": {
    "deletable": false,
    "editable": false,
    "nbgrader": {
     "cell_type": "code",
     "checksum": "5aeff6f9c7f1f6806f5e93ef0407ecaf",
     "grade": true,
     "grade_id": "cell-e973a44a4a26e248",
     "locked": true,
     "points": 1,
     "schema_version": 3,
     "solution": false,
     "task": false
    }
   },
   "outputs": [],
   "source": [
    "test_that('Question 4', {\n",
    "    expect_known_hash(mode(answer4), '46606ee201b428a3fa6c8a0d3d9e671c')\n",
    "    expect_known_hash(round(unlist(answer4), 4), '84a2193460cb35ff884e4c3144abf122')\n",
    "})\n",
    "cat('Success!')"
   ]
  },
  {
   "cell_type": "markdown",
   "metadata": {
    "deletable": false,
    "editable": false,
    "nbgrader": {
     "cell_type": "markdown",
     "checksum": "45f6bf77e35af59991b50287819db876",
     "grade": false,
     "grade_id": "cell-4b2cd38653067dca",
     "locked": true,
     "schema_version": 3,
     "solution": false,
     "task": false
    }
   },
   "source": [
    "Now we've used both `map` and a more specific `map_dbl`. Now you can see how they differ, and how the use of one is better justified than the other for our purpose. Now it's your turn to choose! Remember to use the [cheatsheet](https://github.com/rstudio/cheatsheets/blob/master/purrr.pdf) if you need it!\n",
    "\n",
    "**QUESTION 5**: Below is sample code that computes the mean of every column in the `mtcars` dataset. Use the appropriate `purrr` function to vectorize this task."
   ]
  },
  {
   "cell_type": "code",
   "execution_count": null,
   "metadata": {
    "deletable": false,
    "editable": false,
    "nbgrader": {
     "cell_type": "code",
     "checksum": "7d0498becbffbb87c33495e7c0792ab7",
     "grade": false,
     "grade_id": "cell-d19221d660e2569f",
     "locked": true,
     "schema_version": 3,
     "solution": false,
     "task": false
    }
   },
   "outputs": [],
   "source": [
    "answer5 <- vector(\"double\", ncol(mtcars))\n",
    "for (c in seq_along(mtcars)){\n",
    "  answer5[[c]] <- mean(mtcars[[c]])\n",
    "}\n",
    "answer5"
   ]
  },
  {
   "cell_type": "markdown",
   "metadata": {
    "deletable": false,
    "editable": false,
    "nbgrader": {
     "cell_type": "markdown",
     "checksum": "f95cee7683755cc633b0cf0eb2747238",
     "grade": false,
     "grade_id": "cell-7149931321d1676e",
     "locked": true,
     "schema_version": 3,
     "solution": false,
     "task": false
    }
   },
   "source": [
    "Store your answer in `answer5`. _Remember to choose the correct `purrr` function_!\n",
    "\n",
    "```r\n",
    "(answer5 <- FILL_THIS_IN(mtcars, FILL_THIS_IN))\n",
    "```"
   ]
  },
  {
   "cell_type": "code",
   "execution_count": null,
   "metadata": {
    "deletable": false,
    "nbgrader": {
     "cell_type": "code",
     "checksum": "18bf4d5ccdec9bbe191a6cf152ec598a",
     "grade": false,
     "grade_id": "cell-57149cc846945d50",
     "locked": false,
     "schema_version": 3,
     "solution": true,
     "task": false
    }
   },
   "outputs": [],
   "source": [
    "# your code here\n",
    "fail() # No Answer - remove if you provide an answer"
   ]
  },
  {
   "cell_type": "code",
   "execution_count": null,
   "metadata": {
    "deletable": false,
    "editable": false,
    "nbgrader": {
     "cell_type": "code",
     "checksum": "89696262d1c12a9369f3d18ce35fab13",
     "grade": true,
     "grade_id": "cell-4bee819e10679644",
     "locked": true,
     "points": 1,
     "schema_version": 3,
     "solution": false,
     "task": false
    }
   },
   "outputs": [],
   "source": [
    "test_that('Question 5', {\n",
    "    expect_known_hash(mode(answer5), '46606ee201b428a3fa6c8a0d3d9e671c')\n",
    "    expect_known_hash(round(answer5, 4), '3cc39a0fa3065dcf3186737c827b983a')\n",
    "})\n",
    "cat('Success!')"
   ]
  },
  {
   "cell_type": "markdown",
   "metadata": {
    "deletable": false,
    "editable": false,
    "nbgrader": {
     "cell_type": "markdown",
     "checksum": "5bd16e81dcfb7ec7ae8555f45e93a22d",
     "grade": false,
     "grade_id": "cell-220c9bc0fde4d12c",
     "locked": true,
     "schema_version": 3,
     "solution": false,
     "task": false
    }
   },
   "source": [
    "**QUESTION 6**: Below is sample code that divides the values in each column of the `mtcars` dataset by the maximum in that column. Underneath it is a vectorized method using `purrr`, returning a list, but we want a data frame instead."
   ]
  },
  {
   "cell_type": "code",
   "execution_count": null,
   "metadata": {
    "deletable": false,
    "editable": false,
    "nbgrader": {
     "cell_type": "code",
     "checksum": "44f8fb5c8a3555dad8066de37bbc8c44",
     "grade": false,
     "grade_id": "cell-0b06d241b2c23867",
     "locked": true,
     "schema_version": 3,
     "solution": false,
     "task": false
    }
   },
   "outputs": [],
   "source": [
    "for (c in seq_along(datasets::mtcars)){\n",
    "  mtcars[[c]] <- datasets::mtcars[[c]] / max(datasets::mtcars[[c]], na.rm = TRUE)\n",
    "}\n",
    "head(mtcars)"
   ]
  },
  {
   "cell_type": "code",
   "execution_count": null,
   "metadata": {
    "deletable": false,
    "editable": false,
    "nbgrader": {
     "cell_type": "code",
     "checksum": "ee0a5377cb2eb8fc0ce6e351031033a1",
     "grade": false,
     "grade_id": "cell-52d52aad36149942",
     "locked": true,
     "schema_version": 3,
     "solution": false,
     "task": false
    }
   },
   "outputs": [],
   "source": [
    "map(datasets::mtcars, function(x) x / max(x))"
   ]
  },
  {
   "cell_type": "markdown",
   "metadata": {
    "deletable": false,
    "editable": false,
    "nbgrader": {
     "cell_type": "markdown",
     "checksum": "d50784dbc30ebe0ef1d282aa7d9582a9",
     "grade": false,
     "grade_id": "cell-b686b505db635e53",
     "locked": true,
     "schema_version": 3,
     "solution": false,
     "task": false
    }
   },
   "source": [
    "Find a way to do this using a _`purrr`-style_ function, using only `dplyr` functions! Store your answer in `answer6`:\n",
    "\n",
    "```r\n",
    "(answer6 <- datasets::mtcars %>%\n",
    "  mutate(FILL_THIS_IN(FILL_THIS_IN, FILL_THIS_IN)))\n",
    " ```\n",
    " \n",
    " _Hint_: The last `FILL_THIS_IN` corresponds to an anonymous function!"
   ]
  },
  {
   "cell_type": "code",
   "execution_count": null,
   "metadata": {
    "deletable": false,
    "nbgrader": {
     "cell_type": "code",
     "checksum": "041255f85d1f0aa843b78485cb8d1c94",
     "grade": false,
     "grade_id": "cell-b23dda8894947ec3",
     "locked": false,
     "schema_version": 3,
     "solution": true,
     "task": false
    }
   },
   "outputs": [],
   "source": [
    "# your code here\n",
    "fail() # No Answer - remove if you provide an answer"
   ]
  },
  {
   "cell_type": "code",
   "execution_count": null,
   "metadata": {
    "deletable": false,
    "editable": false,
    "nbgrader": {
     "cell_type": "code",
     "checksum": "18c6d06bba2bdee60c91510f868aa1af",
     "grade": true,
     "grade_id": "cell-e910c3a832bde7db",
     "locked": true,
     "points": 1,
     "schema_version": 3,
     "solution": false,
     "task": false
    }
   },
   "outputs": [],
   "source": [
    "test_that('Question 6', {\n",
    "    expect_known_hash(class(answer6), '555434c8748e07b094500256087cdcc5')\n",
    "    expect_known_hash(dimnames(answer6), 'e2f4b6e88adcdd56d67bba21719be092')\n",
    "    expect_known_hash(round(answer6$mpg, 3), 'af82f570a0aa02d8abcbbd14386e98b0')\n",
    "})\n",
    "cat('Success!')"
   ]
  },
  {
   "cell_type": "markdown",
   "metadata": {
    "deletable": false,
    "editable": false,
    "nbgrader": {
     "cell_type": "markdown",
     "checksum": "cb38bec5bdb6c07dcb6e287df13620df",
     "grade": false,
     "grade_id": "cell-a64951f7e39e10be",
     "locked": true,
     "schema_version": 3,
     "solution": false,
     "task": false
    }
   },
   "source": [
    "**QUESTION 7**: Below is sample code that creates a ggplot with fuel efficiency on the x-axis and horsepower on the y-axis for three cylinder levels (4, 6, 8). Use the appropriate `purrr` function to vectorize this task."
   ]
  },
  {
   "cell_type": "code",
   "execution_count": null,
   "metadata": {
    "deletable": false,
    "editable": false,
    "nbgrader": {
     "cell_type": "code",
     "checksum": "cb9e1fc2e3a72f78abcec5e4b43e096e",
     "grade": false,
     "grade_id": "cell-e86a9dcf7d98e685",
     "locked": true,
     "schema_version": 3,
     "solution": false,
     "task": false
    }
   },
   "outputs": [],
   "source": [
    "cylinders <- sort(unique(datasets::mtcars[['cyl']]))\n",
    "answer7 <- vector(\"list\",length(cylinders))\n",
    "for (d in 1:length(cylinders)){\n",
    "  answer7[[d]] <- datasets::mtcars %>% \n",
    "    filter(cyl == cylinders[d]) %>%\n",
    "    ggplot() + \n",
    "    theme_bw() +\n",
    "    geom_point(aes(x = mpg, y = hp) ) + \n",
    "    labs(x = 'Fuel efficiency (mpg)',\n",
    "         y = 'Horsepower (hp)') + \n",
    "    ggtitle(glue(\"Horsepower and Fuel efficiency for {cylinders[d]} cylinders\"))\n",
    "}"
   ]
  },
  {
   "cell_type": "markdown",
   "metadata": {},
   "source": [
    "You see that with the code above, nothing was printed. Now, for every plot in our list `answer7`, we want to print each plot. To do this, we can use `walk()`, another `purrr` function:\n",
    "\n",
    "```r\n",
    "walk(.x, .f, ...)\n",
    "```\n",
    "\n",
    "From the [documentation](https://purrr.tidyverse.org/reference/map.html):\n",
    "\n",
    "|Argument|Description|\n",
    "|--------|-----------|\n",
    "|`.x`| A list or atomic vector |\n",
    "|`.f`| A function, formula, or vector |\n",
    "\n",
    "\n",
    "> `walk()` calls `.f` for its side-effect and returns the input `.x`\n",
    "\n",
    "This allows us to 'iterate' through our list of plots and print them."
   ]
  },
  {
   "cell_type": "code",
   "execution_count": null,
   "metadata": {
    "deletable": false,
    "editable": false,
    "nbgrader": {
     "cell_type": "code",
     "checksum": "f41c4f4e0b8b61d830a171578da41aa7",
     "grade": false,
     "grade_id": "cell-1d01ed164eacc04f",
     "locked": true,
     "schema_version": 3,
     "solution": false,
     "task": false
    }
   },
   "outputs": [],
   "source": [
    "walk(answer7, print)"
   ]
  },
  {
   "cell_type": "markdown",
   "metadata": {},
   "source": [
    "_Sidenote:_ `glue()` is a function that works like `paste()`, but `glue` increases readability (and allows creation of variables on the fly, etc.) Read more about `glue()` [here](https://www.tidyverse.org/blog/2017/10/glue-1.2.0/).\n",
    "\n",
    "Example:"
   ]
  },
  {
   "cell_type": "code",
   "execution_count": null,
   "metadata": {},
   "outputs": [],
   "source": [
    "# define our variables\n",
    "tues <- 3\n",
    "thurs <- 4\n",
    "\n",
    "# using the above predefined variables\n",
    "paste(\"Tuesday is lecture\", tues, \"and Thursday is lecture\", thurs)\n",
    "glue(\"Tuesday is lecture {tues} and Thursday is lecture {thurs}.\")\n",
    "\n",
    "# create a variable on the fly\n",
    "glue(\"Tuesday is lecture {tues <- 3} and Thursday is lecture {tues + 1}.\")"
   ]
  },
  {
   "cell_type": "markdown",
   "metadata": {
    "deletable": false,
    "editable": false,
    "nbgrader": {
     "cell_type": "markdown",
     "checksum": "91c6bd70fdc07c6b5a1c22ec29872341",
     "grade": false,
     "grade_id": "cell-247b73192a47326b",
     "locked": true,
     "schema_version": 3,
     "solution": false,
     "task": false
    }
   },
   "source": [
    "Now it's your turn. Use the appropriate `purrr` function to vectorize the for loop above. Store your answer into `answer7`, and then use `walk` to print your plot.\n",
    "\n",
    "```r\n",
    "answer7 <- FILL_THIS_IN(FILL_THIS_IN, FILL_THIS_IN datasets::mtcars %>% \n",
    "    filter(cyl == FILL _THIS_IN[FILL_THIS_IN]) %>%\n",
    "    ggplot() + \n",
    "    theme_bw() +\n",
    "    geom_point(aes(x = mpg, y = hp) ) + \n",
    "    labs(x = 'Fuel efficiency (mpg)',\n",
    "         y = 'Horsepower (hp)') + \n",
    "    ggtitle(glue(FILL_THIS_IN)))\n",
    "walk(answer7, FILL_THIS_IN)\n",
    "```\n",
    "\n",
    "_Hint:_ Use an anonymous function. The `~` shorthand can be used as well. The third `FILL_THIS_IN` corresponds to an anonymous function."
   ]
  },
  {
   "cell_type": "code",
   "execution_count": null,
   "metadata": {
    "deletable": false,
    "nbgrader": {
     "cell_type": "code",
     "checksum": "de1f04ffed4dfc8334f0bfe7ddd1c7c6",
     "grade": false,
     "grade_id": "cell-c05b240819dfbeb2",
     "locked": false,
     "schema_version": 3,
     "solution": true,
     "task": false
    }
   },
   "outputs": [],
   "source": [
    "# your code here\n",
    "fail() # No Answer - remove if you provide an answer"
   ]
  },
  {
   "cell_type": "code",
   "execution_count": null,
   "metadata": {
    "deletable": false,
    "editable": false,
    "nbgrader": {
     "cell_type": "code",
     "checksum": "927804d2b05006353a77ad2b50368e6c",
     "grade": true,
     "grade_id": "cell-ed234b047adf91c0",
     "locked": true,
     "points": 1,
     "schema_version": 3,
     "solution": false,
     "task": false
    }
   },
   "outputs": [],
   "source": [
    "test_that('Question 7', {\n",
    "    expect_known_hash(lapply(answer7, class), 'e4cc620580d23510a19096fa70dfdb54')\n",
    "    expect_known_hash(lapply(answer7, function (a) dimnames(a$data)), '5cd534fa153cf3feacea3b30794c8b0a')\n",
    "})\n",
    "cat('Success!')"
   ]
  },
  {
   "cell_type": "markdown",
   "metadata": {
    "deletable": false,
    "editable": false,
    "nbgrader": {
     "cell_type": "markdown",
     "checksum": "96093833a0b2772d5693731d8c9c8f3e",
     "grade": false,
     "grade_id": "cell-58c45fca89760512",
     "locked": true,
     "schema_version": 3,
     "solution": false,
     "task": false
    }
   },
   "source": [
    "**QUESTION 8**: Below is sample code that computes the number of unique values in each column of `mtcars` as a named vector, using for-loops. Use the appropriate `purrr` function to vectorize this task."
   ]
  },
  {
   "cell_type": "code",
   "execution_count": null,
   "metadata": {
    "deletable": false,
    "editable": false,
    "nbgrader": {
     "cell_type": "code",
     "checksum": "a9952555f0019eaf9372b46ca75619aa",
     "grade": false,
     "grade_id": "cell-575f9f96064b2ff8",
     "locked": true,
     "schema_version": 3,
     "solution": false,
     "task": false
    }
   },
   "outputs": [],
   "source": [
    "answer8 <- vector(\"double\", ncol(datasets::mtcars))\n",
    "for (c in seq_along(datasets::mtcars)){\n",
    "  answer8[[c]] <- length(unique(datasets::mtcars[[c]]))\n",
    "}\n",
    "names(answer8) <- names(datasets::mtcars)\n",
    "answer8"
   ]
  },
  {
   "cell_type": "markdown",
   "metadata": {
    "deletable": false,
    "editable": false,
    "nbgrader": {
     "cell_type": "markdown",
     "checksum": "6a7be8ad1ed2822e69caea9ad17563a4",
     "grade": false,
     "grade_id": "cell-90e334b74bac1fa5",
     "locked": true,
     "schema_version": 3,
     "solution": false,
     "task": false
    }
   },
   "source": [
    "Store your answer in `answer8`:\n",
    "\n",
    "```r\n",
    "(answer8 <- datasets::mtcars %>% \n",
    "    FILL_THIS_IN(FILL_THIS_IN) %>% \n",
    "    FILL_THIS_IN(FILL_THIS_IN))\n",
    "```"
   ]
  },
  {
   "cell_type": "code",
   "execution_count": null,
   "metadata": {
    "deletable": false,
    "nbgrader": {
     "cell_type": "code",
     "checksum": "073e9a9a4522a486830314b0425b6c88",
     "grade": false,
     "grade_id": "cell-bf6e549fb1e34216",
     "locked": false,
     "schema_version": 3,
     "solution": true,
     "task": false
    }
   },
   "outputs": [],
   "source": [
    "# your code here\n",
    "fail() # No Answer - remove if you provide an answer"
   ]
  },
  {
   "cell_type": "code",
   "execution_count": null,
   "metadata": {
    "deletable": false,
    "editable": false,
    "nbgrader": {
     "cell_type": "code",
     "checksum": "8487acbb2156165806c445bbcc45a2ba",
     "grade": true,
     "grade_id": "cell-01d694fdcf1ee07a",
     "locked": true,
     "points": 1,
     "schema_version": 3,
     "solution": false,
     "task": false
    }
   },
   "outputs": [],
   "source": [
    "test_that('Question 8', {\n",
    "    expect_known_hash(mode(answer8), '46606ee201b428a3fa6c8a0d3d9e671c')\n",
    "    expect_known_hash(as.integer(answer8), '1981b33e1151073e1c227fe95218c6f5')\n",
    "})\n",
    "cat('Success!')"
   ]
  },
  {
   "cell_type": "markdown",
   "metadata": {
    "deletable": false,
    "editable": false,
    "nbgrader": {
     "cell_type": "markdown",
     "checksum": "59cecb71ad853d77d06ba66d01a5d56a",
     "grade": false,
     "grade_id": "cell-52195e18965334f7",
     "locked": true,
     "schema_version": 3,
     "solution": false,
     "task": false
    }
   },
   "source": [
    "**QUESTION 9**: Below is sample code that takes input from various columns in the `diamonds` dataset and outputs a string containing information from the input. Use the appropriate `purrr` function to vectorize this task."
   ]
  },
  {
   "cell_type": "code",
   "execution_count": null,
   "metadata": {
    "deletable": false,
    "editable": false,
    "nbgrader": {
     "cell_type": "code",
     "checksum": "3b3d8ff45c871effeace8730cef78e2f",
     "grade": false,
     "grade_id": "cell-061fe49334babd4c",
     "locked": true,
     "schema_version": 3,
     "solution": false,
     "task": false
    }
   },
   "outputs": [],
   "source": [
    "dmonds <- diamonds %>% \n",
    "  slice(1:4)\n",
    "\n",
    "answer9 <- character()\n",
    "for (d in 1:nrow(dmonds)){\n",
    "  answer9[d] <- glue(\"Diamond #\", d , \n",
    "                      \" sold for $\", dmonds$price[d],\n",
    "                      \" and was \", dmonds$carat[d], \" carats\")\n",
    "}\n",
    "answer9"
   ]
  },
  {
   "cell_type": "markdown",
   "metadata": {
    "deletable": false,
    "editable": false,
    "nbgrader": {
     "cell_type": "markdown",
     "checksum": "56078d02e63124167e8fa3189710dcf7",
     "grade": false,
     "grade_id": "cell-e75ef88e07cf861d",
     "locked": true,
     "schema_version": 3,
     "solution": false,
     "task": false
    }
   },
   "source": [
    "Store your answer into `answer9`: \n",
    "\n",
    "```r\n",
    "list_of_things <- list(FILL_THIS_IN, FILL_THIS_IN, FILL_THIS_IN)\n",
    "(answer9 <- FILL_THIS_IN(list_of_things,\n",
    "                   FILL_THIS_IN glue(\"Diamond #\", FILL_THIS_IN,\n",
    "                                     \" sold for $\", FILL_THIS_IN,\n",
    "                                     \" and was \", FILL_THIS_IN, \" carats\")))\n",
    "```\n",
    "\n",
    "_Hint_: Use an anonymous function using the `~` formula shorthand."
   ]
  },
  {
   "cell_type": "code",
   "execution_count": null,
   "metadata": {
    "deletable": false,
    "nbgrader": {
     "cell_type": "code",
     "checksum": "5674717882416d11c455016447600b3d",
     "grade": false,
     "grade_id": "cell-fb92fca6d1d95d87",
     "locked": false,
     "schema_version": 3,
     "solution": true,
     "task": false
    }
   },
   "outputs": [],
   "source": [
    "# your code here\n",
    "fail() # No Answer - remove if you provide an answer"
   ]
  },
  {
   "cell_type": "code",
   "execution_count": null,
   "metadata": {
    "deletable": false,
    "editable": false,
    "nbgrader": {
     "cell_type": "code",
     "checksum": "6237cc190efaec5e26260e9bc9ff5a2c",
     "grade": true,
     "grade_id": "cell-fac9fc818d23b580",
     "locked": true,
     "points": 1,
     "schema_version": 3,
     "solution": false,
     "task": false
    }
   },
   "outputs": [],
   "source": [
    "test_that('Question 9', {\n",
    "    expect_known_hash(mode(answer9), 'af31d61b8795057ce1ce2e040685107c')\n",
    "    expect_known_hash(enc2utf8(answer9), '9e2cb5c733e819bd84b9f75a6832c7ae')\n",
    "})\n",
    "cat('Success!')"
   ]
  },
  {
   "cell_type": "markdown",
   "metadata": {
    "deletable": false,
    "editable": false,
    "nbgrader": {
     "cell_type": "markdown",
     "checksum": "f551d3d1ad3ed61d65cd521c5349e98d",
     "grade": false,
     "grade_id": "cell-08836080ad992c26",
     "locked": true,
     "schema_version": 3,
     "solution": false,
     "task": false
    }
   },
   "source": [
    "**QUESTION 10**: Let's use `purrr` to make probability distributions. The Generalized Pareto Distribution is a three-parameter distribution, so if we wanted to make a bunch of these distributions, we'd need a `purrr` function to plug in the three parameters. To make the GPD distributions, we can use a function called `dst_gpd()`. Here are the parameters of our 5 GPD distributions:"
   ]
  },
  {
   "cell_type": "code",
   "execution_count": null,
   "metadata": {
    "deletable": false,
    "editable": false,
    "nbgrader": {
     "cell_type": "code",
     "checksum": "28f8381c73f4f28fb0588cfae61e1839",
     "grade": false,
     "grade_id": "cell-4c98a73fa96ac4a0",
     "locked": true,
     "schema_version": 3,
     "solution": false,
     "task": false
    }
   },
   "outputs": [],
   "source": [
    "(parameters <- tibble(loc   = c(105, 99, 120, 119, 111),\n",
    "                      scale = c(12.2, 13.5, 18.5, 9.2, 15.5),\n",
    "                      shape = c(0.4, 0.9, 0.5, 0.6, 0.4)))"
   ]
  },
  {
   "cell_type": "markdown",
   "metadata": {
    "deletable": false,
    "editable": false,
    "nbgrader": {
     "cell_type": "markdown",
     "checksum": "1495ff55bde983ef4d72e6e78099dd6f",
     "grade": false,
     "grade_id": "cell-58f032107ffa80dd",
     "locked": true,
     "schema_version": 3,
     "solution": false,
     "task": false
    }
   },
   "source": [
    "Store your answer in `answer10`:\n",
    "\n",
    "```r\n",
    "(answer10 <- FILL_THIS_IN(FILL_THIS_IN, FILL_THIS_IN))\n",
    "```"
   ]
  },
  {
   "cell_type": "code",
   "execution_count": null,
   "metadata": {
    "deletable": false,
    "nbgrader": {
     "cell_type": "code",
     "checksum": "416580e0cd43dc84df7246a3a42510af",
     "grade": false,
     "grade_id": "cell-2bcd05dc3ff9bfa9",
     "locked": false,
     "schema_version": 3,
     "solution": true,
     "task": false
    }
   },
   "outputs": [],
   "source": [
    "# your code here\n",
    "fail() # No Answer - remove if you provide an answer"
   ]
  },
  {
   "cell_type": "code",
   "execution_count": null,
   "metadata": {
    "deletable": false,
    "editable": false,
    "nbgrader": {
     "cell_type": "code",
     "checksum": "db900d2f7fa910379085d9a20aa2efc7",
     "grade": true,
     "grade_id": "cell-4f59cc325554b20f",
     "locked": true,
     "points": 1,
     "schema_version": 3,
     "solution": false,
     "task": false
    }
   },
   "outputs": [],
   "source": [
    "test_that('Question 10', {\n",
    "    expect_known_hash(mode(answer10), '086ebc4c59c08c43e75bae74f1e16897')\n",
    "    expect_known_hash(sapply(answer10, class), 'ee7cb82281be52ed29f760d8f17b5792')\n",
    "    expect_known_hash(sapply(answer10, names), '2bd1810a814c7c80e0e8d74f70b42dc7')\n",
    "    expect_known_hash(round(unlist(lapply(answer10, `[[`, 'parameters'), use.names = FALSE), 3), '10cf852189f399f692919183ba3379f4')\n",
    "})\n",
    "cat('Success!')"
   ]
  },
  {
   "cell_type": "markdown",
   "metadata": {
    "deletable": false,
    "editable": false,
    "nbgrader": {
     "cell_type": "markdown",
     "checksum": "ef8d94eea31c68726104cb71451baf64",
     "grade": false,
     "grade_id": "cell-443181fad3a8fe2f",
     "locked": true,
     "schema_version": 3,
     "solution": false,
     "task": false
    }
   },
   "source": [
    "**QUESTION 11**: The following graph displays the probability density function of the first GPD. Modify the code using `purrr` so that all 5 density functions are displayed. Store your answer in `answer11`."
   ]
  },
  {
   "cell_type": "code",
   "execution_count": null,
   "metadata": {
    "deletable": false,
    "editable": false,
    "nbgrader": {
     "cell_type": "code",
     "checksum": "e889835edb8e3ca1a8d7429ed884da39",
     "grade": false,
     "grade_id": "cell-caaa34f4f31b0c5e",
     "locked": true,
     "schema_version": 3,
     "solution": false,
     "task": false
    }
   },
   "outputs": [],
   "source": [
    "(answer11 <- tibble(x = c(50, 400)) %>%\n",
    "  ggplot(aes(x)) +\n",
    "  stat_function(fun = get_density(answer10[[1]]), alpha = 0.25) +\n",
    "  theme_minimal() +\n",
    "  labs(y = \"Density\"))"
   ]
  },
  {
   "cell_type": "code",
   "execution_count": null,
   "metadata": {
    "deletable": false,
    "nbgrader": {
     "cell_type": "code",
     "checksum": "cead7c4692d150fe84ea3f090d21cf32",
     "grade": false,
     "grade_id": "cell-bce1cb8f35c4c1f2",
     "locked": false,
     "schema_version": 3,
     "solution": true,
     "task": false
    }
   },
   "outputs": [],
   "source": [
    "# your code here\n",
    "fail() # No Answer - remove if you provide an answer"
   ]
  },
  {
   "cell_type": "code",
   "execution_count": null,
   "metadata": {
    "deletable": false,
    "editable": false,
    "nbgrader": {
     "cell_type": "code",
     "checksum": "6f85fa11c001d36516f8e09f494b811d",
     "grade": true,
     "grade_id": "cell-56ac8495a9a833c8",
     "locked": true,
     "points": 1,
     "schema_version": 3,
     "solution": false,
     "task": false
    }
   },
   "outputs": [],
   "source": [
    "test_that('Question 11', {\n",
    "    expect_known_hash(class(answer11), 'f2396055c330843a8e2c8c2054acfb2d')\n",
    "    expect_known_hash(sapply(answer11$layers, class), '212c3363c21284bec0f3cbbf4f002473')\n",
    "    expect_known_hash(unlist(lapply(answer11$layers, function (l) class(l$geom))), 'd5d7a529255a566066df2b8e0051a240')\n",
    "})\n",
    "cat('Success!')"
   ]
  },
  {
   "cell_type": "markdown",
   "metadata": {
    "deletable": false,
    "editable": false,
    "nbgrader": {
     "cell_type": "markdown",
     "checksum": "e5de55ea5eb3d6c3f2562d8abccadcf8",
     "grade": false,
     "grade_id": "cell-088dac25a27d3560",
     "locked": true,
     "schema_version": 3,
     "solution": false,
     "task": false
    }
   },
   "source": [
    "### Introducing `do.call()`\n",
    "\n",
    "Let's make a mixture distribution of the above 5 GPD's using the function `distplyr::mix()`. The straightforward way to do this would be to do:"
   ]
  },
  {
   "cell_type": "code",
   "execution_count": null,
   "metadata": {
    "deletable": false,
    "editable": false,
    "nbgrader": {
     "cell_type": "code",
     "checksum": "86491e7f0e08c4eb6cc6f5f0068e44c6",
     "grade": false,
     "grade_id": "cell-2dec91428b3dc3d1",
     "locked": true,
     "schema_version": 3,
     "solution": false,
     "task": false
    }
   },
   "outputs": [],
   "source": [
    "distplyr::mix(answer10[[1]], answer10[[2]], answer10[[3]], answer10[[4]], answer10[[5]])"
   ]
  },
  {
   "cell_type": "markdown",
   "metadata": {
    "deletable": false,
    "editable": false,
    "nbgrader": {
     "cell_type": "markdown",
     "checksum": "dce4db30fec30fcefb4a3c363d665b4f",
     "grade": false,
     "grade_id": "cell-96dfbaf3c2a1ca98",
     "locked": true,
     "schema_version": 3,
     "solution": false,
     "task": false
    }
   },
   "source": [
    "How do we do this without explicitly giving all 5 GPDs? We can use `do.call()`:\n",
    "\n",
    "```r\n",
    "do.call(what, args)\n",
    "```\n",
    "\n",
    "From the [documentation](https://www.rdocumentation.org/packages/base/versions/3.6.2/topics/do.call):\n",
    "\n",
    "|Argument|Description|\n",
    "|--------|-----------|\n",
    "|`what`|either a function or a non-empty character string naming the function to be called|\n",
    "|`args`|a _list_ of arguments to the function call\n",
    "\n",
    "\n",
    "**QUESTION 12**: Use `do.call()` to call `distplyr::mix()` on the 5 GDP's. Store your answer in `answer12`.\n",
    "```r\n",
    "answer12 <- do.call(FILL_THIS_IN, FILL_THIS_IN)\n",
    "```"
   ]
  },
  {
   "cell_type": "code",
   "execution_count": null,
   "metadata": {
    "deletable": false,
    "nbgrader": {
     "cell_type": "code",
     "checksum": "28024a9755c718d1794ec70114d3c778",
     "grade": false,
     "grade_id": "cell-dad1190a6db2507f",
     "locked": false,
     "schema_version": 3,
     "solution": true,
     "task": false
    }
   },
   "outputs": [],
   "source": [
    "# your code here\n",
    "fail() # No Answer - remove if you provide an answer"
   ]
  },
  {
   "cell_type": "code",
   "execution_count": null,
   "metadata": {
    "deletable": false,
    "editable": false,
    "nbgrader": {
     "cell_type": "code",
     "checksum": "00b7e1412b4b642cf08efdd2d9c40ced",
     "grade": true,
     "grade_id": "cell-0439d034ce2a106f",
     "locked": true,
     "points": 1,
     "schema_version": 3,
     "solution": false,
     "task": false
    }
   },
   "outputs": [],
   "source": [
    "test_that('Question 12', {\n",
    "    expect_known_hash(class(answer12), 'deec76c2fe0b54d40912e147fb1aeaad')\n",
    "    expect_known_hash(answer12$name, 'b9bd27c9624c17266d444af065f6e29c')\n",
    "    expect_known_hash(unlist(lapply(answer12$components$distributions, class)), 'a442061b2621378ff95566da3e1eaa7c')\n",
    "    expect_known_hash(unlist(lapply(answer12$components$distributions, `[[`, 'parameters'), use.names = FALSE), '10cf852189f399f692919183ba3379f4')\n",
    "})\n",
    "cat('Success!')"
   ]
  },
  {
   "cell_type": "markdown",
   "metadata": {
    "deletable": false,
    "editable": false,
    "nbgrader": {
     "cell_type": "markdown",
     "checksum": "9981d90760a0671871d72d2a3d6af805",
     "grade": false,
     "grade_id": "cell-a2de145334d77ffe",
     "locked": true,
     "schema_version": 3,
     "solution": false,
     "task": false
    }
   },
   "source": [
    "Now let's combine `purrr`, nesting, and linear modelling!\n",
    "\n",
    "**QUESTION 13**: For each `gapminder` continent, fit a linear model of `lifeExp` from `log(gdpPercap)` and put this as a new column. Store your answer into `answer13`:\n",
    "\n",
    "```r\n",
    "(answer13 <- gapminder %>% \n",
    "  select(continent, gdpPercap, lifeExp) %>% \n",
    "  nest(data = c(FILL_THIS_IN, FILL_THIS_IN)) %>% \n",
    "  mutate(model = FILL_THIS_IN(data, ~ lm(FILL_THIS_IN ~ FILL_THIS_IN, data = FILL_THIS_IN))))\n",
    "```"
   ]
  },
  {
   "cell_type": "code",
   "execution_count": null,
   "metadata": {
    "deletable": false,
    "nbgrader": {
     "cell_type": "code",
     "checksum": "04013fac36ae0fb42bb019d4a1fe823f",
     "grade": false,
     "grade_id": "cell-cc531935edea8760",
     "locked": false,
     "schema_version": 3,
     "solution": true,
     "task": false
    }
   },
   "outputs": [],
   "source": [
    "# your code here\n",
    "fail() # No Answer - remove if you provide an answer"
   ]
  },
  {
   "cell_type": "code",
   "execution_count": null,
   "metadata": {
    "deletable": false,
    "editable": false,
    "nbgrader": {
     "cell_type": "code",
     "checksum": "31bc59e7f326602f552178f2eaa4ef21",
     "grade": true,
     "grade_id": "cell-4e29da44162c2305",
     "locked": true,
     "points": 1,
     "schema_version": 3,
     "solution": false,
     "task": false
    }
   },
   "outputs": [],
   "source": [
    "test_that('Question 13', {\n",
    "    expect_known_hash(sapply(answer13$model, class), '2fe5bf6c6fb725f272c801e5f7560afe')\n",
    "    expect_known_hash(round(unlist(lapply(answer13$model, coef)), 3), 'e536d3378586d3c54b920504b3238cde')\n",
    "})\n",
    "cat('Success!')"
   ]
  },
  {
   "cell_type": "markdown",
   "metadata": {},
   "source": [
    "**QUESTION 14**: Using your model from Question 13, make predictions using `augment()` from the `broom` package, and then `unnest`. Store your answer in `answer14`:\n",
    "\n",
    "```r\n",
    "(answer14 <- answer13 %>% \n",
    "  transmute(continent, yhat = map(FILL_THIS_IN, FILL_THIS_IN)) %>% \n",
    "  unnest(FILL_THIS_IN))\n",
    "```"
   ]
  },
  {
   "cell_type": "code",
   "execution_count": null,
   "metadata": {
    "deletable": false,
    "nbgrader": {
     "cell_type": "code",
     "checksum": "599fbbeabb88fc973c7a2a0beac029e5",
     "grade": false,
     "grade_id": "cell-5f6d32b6e1be426a",
     "locked": false,
     "schema_version": 3,
     "solution": true,
     "task": false
    }
   },
   "outputs": [],
   "source": [
    "# your code here\n",
    "fail() # No Answer - remove if you provide an answer"
   ]
  },
  {
   "cell_type": "code",
   "execution_count": null,
   "metadata": {
    "deletable": false,
    "editable": false,
    "nbgrader": {
     "cell_type": "code",
     "checksum": "a22f75bfe9eead8ae7240f2114257f6d",
     "grade": true,
     "grade_id": "cell-b3e5f2ec8ef04b91",
     "locked": true,
     "points": 1,
     "schema_version": 3,
     "solution": false,
     "task": false
    }
   },
   "outputs": [],
   "source": [
    "test_that('Question 14', {\n",
    "    expect_known_hash(dimnames(answer14), '5aef05c5c23749a0d5880dd697b47234')\n",
    "    expect_known_hash(round(with(answer14, .fitted[order(lifeExp)]), 3), 'f8db1a712fe6b69f7577c88882248dc5')\n",
    "    expect_known_hash(round(with(answer14, .sigma[order(lifeExp)]), 3), '83e927e2f02fd18c293c3a1ddb7a0ed2')\n",
    "})\n",
    "cat('Success!')"
   ]
  },
  {
   "cell_type": "markdown",
   "metadata": {
    "deletable": false,
    "editable": false,
    "nbgrader": {
     "cell_type": "markdown",
     "checksum": "cc960698f81229c06637fa15e215f091",
     "grade": false,
     "grade_id": "cell-135b454ad789ec90",
     "locked": true,
     "schema_version": 3,
     "solution": false,
     "task": false
    }
   },
   "source": [
    "## Writing Tests\n",
    "\n",
    "Let's try writing some tests for these `purrr` functions!\n",
    "\n",
    "These questions are _not_ for marks, and do not have autograded tests."
   ]
  },
  {
   "cell_type": "markdown",
   "metadata": {
    "deletable": false,
    "editable": false,
    "nbgrader": {
     "cell_type": "markdown",
     "checksum": "2696ca61c1e04bfe52f144893baf9bb6",
     "grade": false,
     "grade_id": "cell-7c7f864acd498723",
     "locked": true,
     "schema_version": 3,
     "solution": false,
     "task": false
    }
   },
   "source": [
    "**QUESTION 15:** Write an assertion for the following function, which computes the number of unique values in each column of `penguins` in a vectorized way. First, run the code cell below so that you can see what the output of the function looks like. "
   ]
  },
  {
   "cell_type": "code",
   "execution_count": null,
   "metadata": {
    "deletable": false,
    "editable": false,
    "nbgrader": {
     "cell_type": "code",
     "checksum": "1cd184824aa7761e9567d8b5583f2b78",
     "grade": false,
     "grade_id": "cell-60b23aa36077e3d6",
     "locked": true,
     "schema_version": 3,
     "solution": false,
     "task": false
    }
   },
   "outputs": [],
   "source": [
    "unique <- map(penguins, unique) %>% \n",
    "  map_dbl(length)\n",
    "unique"
   ]
  },
  {
   "cell_type": "code",
   "execution_count": null,
   "metadata": {
    "deletable": false,
    "nbgrader": {
     "cell_type": "code",
     "checksum": "8c30ff310b87286815bf47d0bd9e8b48",
     "grade": false,
     "grade_id": "cell-5600f9ad81febc32",
     "locked": false,
     "schema_version": 3,
     "solution": true,
     "task": false
    }
   },
   "outputs": [],
   "source": [
    "# your code here\n",
    "fail() # No Answer - remove if you provide an answer"
   ]
  },
  {
   "cell_type": "markdown",
   "metadata": {
    "deletable": false,
    "editable": false,
    "nbgrader": {
     "cell_type": "markdown",
     "checksum": "42561fb7ce79c34d74e2047adf08ff4f",
     "grade": false,
     "grade_id": "cell-6db7c234fb13e53f",
     "locked": true,
     "schema_version": 3,
     "solution": false,
     "task": false
    }
   },
   "source": [
    "**QUESTION 16:** Write an assertion for the following function, which converts characters to factors. First, run the code cell below so that you can see what the output of the function looks like."
   ]
  },
  {
   "cell_type": "code",
   "execution_count": null,
   "metadata": {
    "deletable": false,
    "editable": false,
    "nbgrader": {
     "cell_type": "code",
     "checksum": "c276dce042b753178b6989c2dfea4198",
     "grade": false,
     "grade_id": "cell-7ee081bee1e12b4b",
     "locked": true,
     "schema_version": 3,
     "solution": false,
     "task": false
    }
   },
   "outputs": [],
   "source": [
    "factors <- penguins %>%\n",
    "  map_if(is.character, as.factor) \n",
    "factors %>% str() # check output"
   ]
  },
  {
   "cell_type": "code",
   "execution_count": null,
   "metadata": {
    "deletable": false,
    "nbgrader": {
     "cell_type": "code",
     "checksum": "60c6873040b68ae616887c15730a310c",
     "grade": false,
     "grade_id": "cell-41ebc6e09fea47b2",
     "locked": false,
     "schema_version": 3,
     "solution": true,
     "task": false
    }
   },
   "outputs": [],
   "source": [
    "# your code here\n",
    "fail() # No Answer - remove if you provide an answer"
   ]
  }
 ],
 "metadata": {
  "kernelspec": {
   "display_name": "R",
   "language": "R",
   "name": "ir"
  },
  "language_info": {
   "codemirror_mode": "r",
   "file_extension": ".r",
   "mimetype": "text/x-r-source",
   "name": "R",
   "pygments_lexer": "r",
   "version": "4.0.2"
  }
 },
 "nbformat": 4,
 "nbformat_minor": 4
}
