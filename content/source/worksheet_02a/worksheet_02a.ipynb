{
 "cells": [
  {
   "cell_type": "raw",
   "metadata": {},
   "source": [
    "---\n",
    "title: \"Lecture Worksheet 2: Data Wrangling I and ggplot2 I\"\n",
    "author: \"Icíar Fernández Boyano, Victor Yuan\"\n",
    "date: \"22/08/2020\"\n",
    "output: html_document\n",
    "---"
   ]
  },
  {
   "cell_type": "markdown",
   "metadata": {},
   "source": [
    "## Instructions + Grading\n",
    "\n",
    "+ To get full marks for each participation worksheet, you must successfully answer at least 40% of all autograded questions. In this worksheet, 40% is 11 questions.\n",
    "\n",
    "+ Autograded questions are easily identifiable through their labelling as **QUESTION**. Any other instructions that prompt the student to write code are activities, which are not graded and thus do not contribute to marks - but do contribute to the workflow of the worksheet!\n",
    "\n",
    "## Attributions\n",
    "\n",
    "The following resources were used as inspiration in the creation of this worksheet:\n",
    "\n",
    "+ [Swirl R Programming Tutorial](https://swirlstats.com/scn/rprog.html)\n",
    "+ [Palmer Penguins R Package](https://github.com/hadley/palmerpenguins)\n",
    "+ [RD4S Data Transformation](https://r4ds.had.co.nz/transform.html)\n",
    "\n",
    "# Part A: Getting started with your data\n",
    "\n",
    "**Part A of this worksheet reviews the concepts learned in Class 4: Data Wrangling I.**\n",
    "\n",
    "What's the first thing that you should do when you're starting a project with a new dataset? Having a coffee is a reasonable answer, but before that, you should **look at the data**. This may sound obvious, but a common mistake is to dive into the analysis too early before being familiar with the data - only to have to go back to the start when something goes wrong and you can't quite figure out why. Some of the questions you may want to ask are:\n",
    "\n",
    "+ What is the format of the data?\n",
    "+ What are the dimensions?\n",
    "+ Are there missing data?\n",
    "\n",
    "In part A of this worksheet, you will learn how to answer these questions and more using dplyr.\n",
    "\n",
    "Load the `palmerpenguins`, `tidyverse`, `testthat`, and `digest` packages. Hint: `suppressPackageStartupMessages()`!\n",
    "    - This loads `dplyr`, too."
   ]
  },
  {
   "cell_type": "code",
   "execution_count": null,
   "metadata": {
    "message": false,
    "name": "load packages",
    "warning": false
   },
   "outputs": [],
   "source": [
    "# load your packages here:\n",
    "library(FILL_THIS_IN)\n",
    "library(FILL_THIS_IN)\n",
    "library(FILL_THIS_IN)\n",
    "library(FILL_THIS_in)"
   ]
  },
  {
   "cell_type": "markdown",
   "metadata": {},
   "source": [
    "[Palmer penguins](https://github.com/hadley/palmerpenguins) is an R data package created by Allison Horst. Data were collected and made available by Dr. Kristen Gorman and the Palmer Station, Antarctica LTER, a member of the Long Term Ecological Research Network. The dataset that we will be using is stored in a variable called \"penguins\". It is a subset of the \"penguins_raw\" dataset, also included in this R package. Let's have a look at it."
   ]
  },
  {
   "cell_type": "code",
   "execution_count": null,
   "metadata": {},
   "outputs": [],
   "source": [
    "head(penguins)"
   ]
  },
  {
   "cell_type": "markdown",
   "metadata": {},
   "source": [
    "head() returns the first 6 rows of a dataframe, instead of printing all the data to screen.\n",
    "\n",
    "## What is the format of the data?\n",
    "\n",
    "Let's begin by checking the class of the **penguins** variable. This will give us a clue about the overall structure of the data."
   ]
  },
  {
   "cell_type": "code",
   "execution_count": null,
   "metadata": {},
   "outputs": [],
   "source": [
    "class(FILL_THIS_IN)"
   ]
  },
  {
   "cell_type": "markdown",
   "metadata": {},
   "source": [
    "As you can see, the function returns 3 classes: \"tbl_df\", \"tbl\", and \"data.frame\". A dataframe is the default class for data read into R. Tibbles (\"tbl\" and \"tbl_df\") are a modern take on data frames, but slightly tweaked to work better in the tidyverse. For now, you don’t need to worry about the differences; we’ll come back to tibbles later. The dataset that we are working with was originally a data.frame that has been coerced into a tibble, which is why multiple class names are returned by the class() function.\n",
    "\n",
    "## What are the dimensions?\n",
    "\n",
    "There are two functions that we can use to see exactly how many rows (observations) and columns (variables) we're dealing with. dim() is the base R option, and glimpse() is the dplyr flavour, which gives us some more information besides the row and column number. Give both a try!"
   ]
  },
  {
   "cell_type": "code",
   "execution_count": null,
   "metadata": {},
   "outputs": [],
   "source": [
    "dim(FILL_THIS_IN)\n",
    "glimpse(FILL_THIS_IN)"
   ]
  },
  {
   "cell_type": "markdown",
   "metadata": {},
   "source": [
    "There are more functions that you can use to further explore the dimensions, such as nrow(), ncol(), colnames() or rownames(), but we won't be looking into those.\n",
    "\n",
    "**QUESTION 1.0**\n",
    "\n",
    "In the dim() function, what is the first number that you see?\n",
    "\n",
    "1: rows\n",
    "2: columns"
   ]
  },
  {
   "cell_type": "code",
   "execution_count": null,
   "metadata": {
    "name": "question-1-0"
   },
   "outputs": [],
   "source": [
    "# answer1.0 <- youranswer\n",
    "\n",
    "### BEGIN SOLUTION\n",
    "answer1.0 <- 1\n",
    "### END SOLUTION"
   ]
  },
  {
   "cell_type": "code",
   "execution_count": null,
   "metadata": {
    "name": "test-1-0"
   },
   "outputs": [],
   "source": [
    "test_that(\"Question 1.0\", {\n",
    "    expect_equal(digest(as.numeric(answer1.0)), \"6717f2823d3202449301145073ab8719\")\n",
    "})"
   ]
  },
  {
   "cell_type": "markdown",
   "metadata": {},
   "source": [
    "## Exploring further: Five cornerstones of dplyr\n",
    "\n",
    "So far, we've **looked** at our dataset. It's time to **work with** it! Prior to creating any models, or using visualization to gain more insights about our data, it is common to tweak the data in some ways to make it a little easier to work with. For example, you may need to rename some variables, reorder observations, or even create some new variables from your existing ones!\n",
    "\n",
    "As explained in depth in the [R4DS Data Transformation chapter](https://r4ds.had.co.nz/transform.html), there are five key dplyr functions that allow you to solve the vast majority of data manipulation tasks:\n",
    "\n",
    "+ Pick variables by their names (select())\n",
    "+ Pick observations by their values (filter())\n",
    "+ Reorder the rows (arrange())\n",
    "+ Create new variables with functions of existing variables (mutate())\n",
    "+ Collapse many values down to a single summary (summarise())\n",
    "\n",
    "### `select()` \n",
    "\n",
    "*A brief interlude on naming things:* Names are important. Jenny Bryan has some excellent [slides](https://speakerdeck.com/jennybc/how-to-name-files) for naming things in a way that is human readable *and* machine readable. Don't worry too much about it for this worksheet, but do keep it in mind as it helps with *reproducibility*. \n",
    "\n",
    "A quick tip that you can put into practice: use *Pascal case* - creating names by concatenating capitalized words, such as PenguinsSubset, or PenguinsTidy. If names get too long, remove vowels! For example, PngnSubset, or PngnTidy instead.\n",
    "\n",
    "**QUESTION 1.1**\n",
    "\n",
    "In the next few questions, you will practice using the dplyr verb select() to pick and modify variables by their names. Make a data frame containing the columns `species`, `island`, `sex` from the penguins data, in that order."
   ]
  },
  {
   "cell_type": "code",
   "execution_count": null,
   "metadata": {
    "name": "question-1-1"
   },
   "outputs": [],
   "source": [
    "# answer1.1 <- select(penguins, FILL_THIS_IN)\n",
    "\n",
    "### BEGIN SOLUTION\n",
    "answer1.1 <- select(penguins, c(species, island, sex))\n",
    "### END SOLUTION"
   ]
  },
  {
   "cell_type": "code",
   "execution_count": null,
   "metadata": {
    "lines_to_next_cell": 2,
    "name": "test-1-1"
   },
   "outputs": [],
   "source": [
    "test_that(\"Question 1.1\", {\n",
    "    expect_equal(digest(as_tibble(answer1.1)), \"0df5cac5070ec518519a6f2781f4e01f\")\n",
    "})\n",
    "\n",
    "# not sure if this is correct, a bit confused as to how to write tests for tibbles... i did digest::digest(answer1.1) manually and copied the code"
   ]
  },
  {
   "cell_type": "markdown",
   "metadata": {},
   "source": [
    "Out of the following options, what would be the best name for the object that you just created above (currently stored in \"answer1.1\")?\n",
    "\n",
    "1: _penguin_subset\n",
    "2: penguins\n",
    "3: 2penguin\n",
    "4: PngnSub"
   ]
  },
  {
   "cell_type": "code",
   "execution_count": null,
   "metadata": {
    "name": "question-1-1a"
   },
   "outputs": [],
   "source": [
    "# answer1.1a <- youranswer\n",
    "\n",
    "### BEGIN SOLUTION\n",
    "answer1.1a <- 4\n",
    "### END SOLUTION"
   ]
  },
  {
   "cell_type": "code",
   "execution_count": null,
   "metadata": {
    "name": "test-1-1a"
   },
   "outputs": [],
   "source": [
    "test_that(\"Question 1.1a\", {\n",
    "    expect_equal(digest(as.numeric(answer1.1a)), \"dbc09cba9fe2583fb01d63c70e1555a8\")\n",
    "})"
   ]
  },
  {
   "cell_type": "markdown",
   "metadata": {},
   "source": [
    "**QUESTION 1.2**\n",
    "\n",
    "Select all variables, from `bill_length_mm` to `body_mass_g`. Of course, you could do it this way..."
   ]
  },
  {
   "cell_type": "code",
   "execution_count": null,
   "metadata": {},
   "outputs": [],
   "source": [
    "# This will work:\n",
    "select(penguins, bill_length_mm, bill_depth_mm, flipper_length_mm, body_mass_g)"
   ]
  },
  {
   "cell_type": "markdown",
   "metadata": {},
   "source": [
    "But there is a better way to do it! Which do you think would work?\n",
    "\n",
    "1: select(penguins, body_mass_g:bill_length_mm)\n",
    "2: select(penguins, c(body_mass_g::bill_length_mm))\n",
    "3: select(penguins, bill_length_mm:body_mass_g)\n",
    "4: select(penguins, bill_length_mm::body_mass_g)"
   ]
  },
  {
   "cell_type": "code",
   "execution_count": null,
   "metadata": {
    "name": "question-1-2"
   },
   "outputs": [],
   "source": [
    "# answer1.2 <- youranswer\n",
    "\n",
    "### BEGIN SOLUTION\n",
    "answer1.2 <- 3\n",
    "### END SOLUTION"
   ]
  },
  {
   "cell_type": "code",
   "execution_count": null,
   "metadata": {
    "name": "test-1-2"
   },
   "outputs": [],
   "source": [
    "test_that(\"Question 1.2\", {\n",
    "    expect_equal(digest(as.numeric(answer1.2)), \"e5b57f323c7b3719bbaaf9f96b260d39\")\n",
    "})"
   ]
  },
  {
   "cell_type": "markdown",
   "metadata": {},
   "source": [
    "Now run the code yourself to see the output!"
   ]
  },
  {
   "cell_type": "code",
   "execution_count": null,
   "metadata": {},
   "outputs": [],
   "source": [
    "# your code here"
   ]
  },
  {
   "cell_type": "markdown",
   "metadata": {},
   "source": [
    "**QUESTION 1.3**\n",
    "\n",
    "You're doing a great job. Keep it up! Now, select all variables, except `island`. How would you write this code?\n",
    "\n",
    "1: select(penguins, -c(\"island\"))\n",
    "2: select(penguins, -island)\n",
    "3: select(penguins, -(\"island\"))"
   ]
  },
  {
   "cell_type": "code",
   "execution_count": null,
   "metadata": {
    "name": "question-1-3"
   },
   "outputs": [],
   "source": [
    "# answer1.3 <- youranswer\n",
    "\n",
    "### BEGIN SOLUTION\n",
    "answer1.3 <- 2\n",
    "### END SOLUTION"
   ]
  },
  {
   "cell_type": "code",
   "execution_count": null,
   "metadata": {
    "name": "test-1-3"
   },
   "outputs": [],
   "source": [
    "test_that(\"Question 1.3\", {\n",
    "    expect_equal(digest(as.numeric(answer1.3)), \"db8e490a925a60e62212cefc7674ca02\")\n",
    "})"
   ]
  },
  {
   "cell_type": "markdown",
   "metadata": {},
   "source": [
    "Your turn to write the code and see the output."
   ]
  },
  {
   "cell_type": "code",
   "execution_count": null,
   "metadata": {},
   "outputs": [],
   "source": [
    "# your code here"
   ]
  },
  {
   "cell_type": "markdown",
   "metadata": {},
   "source": [
    "**QUESTION 1.4**\n",
    "\n",
    "Put `year` first. Hint: use the `everything()` function."
   ]
  },
  {
   "cell_type": "code",
   "execution_count": null,
   "metadata": {
    "name": "question-1-4"
   },
   "outputs": [],
   "source": [
    "# answer1.4 <- select(penguins, FILL_THIS_IN, FILL_THIS_IN)\n",
    "\n",
    "### BEGIN SOLUTION\n",
    "answer1.4 <- select(penguins, year, everything())\n",
    "### END SOLUTION"
   ]
  },
  {
   "cell_type": "code",
   "execution_count": null,
   "metadata": {
    "name": "test-1-4"
   },
   "outputs": [],
   "source": [
    "# test that there are 344 rows and 8 columns, which are in the following order: year, species, island, bill_length_mm, bill_depth_mm, bill_depth_mm, flipper_length_mm, body_mass_g, sex\n",
    "test_that(\"Question 1.4\", {\n",
    "    expect_equal(digest(answer1.4), \"a07a1cdcb64726866df3d525811a9bf6\")\n",
    "})"
   ]
  },
  {
   "cell_type": "markdown",
   "metadata": {},
   "source": [
    "**QUESTION 1.5**\n",
    "\n",
    "Rename `flipper_length_mm` to `length_flipper_mm`."
   ]
  },
  {
   "cell_type": "code",
   "execution_count": null,
   "metadata": {
    "name": "question-1-5"
   },
   "outputs": [],
   "source": [
    "# answer1.5 <- rename(FILL_THIS_IN, FILL_THIS_IN)\n",
    "\n",
    "### BEGIN SOLUTION\n",
    "answer1.5 <- rename(penguins, c(length_flipper_mm = \"flipper_length_mm\"))\n",
    "### END SOLUTION"
   ]
  },
  {
   "cell_type": "code",
   "execution_count": null,
   "metadata": {
    "name": "test-1-5"
   },
   "outputs": [],
   "source": [
    "# check that there are 344 rows and 8 columns: year, species, island, bill_length_mm, bill_depth_mm, bill_depth_mm, length_flipper_mm, body_mass_g, sex\n",
    "test_that(\"Question 1.5\", {\n",
    "  expect_equal(digest(dim(answer1.5)), 'd095e682a86f7f16404b7f8dd5f3d676')\n",
    "  expect_equal(digest(colnames(answer1.5)), 'ef6a2aaa40de41c0b11ad2f6888d5ce6')\n",
    "})"
   ]
  },
  {
   "cell_type": "markdown",
   "metadata": {},
   "source": [
    "### `filter()` \n",
    "\n",
    "So far, we've practiced picking variables by their name with select(). But how about picking observations? This is where filter() comes in.\n",
    "\n",
    "**QUESTION 1.6**\n",
    "\n",
    "Pick penguins with body mass greater than 3600 g."
   ]
  },
  {
   "cell_type": "code",
   "execution_count": null,
   "metadata": {
    "name": "question-1-6"
   },
   "outputs": [],
   "source": [
    "# answer1.6 <- filter(FILL_THIS_IN, FILL_THIS_IN)\n",
    "\n",
    "### BEGIN SOLUTION\n",
    "answer1.6 <- filter(penguins, body_mass_g > 3600)\n",
    "### END SOLUTION"
   ]
  },
  {
   "cell_type": "code",
   "execution_count": null,
   "metadata": {
    "name": "test-1-6"
   },
   "outputs": [],
   "source": [
    "# test for an object that is 245 rows by 8 columns and that there are no entries in the body_mass_g column that is <3600\n",
    "test_that(\"Question 1.6\", {\n",
    "  expect_equal(digest(dim(answer1.6)), '0f80c9cad929bf5de5ae34e0d50cb60d')\n",
    "  \n",
    "  # Is this ok?\n",
    "  expect_equal(sum(pull(answer1.6, body_mass_g) < 3600), 0)\n",
    "})"
   ]
  },
  {
   "cell_type": "markdown",
   "metadata": {},
   "source": [
    "In question 1.6 above, you've created a subset of the `penguins` dataset by filtering for those penguins that have a body mass greater than 3600 g. Let's do a quick check to see how many penguins meet that threshold by comparing the dimensions of the `penguins` dataset and your subset, `answer1.6`. Do you remember how to check the dimensions of a dataframe? Hint: there are two different ways to do this. "
   ]
  },
  {
   "cell_type": "code",
   "execution_count": null,
   "metadata": {},
   "outputs": [],
   "source": [
    "# compare\n",
    "## check dimensions of `penguins`\n",
    "## check dimensions of `answer1.6`"
   ]
  },
  {
   "cell_type": "markdown",
   "metadata": {},
   "source": [
    "As you can see, in filtering down to penguins with a body mass greater than 3600g, we have lost about 100 rows (observations). However, `answer1.6` doesn't seem like an informative name for this new dataset that you've created from `penguins`. Let's rename it to something else."
   ]
  },
  {
   "cell_type": "code",
   "execution_count": null,
   "metadata": {},
   "outputs": [],
   "source": [
    "penguins3600 <- answer1.6"
   ]
  },
  {
   "cell_type": "markdown",
   "metadata": {},
   "source": [
    "**QUESTION 1.7**\n",
    "\n",
    "From your \"new\" dataset, take only data from penguins located in the Biscoe island."
   ]
  },
  {
   "cell_type": "code",
   "execution_count": null,
   "metadata": {
    "name": "question-1-7"
   },
   "outputs": [],
   "source": [
    "# answer1.7 <- filter(FILL_THIS_IN, FILL_THIS_IN)\n",
    "\n",
    "### BEGIN SOLUTION \n",
    "answer1.7 <- filter(penguins3600, island == \"Biscoe\")\n",
    "### END SOLUTION"
   ]
  },
  {
   "cell_type": "code",
   "execution_count": null,
   "metadata": {
    "name": "test-1-7"
   },
   "outputs": [],
   "source": [
    "# test for an object that is 148 rows by 8 columns and that all entries in the island column are \"Biscoe\"\n",
    "test_that(\"Question 1.7\", {\n",
    "  expect_equal(digest(dim(answer1.7)), \"92ac01cd2e8809faceb1f7a283cd935f\")\n",
    "  \n",
    "  a <- unique(pull(answer1.7, island))\n",
    "  expect_length(a, 1)\n",
    "  expect_equal(digest(a), \"2522027d230e3dfe02d8b6eba1fd73e1\")\n",
    "})"
   ]
  },
  {
   "cell_type": "markdown",
   "metadata": {},
   "source": [
    "**QUESTION 1.8**\n",
    "\n",
    "Repeat the task from question 1.7, but take data from islands Torgersen and Dream. Now that you've practiced with dplyr verbs quite a bit, you don't need as many prompts to answer! Hint: When you want to select more than one island, you use %in% instead of =."
   ]
  },
  {
   "cell_type": "code",
   "execution_count": null,
   "metadata": {
    "name": "question-1-8"
   },
   "outputs": [],
   "source": [
    "# answer1.8 <- youranswer\n",
    "\n",
    "### BEGIN SOLUTION\n",
    "answer1.8 <- filter(penguins3600, island %in% c(\"Torgersen\", \"Dream\"))\n",
    "### END SOLUTION"
   ]
  },
  {
   "cell_type": "code",
   "execution_count": null,
   "metadata": {
    "name": "test-1-8"
   },
   "outputs": [],
   "source": [
    "# test for an object that is 97 rows by 8 columns and that 28 entries in the island column are \"Torgersen\", and 69 of them are \"Dream\"\n",
    "test_that(\"Question 1.8\", {\n",
    "  expect_equal(digest(dim(answer1.8)), \"b207bbce54bb47be51e7ba7b56d24bc2\")\n",
    "  expect_equal(sum(pull(answer1.8, island) == \"Torgersen\"), 28)\n",
    "  expect_equal(sum(pull(answer1.8, island) == \"Dream\"), 69)\n",
    "})"
   ]
  },
  {
   "cell_type": "markdown",
   "metadata": {},
   "source": [
    "### `arrange()` \n",
    "\n",
    "Arrange() allows you to rearrange rows. Let's give it a try!\n",
    "\n",
    "**QUESTION 1.9**\n",
    "\n",
    "Order `penguins` by year, in ascending order."
   ]
  },
  {
   "cell_type": "code",
   "execution_count": null,
   "metadata": {
    "name": "question-1-9"
   },
   "outputs": [],
   "source": [
    "# answer1.9 <- arrange(FILL_THIS_IN, FILL_THIS_IN)\n",
    "\n",
    "### BEGIN SOLUTION\n",
    "answer1.9 <- arrange(penguins, year)\n",
    "### END SOLUTION"
   ]
  },
  {
   "cell_type": "code",
   "execution_count": null,
   "metadata": {
    "name": "test-1-9"
   },
   "outputs": [],
   "source": [
    "# test that year column is in ascending order, not sure if this is possible?\n",
    "\n",
    "# vy: I think this will work, but check please\n",
    "expect_sorted <- function(object) {\n",
    "  act <- quasi_label(rlang::enquo(object), arg = \"object\")\n",
    "  expect(\n",
    "    !is.unsorted(act$val),\n",
    "    sprintf(\"%s not sorted\", act$lab)\n",
    "  )\n",
    "  invisible(act$val)\n",
    "}\n",
    "\n",
    "test_that(\"Question 1.9\", {\n",
    "    expect_sorted(pull(answer1.9, year))\n",
    "})"
   ]
  },
  {
   "cell_type": "markdown",
   "metadata": {},
   "source": [
    "**QUESTION 1.10**\n",
    "\n",
    "Great work! Order `penguins` by year, in descending order. Hint: there is a function that allows you to order a variable in descending order..."
   ]
  },
  {
   "cell_type": "code",
   "execution_count": null,
   "metadata": {
    "name": "question-1-10"
   },
   "outputs": [],
   "source": [
    "# answer1.10 <- arrange(FILL_THIS_IN, FILL_THIS_IN)\n",
    "\n",
    "### BEGIN SOLUTION\n",
    "answer1.10 <- arrange(penguins, desc(year))\n",
    "### END SOLUTION"
   ]
  },
  {
   "cell_type": "code",
   "execution_count": null,
   "metadata": {
    "name": "test-1-10"
   },
   "outputs": [],
   "source": [
    "# test that year column is in descending order, not sure if this is possible?\n",
    "test_that(\"Question 1.10\", {\n",
    "    expect_sorted(pull(answer1.10, year) %>% \n",
    "                    rev())\n",
    "})"
   ]
  },
  {
   "cell_type": "markdown",
   "metadata": {},
   "source": [
    "**QUESTION 1.11**\n",
    "\n",
    "Order `penguins` by year, then by body_mass_g. Use ascending order in both cases."
   ]
  },
  {
   "cell_type": "code",
   "execution_count": null,
   "metadata": {
    "name": "question-1-11"
   },
   "outputs": [],
   "source": [
    "# answer1.11 <- arrange(FILL_THIS_IN, FILL_THIS_IN, FILL_THIS_IN)\n",
    "\n",
    "### BEGIN SOLUTION\n",
    "answer1.11 <- arrange(penguins, year, body_mass_g)\n",
    "### END SOLUTION"
   ]
  },
  {
   "cell_type": "code",
   "execution_count": null,
   "metadata": {
    "name": "test-1-11"
   },
   "outputs": [],
   "source": [
    "# again, not sure if it's possible to test the order of the columns... what else could we test for?\n",
    "test_that(\"Question 1.11\", {\n",
    "  \n",
    "  # works for year\n",
    "  expect_sorted(pull(answer1.11, year))\n",
    "  \n",
    "  # problem is now for body_mass_g for each year...\n",
    "  # this is my attempt\n",
    "  answer1.11_list <- answer1.11 %>% \n",
    "    group_by(year) %>% \n",
    "    group_split()\n",
    "  \n",
    "  expect_length(answer1.11_list, 3)\n",
    "  expect_sorted(answer1.11_list[[1]] %>% pull(body_mass_g) %>% na.omit())\n",
    "  expect_sorted(answer1.11_list[[2]] %>% pull(body_mass_g) %>% na.omit())\n",
    "  expect_sorted(answer1.11_list[[3]] %>% pull(body_mass_g) %>% na.omit())\n",
    "})"
   ]
  },
  {
   "cell_type": "markdown",
   "metadata": {},
   "source": [
    "### Piping, `%>%` \n",
    "\n",
    "So far, we've been using dplyr verbs by inputting the dataset that we want to work on as the first argument of the function (e.g. select(**penguins**, year)). This is fine when you're using a single verb, i.e. you only want to filter observations, or select variables. However, more often than not you will want to do several tasks at once; such as filtering penguins with a certain body mass, and simultaneously ordering those penguins by year. Here is where piping (%>%) comes in.\n",
    "\n",
    "Think of `%>%` as the word \"then\"!\n",
    "\n",
    "Let's see an example. Here I want to combine `select()` with `arrange()`.\n",
    "\n",
    "This is how I could do it by *nesting* the two function calls. I am selecting variables year, species, island, and body_mass_g, while simultaneously arranging by year."
   ]
  },
  {
   "cell_type": "code",
   "execution_count": null,
   "metadata": {
    "eval": false,
    "name": "nesting functions example"
   },
   "outputs": [],
   "source": [
    "arrange(select(penguins, year, species, island, body_mass_g), year)"
   ]
  },
  {
   "cell_type": "markdown",
   "metadata": {},
   "source": [
    "However, that seems a little hard to read. Now using pipes:"
   ]
  },
  {
   "cell_type": "code",
   "execution_count": null,
   "metadata": {},
   "outputs": [],
   "source": [
    "penguins %>%\n",
    "  select(year, species, island, body_mass_g) %>%\n",
    "  arrange(year)"
   ]
  },
  {
   "cell_type": "markdown",
   "metadata": {},
   "source": [
    "### `mutate()` \n",
    "\n",
    "The `mutate()` function _creates_ new columns in the tibble by transforming other variables. Like `select()`, `filter()`, and `arrange()`, the `mutate()` function also takes a tibble as its first argument, and returns a tibble. \n",
    "\n",
    "The general syntax is: mutate(tibble, NEW_COLUMN_NAME = CALCULATION).\n",
    "\n",
    "**QUESTION 1.12**\n",
    "\n",
    "Make a new column with body mass in kg, named `body_mass_kg`, *and* rearrange the tibble so that `body_mass_kg` goes after `body_mass_g` and before `sex`. Hint: within select(), use R's `:` operator to select all variables from `species` to `body_mass_g`."
   ]
  },
  {
   "cell_type": "code",
   "execution_count": null,
   "metadata": {
    "name": "question-1-12"
   },
   "outputs": [],
   "source": [
    "# answer1.12 <- \n",
    "# penguins %>%\n",
    "# mutate(FILL_THIS_IN = FILL_THIS_IN) %>%\n",
    "# select(FILL_THIS_IN, FILL_THIS_IN, FILL_THIS_IN, FILL_THIS_IN)\n",
    "\n",
    "### BEGIN SOLUTION\n",
    "answer1.12 <- \n",
    "penguins %>%\n",
    "  mutate(body_mass_kg = body_mass_g / 1000) %>%\n",
    "  select(species:body_mass_g, body_mass_kg, sex, year)\n",
    "### END SOLUTION"
   ]
  },
  {
   "cell_type": "code",
   "execution_count": null,
   "metadata": {
    "name": "test-1-12"
   },
   "outputs": [],
   "source": [
    "# test for an object that is 344 by 9, and where the column order is:\n",
    "# [1] \"species\"           \"island\"            \"bill_length_mm\"   \n",
    "# [4] \"bill_depth_mm\"     \"flipper_length_mm\" \"body_mass_g\"      \n",
    "# [7] \"body_mass_kg\"      \"sex\"               \"year\" \n",
    "\n",
    "test_that(\"Question 1.12\", {\n",
    "  expect_equal(digest(dim(answer1.12)), \"9e9457527d068c2333ea8fd598e07f13\")\n",
    "  expect_equal(digest(colnames(answer1.12)), \"d7121e41fe934232c1c45dc425365040\")\n",
    "  \n",
    "  # tests that body_mass_kg was correctly made\n",
    "  expect_equal(na.omit(answer1.12$body_mass_kg / answer1.12$body_mass_g) %>% digest,\n",
    "               \"cdfbfd4da65e3575a474558218939055\")\n",
    "})"
   ]
  },
  {
   "cell_type": "markdown",
   "metadata": {},
   "source": [
    "Have a look at `answer1.12` to see what the changes you made look like."
   ]
  },
  {
   "cell_type": "code",
   "execution_count": null,
   "metadata": {},
   "outputs": [],
   "source": [
    "# your code here"
   ]
  },
  {
   "cell_type": "markdown",
   "metadata": {},
   "source": [
    "Notice the backwards compatibility! No need for loops! Now, try the same thing, but with `transmute` (drops all other variables). "
   ]
  },
  {
   "cell_type": "code",
   "execution_count": null,
   "metadata": {},
   "outputs": [],
   "source": [
    "# penguins %>%\n",
    "#  transmute(FILL_THIS_IN = FILL_THIS_IN)"
   ]
  },
  {
   "cell_type": "markdown",
   "metadata": {},
   "source": [
    "### `summarise()`\n",
    "\n",
    "The last key verb is summarise(). It collapses a data frame to a single row:"
   ]
  },
  {
   "cell_type": "code",
   "execution_count": null,
   "metadata": {},
   "outputs": [],
   "source": [
    "summarise(penguins, body_mass_mean = mean(body_mass_g, na.rm = TRUE))"
   ]
  },
  {
   "cell_type": "markdown",
   "metadata": {},
   "source": [
    "*From R4DS Data Transformation:* \n",
    "\n",
    "> \"summarise() is not terribly useful unless we pair it with group_by(). This changes the unit of analysis from the complete dataset to individual groups. Then, when you use the dplyr verbs on a grouped data frame they’ll be automatically applied \"by group\".\" \n",
    "\n",
    "For example, if we applied exactly the same code to a data frame grouped by island, we get the average body mass per island:"
   ]
  },
  {
   "cell_type": "code",
   "execution_count": null,
   "metadata": {},
   "outputs": [],
   "source": [
    "penguins %>%\n",
    "  group_by(island) %>%\n",
    "  summarise(body_mass_mean = mean(body_mass_g, na.rm = TRUE))"
   ]
  },
  {
   "cell_type": "markdown",
   "metadata": {},
   "source": [
    "**QUESTION 1.13**\n",
    "\n",
    "Try the same thing as in the example above, but this time grouping the penguins by year, and then island."
   ]
  },
  {
   "cell_type": "code",
   "execution_count": null,
   "metadata": {
    "name": "question-1-13"
   },
   "outputs": [],
   "source": [
    "# answer1.13 <- youranswer\n",
    "\n",
    "### BEGIN SOLUTION\n",
    "answer1.13 <- \n",
    "  penguins %>%\n",
    "  group_by(year, island) %>%\n",
    "  summarise(body_mass_mean = mean(body_mass_g, na.rm = TRUE))\n",
    "### END SOLUTION"
   ]
  },
  {
   "cell_type": "code",
   "execution_count": null,
   "metadata": {
    "name": "test-1-13"
   },
   "outputs": [],
   "source": [
    "# test that output is 9 by 3, and columns are: \"year\"           \"island\"         \"body_mass_mean\"\n",
    "test_that(\"Question 1.13\", {\n",
    "  expect_equal(digest(dim(answer1.13)), \"f4885de1726d18557bd43d769cc0ae26\")\n",
    "  expect_equal(digest(colnames(answer1.13)), \"ba0c85220a5fa5222cac937acb2f94c2\")\n",
    "})"
   ]
  },
  {
   "cell_type": "markdown",
   "metadata": {},
   "source": [
    "## Creating tibbles\n",
    "\n",
    "Throughout Part A, we have been working with a tibble, `penguins`. Remember that when we ran 'class()' on `penguins`, we could see that it was a dataframe that had been coerced to a tibble, which is a unifying feature of the tidyverse.\n",
    "\n",
    "Suppose that you have a dataframe that you want to coerce to a tibble. To do this, you can use \"as_tibble()\". R comes with a few built-in datasets, one of which is `mtcars`. Check the class of `mtcars` below."
   ]
  },
  {
   "cell_type": "code",
   "execution_count": null,
   "metadata": {},
   "outputs": [],
   "source": [
    "# your code here"
   ]
  },
  {
   "cell_type": "markdown",
   "metadata": {},
   "source": [
    "As you can see, mtcars is a dataframe. Now, coerce it to a tibble with as_tibble()."
   ]
  },
  {
   "cell_type": "code",
   "execution_count": null,
   "metadata": {},
   "outputs": [],
   "source": [
    "as_tibble(mtcars)"
   ]
  },
  {
   "cell_type": "markdown",
   "metadata": {},
   "source": [
    "You can read more about tibbles in the [R4DS Tibble Chapter](https://r4ds.had.co.nz/tibbles.html#creating-tibbles).\n",
    "\n",
    "## Time to review what we've learned!\n",
    "\n",
    "**QUESTION 1.14**\n",
    "\n",
    "Load the package `gapminder` with library(). Check the class of the `gapminder` dataset."
   ]
  },
  {
   "cell_type": "code",
   "execution_count": null,
   "metadata": {},
   "outputs": [],
   "source": [
    "# library(FILL_THIS_IN)\n",
    "# class(FILL_THIS_IN)"
   ]
  },
  {
   "cell_type": "markdown",
   "metadata": {},
   "source": [
    "As you can see, it has already been coerced to a tibble.\n",
    "\n",
    "Take all countries in Europe that have a GDP per capita greater than 10000, and select all variables except `gdpPercap`, using pipes. (Hint: use `-`)."
   ]
  },
  {
   "cell_type": "code",
   "execution_count": null,
   "metadata": {
    "name": "question-1-14"
   },
   "outputs": [],
   "source": [
    "# answer1.14 <- FILL_THIS_IN %>%\n",
    "#   filter(FILL_THIS_IN > 10000) %>%\n",
    "#   FILL_THIS_IN(-FILL_THIS_IN)\n",
    "\n",
    "### BEGIN SOLUTION\n",
    "answer1.14 <-\n",
    "  gapminder %>%\n",
    "  filter(gdpPercap > 10000) %>%\n",
    "  select(-gdpPercap)\n",
    "### END SOLUTION"
   ]
  },
  {
   "cell_type": "code",
   "execution_count": null,
   "metadata": {
    "name": "test-1-14"
   },
   "outputs": [],
   "source": [
    "# test that 392 by 5 and that all gdpPercap > 10000\n",
    "test_that(\"Question 1.14\", {\n",
    "  expect_equal(digest(dim(answer1.14)), \"10e7af552b77b2008cc3a6465100596d\")\n",
    "  \n",
    "  # it's hard to verify that all gdpPercap > 10000, since we asked to drop that column\n",
    "  expect_equal(digest(answer1.14), \"3218056845cc9759df4f0098613e4428\")\n",
    "})"
   ]
  },
  {
   "cell_type": "markdown",
   "metadata": {},
   "source": [
    "**QUESTION 1.15**\n",
    "\n",
    "Coerce the `mtcars` data frame to a tibble, and take all columns that start with the letter \"d\". \n",
    "    - Hint: take a look at the \"Select helpers\" documentation by running the following code: `?tidyselect::select_helpers`."
   ]
  },
  {
   "cell_type": "code",
   "execution_count": null,
   "metadata": {
    "name": "question-1-15"
   },
   "outputs": [],
   "source": [
    "# answer1.15 <- #youranswer\n",
    "\n",
    "### BEGIN SOLUTION\n",
    "answer1.15 <- as_tibble(mtcars) %>% select(starts_with(\"d\"))\n",
    "### END SOLUTION"
   ]
  },
  {
   "cell_type": "code",
   "execution_count": null,
   "metadata": {
    "name": "test-1-15"
   },
   "outputs": [],
   "source": [
    "# test for a 32 by 2 tibble where columns are \"disp\", \"drat\" in that order\n",
    "test_that(\"Question 1.15\", {\n",
    "  expect_equal(digest(dim(answer1.15)), \"ea1df69d6a59227894d1d4330f9bfab8\")\n",
    "  expect_equal(digest(colnames(answer1.15)), \"0956954d01fe74c59c1f16850b7e874f\")\n",
    "})"
   ]
  },
  {
   "cell_type": "markdown",
   "metadata": {},
   "source": [
    "This exercise is from [r-exercises](https://www.r-exercises.com/2017/10/19/dplyr-basic-functions-exercises/).\n",
    "\n",
    "## Part B: Visualize your data\n",
    "\n",
    "**Part B of this worksheet reviews the concepts learned in Class 5: ggplot2 I.**\n",
    "\n",
    "## Preliminary\n",
    "\n",
    "Run this code chunk to load the required packages:"
   ]
  },
  {
   "cell_type": "code",
   "execution_count": null,
   "metadata": {
    "name": "load packages",
    "warning": false
   },
   "outputs": [],
   "source": [
    "suppressPackageStartupMessages(library(tidyverse))\n",
    "suppressPackageStartupMessages(library(palmerpenguins))\n",
    "suppressPackageStartupMessages(library(gapminder))\n",
    "suppressPackageStartupMessages(library(scales))\n",
    "suppressPackageStartupMessages(library(tsibble))"
   ]
  },
  {
   "cell_type": "markdown",
   "metadata": {},
   "source": [
    "## Grammar of Graphics\n",
    "\n",
    "Before we start, here is the [ggplot2 cheatsheet](https://github.com/rstudio/cheatsheets/blob/master/data-visualization-2.1.pdf). When you're coding on your own (i.e. working on your own project outside of class), cheatsheets are one of the most common resources that you'll continuously revisit.\n",
    "\n",
    "Consider the following plot. Don't concern yourself with the code at this point."
   ]
  },
  {
   "cell_type": "code",
   "execution_count": null,
   "metadata": {
    "fig.height": 2,
    "fig.width": 5
   },
   "outputs": [],
   "source": [
    "gapminder %>% \n",
    "  filter(year == 2007) %>% \n",
    "  mutate(continent = fct_infreq(continent)) %>% \n",
    "  ggplot(aes(continent)) +\n",
    "  geom_bar() +\n",
    "  theme_bw()"
   ]
  },
  {
   "cell_type": "markdown",
   "metadata": {},
   "source": [
    "**QUESTION 2.0**\n",
    "\n",
    "Fill in the seven grammar components for this plot. Choose the best option:\n",
    "\n",
    "1:\n",
    "\n",
    "| Grammar Component     | Specification |\n",
    "|-----------------------|---------------|\n",
    "| __data__              | `gapminder` |\n",
    "| __aesthetic mapping__ | `continent` |\n",
    "| __geometric object__  | `bars` |\n",
    "| scale                 | `logarithmic` |\n",
    "| statistical transform | `none` |\n",
    "| coordinate system     | `rectangular` |\n",
    "| facetting             | `none` |\n",
    "\n",
    "2:\n",
    "\n",
    "| Grammar Component     | Specification |\n",
    "|-----------------------|---------------|\n",
    "| __data__              | `gapminder` |\n",
    "| __aesthetic mapping__ | `continent` |\n",
    "| __geometric object__  | `bars` |\n",
    "| scale                 | `linear` |\n",
    "| statistical transform | `none` |\n",
    "| coordinate system     | `rectangular` |\n",
    "| facetting             | `none` |\n",
    "\n",
    "3:\n",
    "\n",
    "| Grammar Component     | Specification |\n",
    "|-----------------------|---------------|\n",
    "| __data__              | `gapminder` |\n",
    "| __aesthetic mapping__ | `year` |\n",
    "| __geometric object__  | `bars` |\n",
    "| scale                 | `linear` |\n",
    "| statistical transform | `none` |\n",
    "| coordinate system     | `rectangular` |\n",
    "| facetting             | `none` |\n"
   ]
  },
  {
   "cell_type": "code",
   "execution_count": null,
   "metadata": {},
   "outputs": [],
   "source": [
    "# answer2.0 <- youranswerhere\n",
    "\n",
    "### BEGIN SOLUTION\n",
    "answer2.0 <- 2\n",
    "### END SOLUTION"
   ]
  },
  {
   "cell_type": "code",
   "execution_count": null,
   "metadata": {},
   "outputs": [],
   "source": [
    "test_that(\"Question 2.0\", {\n",
    "    expect_equal(digest(as.numeric(answer2.0)), \"db8e490a925a60e62212cefc7674ca02\")\n",
    "})"
   ]
  },
  {
   "cell_type": "markdown",
   "metadata": {},
   "source": [
    "Look at this plot instead."
   ]
  },
  {
   "cell_type": "code",
   "execution_count": null,
   "metadata": {},
   "outputs": [],
   "source": [
    "ggplot(gapminder, aes(gdpPercap, lifeExp)) +\n",
    "  geom_point(alpha = 0.1) +\n",
    "  scale_x_log10(\"GDP per capita\", labels = scales::dollar_format()) +\n",
    "  theme_bw() +\n",
    "  ylab(\"Life Expectancy\")"
   ]
  },
  {
   "cell_type": "markdown",
   "metadata": {},
   "source": [
    "**QUESTION 2.1**\n",
    "\n",
    "What is the aesthetic mapping in this plot?\n",
    "\n",
    "1: alpha = 0.1\n",
    "2: x: gdpPercap, y: lifeExp\n",
    "3: none\n",
    "4: \"Life Expectancy\""
   ]
  },
  {
   "cell_type": "code",
   "execution_count": null,
   "metadata": {
    "name": "question-2-1"
   },
   "outputs": [],
   "source": [
    "# answer2.1 <- youranswer\n",
    "\n",
    "### BEGIN SOLUTION\n",
    "answer2.1 <- 2\n",
    "### END SOLUTION"
   ]
  },
  {
   "cell_type": "code",
   "execution_count": null,
   "metadata": {
    "name": "test-2-1"
   },
   "outputs": [],
   "source": [
    "test_that(\"Question 2.1\", {\n",
    "    expect_equal(digest(as.numeric(answer2.1)), \"db8e490a925a60e62212cefc7674ca02\")\n",
    "})"
   ]
  },
  {
   "cell_type": "markdown",
   "metadata": {},
   "source": [
    "## `ggplot2` Syntax \n",
    "\n",
    "The following is a tsibble (a special type of tibble containing time series data, which we'll see more of later), stored in the variable `mauna`, of CO$_2$ concentrations collected monthly at the Mauna Loa station.\n",
    "\n",
    "Execute this code to store the data in `mauna`:"
   ]
  },
  {
   "cell_type": "code",
   "execution_count": null,
   "metadata": {},
   "outputs": [],
   "source": [
    "(mauna <- tsibble::as_tsibble(co2) %>% \n",
    "   rename(month = index, conc = value))"
   ]
  },
  {
   "cell_type": "markdown",
   "metadata": {},
   "source": [
    "**QUESTION 2.2**\n",
    "\n",
    "Produce a line chart showing the concentration over time. Specifically, the plot should have the following grammar components:\n",
    "\n",
    "| Grammar Component     | Specification |\n",
    "|-----------------------|---------------|\n",
    "| __data__              | `mauna` |\n",
    "| __aesthetic mapping__ | x: month, y: conc |\n",
    "| __geometric object__  | lines |\n",
    "| scale                 | linear |\n",
    "| statistical transform | none |\n",
    "| coordinate system     | rectangular |\n",
    "| facetting             | none |\n",
    "\n",
    "Fill in the blanks to obtain the plot:"
   ]
  },
  {
   "cell_type": "code",
   "execution_count": null,
   "metadata": {
    "name": "question-2-2"
   },
   "outputs": [],
   "source": [
    "# answer2.2 <- ggplot(FILL_THIS_IN, aes(FILL_THIS_IN, FILL_THIS_IN)) +\n",
    "# FILL_THIS_IN()\n",
    "\n",
    "### BEGIN SOLUTION\n",
    "answer2.2 <- ggplot(mauna, aes(x = month, y = conc)) + geom_line()\n",
    "### END SOLUTION"
   ]
  },
  {
   "cell_type": "code",
   "execution_count": null,
   "metadata": {
    "name": "test-2-2"
   },
   "outputs": [],
   "source": [
    "# test that the aesthetics of the plot are aes(x = month, y = conc) and geom_line()\n",
    "test_that(\"Question 2.2\", {\n",
    "  \n",
    "  expect_equal(digest(answer2.2$mapping), \"58410547f02ab682a5231e8b7898486d\")\n",
    "  \n",
    "  # tests that the first geom layer is geom_line\n",
    "    expect_equal(digest(answer2.2$layers[[1]]$geom),\n",
    "                 \"e6be55794c0cd28ca01a12ac74dd0f5f\")\n",
    "})"
   ]
  },
  {
   "cell_type": "code",
   "execution_count": null,
   "metadata": {
    "fig.height": 2,
    "fig.width": 5
   },
   "outputs": [],
   "source": [
    "# print plot to screen here"
   ]
  },
  {
   "cell_type": "markdown",
   "metadata": {},
   "source": [
    "**QUESTION 2.3**\n",
    "\n",
    "It turns out that you're allowed to specify the aesthetic mappings in a `geom` layer instead of, or in addition to, in the `ggplot()` function, with the following rules:\n",
    "\n",
    "- Aesthetics appearing in a `geom` layer apply only to that layer.\n",
    "- If there are conflicting aesthetics in both the `ggplot()` function and the `geom` layer, the `geom` layer takes precedence.\n",
    "\n",
    "The following code mistakenly puts the month variable on the y-axis. Fill in the `FILL_THIS_IN` so that you still obtain the same result as above."
   ]
  },
  {
   "cell_type": "code",
   "execution_count": null,
   "metadata": {
    "name": "question-2-3"
   },
   "outputs": [],
   "source": [
    "# answer2.3 <-\n",
    "# ggplot(mauna, aes(y = month)) +\n",
    "# geom_point(aes(FILL_THIS_IN))\n",
    "\n",
    "### BEGIN SOLUTION \n",
    "answer2.3 <-\n",
    "ggplot(mauna, aes(y = month)) +\n",
    "  geom_point(aes(x = month))\n",
    "### END SOLUTION"
   ]
  },
  {
   "cell_type": "code",
   "execution_count": null,
   "metadata": {
    "name": "test-2-3"
   },
   "outputs": [],
   "source": [
    "# test for the plot aesthetics\n",
    "test_that(\"Question 2.3\", {\n",
    "  expect_equal(digest(answer2.3$mapping), \"\")\n",
    "})"
   ]
  },
  {
   "cell_type": "markdown",
   "metadata": {},
   "source": [
    "**QUESTION 2.4**\n",
    "\n",
    "You can store the output of the plot in a variable, too. The plot that you created in 2.3 is stored in the variable `answer2.2`. Add a layer to `answer2.2` that adds green points to the plot. "
   ]
  },
  {
   "cell_type": "code",
   "execution_count": null,
   "metadata": {
    "name": "question-2-4"
   },
   "outputs": [],
   "source": [
    "#answer2.4 <-\n",
    "#answer2.3 +\n",
    "#  FILL_THIS_IN(colour = FILL_THIS_IN)\n",
    "\n",
    "### BEGIN SOLUTION\n",
    "answer2.4 <-\n",
    "answer2.3 +\n",
    "  geom_point(colour = \"green\")\n",
    "### END SOLUTION"
   ]
  },
  {
   "cell_type": "code",
   "execution_count": null,
   "metadata": {
    "name": "test-2-4"
   },
   "outputs": [],
   "source": [
    "# test for the plot aesthetics\n",
    "test_that(\"Question 2.4\", {\n",
    "  expect_equal(digest(answer2.4$mapping), \"\")\n",
    "})"
   ]
  },
  {
   "cell_type": "markdown",
   "metadata": {},
   "source": [
    "Have a look at the plot!"
   ]
  },
  {
   "cell_type": "code",
   "execution_count": null,
   "metadata": {
    "fig.height": 2,
    "fig.width": 5
   },
   "outputs": [],
   "source": [
    "# print the plot to screen"
   ]
  },
  {
   "cell_type": "markdown",
   "metadata": {},
   "source": [
    "**QUESTION 2.5**\n",
    "\n",
    "Can you fix what is wrong with the following code?"
   ]
  },
  {
   "cell_type": "code",
   "execution_count": null,
   "metadata": {
    "name": "question-2-5"
   },
   "outputs": [],
   "source": [
    "# answer2.5 <-\n",
    "# ggplot(gapminder) +\n",
    "#  geom_point(x = gdpPercap, y = lifeExp, alpha = 0.1)\n",
    "\n",
    "### BEGIN SOLUTION\n",
    "answer2.5 <-\n",
    "ggplot(gapminder, aes(x = gdpPercap, y = lifeExp)) +\n",
    "  geom_point(alpha = 0.1)\n",
    "### END SOLUTION"
   ]
  },
  {
   "cell_type": "code",
   "execution_count": null,
   "metadata": {
    "name": "test-2-5"
   },
   "outputs": [],
   "source": [
    "# test for the plot aesthetics\n",
    "test_that(\"Question 2.5\", {\n",
    "  expect_equal(digest(answer2.5$mapping), \"6b0fe1934ff2907a629cc8b6d8581367\")\n",
    "})"
   ]
  },
  {
   "cell_type": "code",
   "execution_count": null,
   "metadata": {
    "fig.height": 2,
    "fig.width": 5
   },
   "outputs": [],
   "source": [
    "# print to screen"
   ]
  },
  {
   "cell_type": "markdown",
   "metadata": {},
   "source": [
    "**QUESTION 2.6**\n",
    "\n",
    "So you're a ggplot2 pro? Then, let's see this plot adapted to polar coordinates. Specifically:\n",
    "\n",
    "- angle is month (January through December)\n",
    "- radius is CO$_2$ concentration\n",
    "\n",
    "The plot should look like a spiral, or concentric circles. "
   ]
  },
  {
   "cell_type": "code",
   "execution_count": null,
   "metadata": {
    "name": "question-2-6"
   },
   "outputs": [],
   "source": [
    "#answer2.6 <-\n",
    "#ggplot(mauna, aes(x = FILL_THIS_IN, y = FILL_THIS_IN)) +\n",
    "#  geom_point() +\n",
    "#  coord_polar()\n",
    "\n",
    "### BEGIN SOLUTION\n",
    "answer2.6 <-\n",
    "ggplot(mauna, aes(x = month, y = conc)) +\n",
    "  geom_point() +\n",
    "  coord_polar()\n",
    "### END SOLUTION"
   ]
  },
  {
   "cell_type": "code",
   "execution_count": null,
   "metadata": {
    "name": "test-2-6"
   },
   "outputs": [],
   "source": [
    "test_that(\"Question 2.6\", {\n",
    "  \n",
    "  # test for the plot aesthetics\n",
    "  expect_equal(digest(answer2.6$mapping), \"58410547f02ab682a5231e8b7898486d\")\n",
    "  \n",
    "  # test for polar coordinates\n",
    "  expect_equal(digest(answer2.6$coordinates), \"e75662f6b6f38ad49266f787531f1ec5\")\n",
    "})"
   ]
  },
  {
   "cell_type": "markdown",
   "metadata": {},
   "source": [
    "Remember the `penguins` dataset that we worked with in Part A of the worksheet? Let's try visualizing some of that data.\n",
    "\n",
    "**QUESTION 2.7**\n",
    "\n",
    "There are many questions that you may want to ask about the `penguins` dataset. Often, exploring relationships between variables is one of the first steps when exploring your data. Scatterplots are a great way to visualize this. \n",
    "\n",
    "Let's explore the relationship between flipper length and body mass (if any!). I have provided the \"scaffold\" of the ggplot2 recipe, now it's your turn to fill it in. Use the following parameters:\n",
    "\n",
    "- Flipper length should be on the x axis, and body mass should be on the y axis.\n",
    "- Color by species.\n",
    "- Set the size of the points to 3, and the alpha (transparency) to 0.8.\n",
    "- "
   ]
  },
  {
   "cell_type": "code",
   "execution_count": null,
   "metadata": {
    "name": "question-2-7"
   },
   "outputs": [],
   "source": [
    "# answer2.7 <- \n",
    "#  ggplot(data = FILL_THIS_IN, aes(x = FILL_THIS_IN, y = FILL_THIS_IN)) +\n",
    "#  geom_point(aes(color = FILL_THIS_IN),\n",
    "#             size = FILL_THIS_IN,\n",
    "#             alpha = FILL_THIS_IN) \n",
    "\n",
    "### BEGIN SOLUTION\n",
    "answer2.7 <- \n",
    "  ggplot(data = penguins,\n",
    "                    aes(x = flipper_length_mm, y = body_mass_g)) +\n",
    "  geom_point(aes(color = species),\n",
    "             size = 3,\n",
    "             alpha = 0.8) \n",
    "### END SOLUTION"
   ]
  },
  {
   "cell_type": "code",
   "execution_count": null,
   "metadata": {
    "name": "test-2-7"
   },
   "outputs": [],
   "source": [
    "# test for the plot aesthetics\n",
    "test_that(\"Question 2.7\", {\n",
    "  \n",
    "  # test for the plot aesthetics\n",
    "  expect_equal(digest(answer2.7$mapping), \"687de3963fbc964bd4dcbcc28484a1cd\")\n",
    "  \n",
    "  # test for geom_point parameters\n",
    "  expect_equal(digest(answer2.7$layers[[1]]), \"6760c6d3a827d2c6797258061927e443\")\n",
    "})"
   ]
  },
  {
   "cell_type": "markdown",
   "metadata": {},
   "source": [
    "Now, print `answer2.7` to screen to see your plot!"
   ]
  },
  {
   "cell_type": "code",
   "execution_count": null,
   "metadata": {},
   "outputs": [],
   "source": [
    "# print to screen"
   ]
  },
  {
   "cell_type": "markdown",
   "metadata": {},
   "source": [
    "**QUESTION 2.8**\n",
    "\n",
    "Try the same as in 2.7 (flipper length vs. body mass), but this time coloring by island! See if you can write the code without looking at the last question."
   ]
  },
  {
   "cell_type": "code",
   "execution_count": null,
   "metadata": {
    "name": "question-2-8"
   },
   "outputs": [],
   "source": [
    "# answer2.8 <- youranswer\n",
    "\n",
    "### BEGIN SOLUTION\n",
    "answer2.8 <- \n",
    "  ggplot(data = penguins,\n",
    "                    aes(x = flipper_length_mm, y = body_mass_g)) +\n",
    "  geom_point(aes(color = island),\n",
    "             size = 3,\n",
    "             alpha = 0.8) \n",
    "### END SOLUTION"
   ]
  },
  {
   "cell_type": "code",
   "execution_count": null,
   "metadata": {
    "name": "test-2-8"
   },
   "outputs": [],
   "source": [
    "# test for the plot aesthetics \n",
    "test_that(\"Question 2.8\", {\n",
    "  \n",
    "  # test for the plot aesthetics\n",
    "  expect_equal(digest(answer2.8$mapping), \"687de3963fbc964bd4dcbcc28484a1cd\")\n",
    "  \n",
    "  # test for geom_point parameters\n",
    "  expect_equal(digest(answer2.8$layers[[1]]), \"7e13e5b0683e061bcce7601d3a512a68\")\n",
    "})"
   ]
  },
  {
   "cell_type": "markdown",
   "metadata": {},
   "source": [
    "Print `answer2.7` to screen to see the plot!"
   ]
  },
  {
   "cell_type": "code",
   "execution_count": null,
   "metadata": {},
   "outputs": [],
   "source": [
    "# your code here"
   ]
  },
  {
   "cell_type": "markdown",
   "metadata": {},
   "source": [
    "**QUESTION 2.9**\n",
    "\n",
    "Suppose you want to visualize the number of penguins per island. It seems that a bar chart could be useful for this purpose. Give it a try! Hint: bar charts only need specifying one axis (use the x axis)."
   ]
  },
  {
   "cell_type": "code",
   "execution_count": null,
   "metadata": {
    "name": "question-2-9"
   },
   "outputs": [],
   "source": [
    "# answer2.9 <- ggplot(penguins, aes(FILL_THIS_IN)) + FILL_THIS_IN()\n",
    "\n",
    "### BEGIN SOLUTION\n",
    "answer2.9 <- ggplot(penguins, aes(x = island)) + geom_bar()\n",
    "### END SOLUTION"
   ]
  },
  {
   "cell_type": "code",
   "execution_count": null,
   "metadata": {
    "name": "test-2-9"
   },
   "outputs": [],
   "source": [
    "# test for the plot aesthetics \n",
    "test_that(\"Question 2.9\", {\n",
    "  \n",
    "  # test for the plot aesthetics\n",
    "  expect_equal(digest(answer2.9$mapping), \"f85cbd0c4331d25180383917c3112e53\")\n",
    "  \n",
    "  # test for geom_bar \n",
    "  expect_equal(digest(answer2.9$layers[[1]]), \"682b1d788de6421850a6663bf8c6e1f4\")\n",
    "})"
   ]
  },
  {
   "cell_type": "markdown",
   "metadata": {},
   "source": [
    "Print the plot to screen to see the penguin distribution across different islands."
   ]
  },
  {
   "cell_type": "code",
   "execution_count": null,
   "metadata": {},
   "outputs": [],
   "source": [
    "# your code here"
   ]
  },
  {
   "cell_type": "markdown",
   "metadata": {},
   "source": [
    "Try plotting the same graph, but specifying the y axis coordinate instead. What does it look like?"
   ]
  },
  {
   "cell_type": "code",
   "execution_count": null,
   "metadata": {},
   "outputs": [],
   "source": [
    "# your code here"
   ]
  },
  {
   "cell_type": "markdown",
   "metadata": {},
   "source": [
    "Great job! Bar plots can be plotted in either way. Here is another handy way to flip the coordinates, instead of plotting the graph again."
   ]
  },
  {
   "cell_type": "code",
   "execution_count": null,
   "metadata": {},
   "outputs": [],
   "source": [
    "# take answer2.9, which stores the vertical graph, and add coord_flip()\n",
    "# answer2.9 + coord_flip()"
   ]
  },
  {
   "cell_type": "markdown",
   "metadata": {},
   "source": [
    "You get the same result!\n",
    "\n",
    "**QUESTION 2.10**\n",
    "\n",
    "Maybe you want to explore the distribution of body mass. Exploring the distribution is one of the most important things when looking at data; different models have different assumptions, and the distribution of data is usually one of those assumptions. No need to worry about models for now, but it's interesting to know ways in which you can explore distribution visually! Histograms are useful for this purpose."
   ]
  },
  {
   "cell_type": "code",
   "execution_count": null,
   "metadata": {
    "name": "question-2-10"
   },
   "outputs": [],
   "source": [
    "# answer2.10 <-\n",
    "# ggplot(FILL_THIS_IN, aes(x = FILL_THIS_IN)) +\n",
    "#  geom_histogram()\n",
    "\n",
    "### BEGIN SOLUTION\n",
    "answer2.10 <-\n",
    "ggplot(penguins, aes(x = body_mass_g)) +\n",
    "  geom_histogram()\n",
    "### END SOLUTION"
   ]
  },
  {
   "cell_type": "code",
   "execution_count": null,
   "metadata": {
    "name": "test-2-10"
   },
   "outputs": [],
   "source": [
    "# test for plot aesthetics\n",
    "test_that(\"Question 2.10\", {\n",
    "  \n",
    "  # test for the plot aesthetics\n",
    "  expect_equal(digest(answer2.10$mapping), \"9278ccffa7b7fee0acb5e87bd5b004a0\")\n",
    "  \n",
    "  # test for geom_histogram\n",
    "  expect_equal(digest(answer2.10$layers[[1]]), \"c0d17114c83620da7aff8273841e5113\")\n",
    "})"
   ]
  },
  {
   "cell_type": "code",
   "execution_count": null,
   "metadata": {},
   "outputs": [],
   "source": [
    "# your code here"
   ]
  },
  {
   "cell_type": "markdown",
   "metadata": {},
   "source": [
    "Visualizing the distribution of body mass across all data is great, but a more interesting question may be what the body mass distribution is by species. We can achieve this easily by adding to the code:"
   ]
  },
  {
   "cell_type": "code",
   "execution_count": null,
   "metadata": {},
   "outputs": [],
   "source": [
    "ggplot(penguins, aes(x = body_mass_g, fill = species)) +\n",
    "  geom_histogram()"
   ]
  },
  {
   "cell_type": "markdown",
   "metadata": {},
   "source": [
    "Great! We've added some more information, but is there something we could do to make the graph more readable? Let's start by changing the binwidth:"
   ]
  },
  {
   "cell_type": "code",
   "execution_count": null,
   "metadata": {},
   "outputs": [],
   "source": [
    "ggplot(penguins, aes(x = body_mass_g, fill = species)) +\n",
    "  geom_histogram(binwidth = 50)"
   ]
  },
  {
   "cell_type": "markdown",
   "metadata": {},
   "source": [
    "**QUESTION 2.11**\n",
    "\n",
    "Stacked histograms still look a little awkward. When we want to visualize distributions of the data by variable in a single graph, density plots look better in terms of variables not obscuring one another. Try it yourself! Hint: Use `color` or `colour` instead of `fill` for aesthetic mapping. "
   ]
  },
  {
   "cell_type": "code",
   "execution_count": null,
   "metadata": {
    "name": "question-2-11"
   },
   "outputs": [],
   "source": [
    "# answer2.11 <- ggplot(COMPLETE_THE_CODE) + geom_density()\n",
    "\n",
    "### BEGIN SOLUTION\n",
    "answer2.11 <- \n",
    "ggplot(penguins, aes(x = body_mass_g, color = species)) +\n",
    "  geom_density()\n",
    "### END SOLUTION"
   ]
  },
  {
   "cell_type": "code",
   "execution_count": null,
   "metadata": {
    "name": "test-2-11"
   },
   "outputs": [],
   "source": [
    "# test for plot aesthetics\n",
    "test_that(\"Question 2.11\", {\n",
    "  \n",
    "  # test for the plot aesthetics\n",
    "  expect_equal(digest(answer2.11$mapping), \"e56a9c19c487767537579dc2458e308e\")\n",
    "  \n",
    "  # test for geom_histogram\n",
    "  expect_equal(digest(answer2.11$layers[[1]]), \"5cb8099528fc10ef3d8778b001005d52\")\n",
    "})"
   ]
  },
  {
   "cell_type": "markdown",
   "metadata": {},
   "source": [
    "See what the plot looks like now."
   ]
  },
  {
   "cell_type": "code",
   "execution_count": null,
   "metadata": {},
   "outputs": [],
   "source": [
    "# print to screen"
   ]
  },
  {
   "cell_type": "markdown",
   "metadata": {},
   "source": [
    "**QUESTION 2.12**\n",
    "\n",
    "Let's look at two more types of plot to once again explore the relationship between body mass and penguin species. Stripplots are univariate scatterplots, and they are a useful way of visualizing how, in this case, body mass is spread in each species. Specify \"species\" as x, and \"body_mass_g\" as y."
   ]
  },
  {
   "cell_type": "code",
   "execution_count": null,
   "metadata": {
    "name": "question-2-12"
   },
   "outputs": [],
   "source": [
    "# answer2.12 <-\n",
    "#  ggplot(FILL_THIS_IN, aes(COMPLETE_THE_CODE)) + geom_jitter()\n",
    "\n",
    "### BEGIN SOLUTION\n",
    "answer2.12 <- \n",
    "  ggplot(penguins, aes(x = species, y = body_mass_g)) + geom_jitter()\n",
    "### END SOLUTION"
   ]
  },
  {
   "cell_type": "code",
   "execution_count": null,
   "metadata": {
    "name": "test-2-12"
   },
   "outputs": [],
   "source": [
    "# test for plot aesthetics\n",
    "test_that(\"Question 2.12\", {\n",
    "  \n",
    "  # test for the plot aesthetics\n",
    "  expect_equal(digest(answer2.12$mapping), \"9ee4270e4d1c7cfcd518ca9416b8a152\")\n",
    "  \n",
    "  # test for geom_histogram\n",
    "  expect_equal(digest(answer2.12$layers[[1]]), \"966b8b64d86f3d044eda56575dec2ddf\")\n",
    "})"
   ]
  },
  {
   "cell_type": "markdown",
   "metadata": {},
   "source": [
    "**QUESTION 2.13**\n",
    "\n",
    "A similar option is a boxplot. Hint: use geom_boxplot() instead."
   ]
  },
  {
   "cell_type": "code",
   "execution_count": null,
   "metadata": {
    "name": "question-2-13"
   },
   "outputs": [],
   "source": [
    "# answer2.13 <- youranswer\n",
    "\n",
    "### BEGIN SOLUTION\n",
    "answer2.13 <- \n",
    "  ggplot(penguins, aes(x = species, y = body_mass_g)) + geom_boxplot()\n",
    "### END SOLUTION"
   ]
  },
  {
   "cell_type": "code",
   "execution_count": null,
   "metadata": {
    "name": "test-2-13"
   },
   "outputs": [],
   "source": [
    "# test for plot aesthetics\n",
    "test_that(\"Question 2.13\", {\n",
    "  \n",
    "  # test for the plot aesthetics\n",
    "  expect_equal(digest(answer2.13$mapping), \"9ee4270e4d1c7cfcd518ca9416b8a152\")\n",
    "  \n",
    "  # test for geom_histogram\n",
    "  expect_equal(digest(answer2.13$layers[[1]]), \"a4054159b57b244e746b594e0ef7e2f8\")\n",
    "})"
   ]
  },
  {
   "cell_type": "markdown",
   "metadata": {},
   "source": [
    "Now, let's have a look at both plots."
   ]
  },
  {
   "cell_type": "code",
   "execution_count": null,
   "metadata": {},
   "outputs": [],
   "source": [
    "answer2.12\n",
    "answer2.13"
   ]
  },
  {
   "cell_type": "markdown",
   "metadata": {},
   "source": [
    "**Congratulations!** You've finished Part B of Worksheet 2, and with that, Worksheet 2 overall. Which also means that you've completed 3 weeks of STAT545A, and you're well on your way to being an R pro. Not quite done with practicing data viz with ggplot? We'll be diving deeper into plotting next week, but here are a few resources if you want to explore in the meantime:\n",
    "\n",
    "+ [Jenny Bryan's ggplot2 tutorial](https://github.com/jennybc/ggplot2-tutorial). Has lots of examples, but less dialogue.\n",
    "+ [R4DS Data Viz chapter](https://r4ds.had.co.nz/data-visualisation.html). With a comprehensive walk-through style.\n",
    "+ [Chapter 2 of the ggplot book](http://webcat2.library.ubc.ca/vwebv/holdingsInfo?bibId=8489511). Even more detailed!\n",
    "\n"
   ]
  }
 ],
 "metadata": {
  "jupytext": {
   "cell_metadata_filter": "name,eval,message,fig.height,warning,fig.width,-all",
   "notebook_metadata_filter": "-all",
   "text_representation": {
    "extension": ".Rmd",
    "format_name": "rmarkdown"
   }
  },
  "kernelspec": {
   "display_name": "R",
   "language": "R",
   "name": "ir"
  },
  "language_info": {
   "codemirror_mode": "r",
   "file_extension": ".r",
   "mimetype": "text/x-r-source",
   "name": "R",
   "pygments_lexer": "r",
   "version": "4.0.2"
  }
 },
 "nbformat": 4,
 "nbformat_minor": 4
}
