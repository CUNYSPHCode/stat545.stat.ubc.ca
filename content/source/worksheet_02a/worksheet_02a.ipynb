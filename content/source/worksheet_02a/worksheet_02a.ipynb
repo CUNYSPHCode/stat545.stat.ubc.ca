{
 "cells": [
  {
   "cell_type": "raw",
   "metadata": {
    "nbgrader": {
     "grade": false,
     "grade_id": "cell-5faf636991d171b3",
     "locked": true,
     "schema_version": 3,
     "solution": false,
     "task": false
    }
   },
   "source": [
    "---\n",
    "title: \"Lecture Worksheet 2: Data Wrangling I and ggplot2 I\"\n",
    "author: \"Icíar Fernández Boyano\"\n",
    "date: \"22/08/2020\"\n",
    "output: html_document\n",
    "---"
   ]
  },
  {
   "cell_type": "markdown",
   "metadata": {
    "nbgrader": {
     "grade": false,
     "grade_id": "cell-9aa2ab60908aea4c",
     "locked": true,
     "schema_version": 3,
     "solution": false,
     "task": false
    }
   },
   "source": [
    "## Instructions + Grading\n",
    "\n",
    "+ To get full marks for each participation worksheet, you must successfully answer at least 40% of all autograded questions. In this worksheet, 40% is 11 questions.\n",
    "\n",
    "+ Autograded questions are easily identifiable through their labelling as **QUESTION**. Any other instructions that prompt the student to write code are activities, which are not graded and thus do not contribute to marks - but do contribute to the workflow of the worksheet!\n",
    "\n",
    "## Attributions\n",
    "\n",
    "The following resources were used as inspiration in the creation of this worksheet:\n",
    "\n",
    "+ [Swirl R Programming Tutorial](https://swirlstats.com/scn/rprog.html)\n",
    "+ [Palmer Penguins R Package](https://github.com/hadley/palmerpenguins)\n",
    "+ [RD4S Data Transformation](https://r4ds.had.co.nz/transform.html)\n",
    "\n",
    "# Part A: Getting started with your data\n",
    "\n",
    "**Part A of this worksheet reviews the concepts learned in Class 4: Data Wrangling I.**\n",
    "\n",
    "What's the first thing that you should do when you're starting a project with a new dataset? Having a coffee is a reasonable answer, but before that, you should **look at the data**. This may sound obvious, but a common mistake is to dive into the analysis too early before being familiar with the data - only to have to go back to the start when something goes wrong and you can't quite figure out why. Some of the questions you may want to ask are:\n",
    "\n",
    "+ What is the format of the data?\n",
    "+ What are the dimensions?\n",
    "+ Are there missing data?\n",
    "\n",
    "In part A of this worksheet, you will learn how to answer these questions and more using dplyr.\n",
    "\n",
    "Load the `palmerpenguins`, `tidyverse`, `testthat`, and `digest` packages. Hint: `suppressPackageStartupMessages()`!\n",
    "    - This loads `dplyr`, too."
   ]
  },
  {
   "cell_type": "code",
   "execution_count": null,
   "metadata": {
    "message": false,
    "name": "load packages",
    "warning": false
   },
   "outputs": [],
   "source": [
    "# load your packages here:\n",
    "library(FILL_THIS_IN)\n",
    "library(FILL_THIS_IN)\n",
    "library(FILL_THIS_IN)\n",
    "library(FILL_THIS_in)"
   ]
  },
  {
   "cell_type": "markdown",
   "metadata": {
    "nbgrader": {
     "grade": false,
     "grade_id": "cell-2b7976f187409320",
     "locked": true,
     "schema_version": 3,
     "solution": false,
     "task": false
    }
   },
   "source": [
    "[Palmer penguins](https://github.com/hadley/palmerpenguins) is an R data package created by Allison Horst. Data were collected and made available by Dr. Kristen Gorman and the Palmer Station, Antarctica LTER, a member of the Long Term Ecological Research Network. The dataset that we will be using is stored in a variable called \"penguins\". It is a subset of the \"penguins_raw\" dataset, also included in this R package. Let's have a look at it."
   ]
  },
  {
   "cell_type": "code",
   "execution_count": null,
   "metadata": {
    "nbgrader": {
     "grade": false,
     "grade_id": "cell-e4304a58cdddae93",
     "locked": true,
     "schema_version": 3,
     "solution": false,
     "task": false
    }
   },
   "outputs": [],
   "source": [
    "head(penguins)"
   ]
  },
  {
   "cell_type": "markdown",
   "metadata": {
    "nbgrader": {
     "grade": false,
     "grade_id": "cell-8723fd9a6c6560f6",
     "locked": true,
     "schema_version": 3,
     "solution": false,
     "task": false
    }
   },
   "source": [
    "head() returns the first 6 rows of a dataframe, instead of printing all the data to screen.\n",
    "\n",
    "## What is the format of the data?\n",
    "\n",
    "Let's begin by checking the class of the **penguins** variable. This will give us a clue about the overall structure of the data."
   ]
  },
  {
   "cell_type": "code",
   "execution_count": null,
   "metadata": {
    "nbgrader": {
     "grade": false,
     "grade_id": "cell-d38b0e0c4959d3c8",
     "locked": true,
     "schema_version": 3,
     "solution": false,
     "task": false
    }
   },
   "outputs": [],
   "source": [
    "class(FILL_THIS_IN)"
   ]
  },
  {
   "cell_type": "markdown",
   "metadata": {
    "nbgrader": {
     "grade": false,
     "grade_id": "cell-2f33d9aa8a0b45e0",
     "locked": true,
     "schema_version": 3,
     "solution": false,
     "task": false
    }
   },
   "source": [
    "As you can see, the function returns 3 classes: \"tbl_df\", \"tbl\", and \"data.frame\". A dataframe is the default class for data read into R. Tibbles (\"tbl\" and \"tbl_df\") are a modern take on data frames, but slightly tweaked to work better in the tidyverse. For now, you don’t need to worry about the differences; we’ll come back to tibbles later. The dataset that we are working with was originally a data.frame that has been coerced into a tibble, which is why multiple class names are returned by the class() function.\n",
    "\n",
    "## What are the dimensions?\n",
    "\n",
    "There are two functions that we can use to see exactly how many rows (observations) and columns (variables) we're dealing with. dim() is the base R option, and glimpse() is the dplyr flavour, which gives us some more information besides the row and column number. Give both a try!"
   ]
  },
  {
   "cell_type": "code",
   "execution_count": null,
   "metadata": {
    "nbgrader": {
     "grade": false,
     "grade_id": "cell-88347884af888b1e",
     "locked": true,
     "schema_version": 3,
     "solution": false,
     "task": false
    }
   },
   "outputs": [],
   "source": [
    "dim(FILL_THIS_IN)\n",
    "glimpse(FILL_THIS_IN)"
   ]
  },
  {
   "cell_type": "markdown",
   "metadata": {
    "nbgrader": {
     "grade": false,
     "grade_id": "cell-7a8a4ec5b52bec56",
     "locked": true,
     "schema_version": 3,
     "solution": false,
     "task": false
    }
   },
   "source": [
    "There are more functions that you can use to further explore the dimensions, such as nrow(), ncol(), colnames() or rownames(), but we won't be looking into those.\n",
    "\n",
    "**QUESTION 1.0**\n",
    "\n",
    "In the dim() function, what is the first number that you see?\n",
    "\n",
    "1: rows\n",
    "2: columns"
   ]
  },
  {
   "cell_type": "code",
   "execution_count": null,
   "metadata": {
    "name": "question-1-0",
    "nbgrader": {
     "grade": false,
     "grade_id": "cell-0571e423d144b215",
     "locked": false,
     "schema_version": 3,
     "solution": true,
     "task": false
    }
   },
   "outputs": [],
   "source": [
    "# answer1.0 <- youranswer\n",
    "\n",
    "### BEGIN SOLUTION\n",
    "answer1.0 <- 1\n",
    "### END SOLUTION"
   ]
  },
  {
   "cell_type": "code",
   "execution_count": null,
   "metadata": {
    "name": "test-1-0",
    "nbgrader": {
     "grade": true,
     "grade_id": "cell-3a32f8061deaa45b",
     "locked": true,
     "points": 0,
     "schema_version": 3,
     "solution": false,
     "task": false
    }
   },
   "outputs": [],
   "source": [
    "test_that(\"Question 1.0\", {\n",
    "    expect_equal(digest(as.numeric(answer1.0)), \"6717f2823d3202449301145073ab8719\")\n",
    "})"
   ]
  },
  {
   "cell_type": "markdown",
   "metadata": {
    "nbgrader": {
     "grade": false,
     "grade_id": "cell-728e91e425db416a",
     "locked": true,
     "schema_version": 3,
     "solution": false,
     "task": false
    }
   },
   "source": [
    "## Exploring further: Five cornerstones of dplyr\n",
    "\n",
    "So far, we've **looked** at our dataset. It's time to **work with** it! Prior to creating any models, or using visualization to gain more insights about our data, it is common to tweak the data in some ways to make it a little easier to work with. For example, you may need to rename some variables, reorder observations, or even create some new variables from your existing ones!\n",
    "\n",
    "As explained in depth in the [R4DS Data Transformation chapter](https://r4ds.had.co.nz/transform.html), there are five key dplyr functions that allow you to solve the vast majority of data manipulation tasks:\n",
    "\n",
    "+ Pick variables by their names (select())\n",
    "+ Pick observations by their values (filter())\n",
    "+ Reorder the rows (arrange())\n",
    "+ Create new variables with functions of existing variables (mutate())\n",
    "+ Collapse many values down to a single summary (summarise())\n",
    "\n",
    "### `select()` \n",
    "\n",
    "*A brief interlude on naming things:* Names are important. Jenny Bryan has some excellent [slides](https://speakerdeck.com/jennybc/how-to-name-files) for naming things in a way that is human readable *and* machine readable. Don't worry too much about it for this worksheet, but do keep it in mind as it helps with *reproducibility*. \n",
    "\n",
    "A quick tip that you can put into practice: use *Pascal case* - creating names by concatenating capitalized words, such as PenguinsSubset, or PenguinsTidy. If names get too long, remove vowels! For example, PngnSubset, or PngnTidy instead.\n",
    "\n",
    "**QUESTION 1.1**\n",
    "\n",
    "In the next few questions, you will practice using the dplyr verb select() to pick and modify variables by their names. Make a data frame containing the columns `species`, `island`, `sex` from the penguins data, in that order."
   ]
  },
  {
   "cell_type": "code",
   "execution_count": null,
   "metadata": {
    "name": "question-1-1",
    "nbgrader": {
     "grade": false,
     "grade_id": "cell-b04a75f8f0867793",
     "locked": false,
     "schema_version": 3,
     "solution": true,
     "task": false
    }
   },
   "outputs": [],
   "source": [
    "# answer1.1 <- select(penguins, FILL_THIS_IN)\n",
    "\n",
    "### BEGIN SOLUTION\n",
    "answer1.1 <- select(penguins, c(species, island, sex))\n",
    "### END SOLUTION"
   ]
  },
  {
   "cell_type": "code",
   "execution_count": null,
   "metadata": {
    "lines_to_next_cell": 2,
    "name": "test-1-1",
    "nbgrader": {
     "grade": true,
     "grade_id": "cell-7cc4f313e20ce540",
     "locked": true,
     "points": 0,
     "schema_version": 3,
     "solution": false,
     "task": false
    }
   },
   "outputs": [],
   "source": [
    "test_that(\"Question 1.1\", {\n",
    "    expect_equal(digest(as_tibble(answer1.1)), \"0df5cac5070ec518519a6f2781f4e01f\")\n",
    "})\n",
    "\n",
    "# not sure if this is correct, a bit confused as to how to write tests for tibbles... i did digest::digest(answer1.1) manually and copied the code"
   ]
  },
  {
   "cell_type": "markdown",
   "metadata": {
    "nbgrader": {
     "grade": false,
     "grade_id": "cell-6cf38ec4832b6256",
     "locked": true,
     "schema_version": 3,
     "solution": false,
     "task": false
    }
   },
   "source": [
    "Out of the following options, what would be the best name for the object that you just created above (currently stored in \"answer1.1\")?\n",
    "\n",
    "1: _penguin_subset\n",
    "2: penguins\n",
    "3: 2penguin\n",
    "4: PngnSub"
   ]
  },
  {
   "cell_type": "code",
   "execution_count": null,
   "metadata": {
    "name": "question-1-1a",
    "nbgrader": {
     "grade": false,
     "grade_id": "cell-860c4ade22ea508d",
     "locked": false,
     "schema_version": 3,
     "solution": true,
     "task": false
    }
   },
   "outputs": [],
   "source": [
    "# answer1.1a <- youranswer\n",
    "\n",
    "### BEGIN SOLUTION\n",
    "answer1.1a <- 4\n",
    "### END SOLUTION"
   ]
  },
  {
   "cell_type": "code",
   "execution_count": null,
   "metadata": {
    "name": "test-1-1a",
    "nbgrader": {
     "grade": true,
     "grade_id": "cell-756490603f83d168",
     "locked": true,
     "points": 0,
     "schema_version": 3,
     "solution": false,
     "task": false
    }
   },
   "outputs": [],
   "source": [
    "test_that(\"Question 1.1a\", {\n",
    "    expect_equal(digest(as.numeric(answer1.1a)), \"dbc09cba9fe2583fb01d63c70e1555a8\")\n",
    "})"
   ]
  },
  {
   "cell_type": "markdown",
   "metadata": {
    "nbgrader": {
     "grade": false,
     "grade_id": "cell-388446c8c2149130",
     "locked": true,
     "schema_version": 3,
     "solution": false,
     "task": false
    }
   },
   "source": [
    "**QUESTION 1.2**\n",
    "\n",
    "Select all variables, from `bill_length_mm` to `body_mass_g`. Of course, you could do it this way..."
   ]
  },
  {
   "cell_type": "code",
   "execution_count": null,
   "metadata": {
    "nbgrader": {
     "grade": false,
     "grade_id": "cell-12218df6b731bdc1",
     "locked": true,
     "schema_version": 3,
     "solution": false,
     "task": false
    }
   },
   "outputs": [],
   "source": [
    "# This will work:\n",
    "select(penguins, bill_length_mm, bill_depth_mm, flipper_length_mm, body_mass_g)"
   ]
  },
  {
   "cell_type": "markdown",
   "metadata": {
    "nbgrader": {
     "grade": false,
     "grade_id": "cell-f29c6283fe252e6e",
     "locked": true,
     "schema_version": 3,
     "solution": false,
     "task": false
    }
   },
   "source": [
    "But there is a better way to do it! Which do you think would work?\n",
    "\n",
    "1: select(penguins, body_mass_g:bill_length_mm)\n",
    "2: select(penguins, c(body_mass_g::bill_length_mm))\n",
    "3: select(penguins, bill_length_mm:body_mass_g)\n",
    "4: select(penguins, bill_length_mm::body_mass_g)"
   ]
  },
  {
   "cell_type": "code",
   "execution_count": null,
   "metadata": {
    "name": "question-1-2",
    "nbgrader": {
     "grade": false,
     "grade_id": "cell-6c1cf363e2042925",
     "locked": false,
     "schema_version": 3,
     "solution": true,
     "task": false
    }
   },
   "outputs": [],
   "source": [
    "# answer1.2 <- youranswer\n",
    "\n",
    "### BEGIN SOLUTION\n",
    "answer1.2 <- 3\n",
    "### END SOLUTION"
   ]
  },
  {
   "cell_type": "code",
   "execution_count": null,
   "metadata": {
    "name": "test-1-2",
    "nbgrader": {
     "grade": true,
     "grade_id": "cell-139b86aabb4a7046",
     "locked": true,
     "points": 0,
     "schema_version": 3,
     "solution": false,
     "task": false
    }
   },
   "outputs": [],
   "source": [
    "test_that(\"Question 1.2\", {\n",
    "    expect_equal(digest(as.numeric(answer1.2)), \"e5b57f323c7b3719bbaaf9f96b260d39\")\n",
    "})"
   ]
  },
  {
   "cell_type": "markdown",
   "metadata": {
    "nbgrader": {
     "grade": false,
     "grade_id": "cell-ca1f1a715366cf15",
     "locked": true,
     "schema_version": 3,
     "solution": false,
     "task": false
    }
   },
   "source": [
    "Now run the code yourself to see the output!"
   ]
  },
  {
   "cell_type": "code",
   "execution_count": null,
   "metadata": {
    "nbgrader": {
     "grade": false,
     "grade_id": "cell-57c9abce491a940f",
     "locked": true,
     "schema_version": 3,
     "solution": false,
     "task": false
    }
   },
   "outputs": [],
   "source": [
    "# your code here"
   ]
  },
  {
   "cell_type": "markdown",
   "metadata": {
    "nbgrader": {
     "grade": false,
     "grade_id": "cell-14a32fddc0c0fbfb",
     "locked": true,
     "schema_version": 3,
     "solution": false,
     "task": false
    }
   },
   "source": [
    "**QUESTION 1.3**\n",
    "\n",
    "You're doing a great job. Keep it up! Now, select all variables, except `island`. How would you write this code?\n",
    "\n",
    "1: select(penguins, -c(\"island\"))\n",
    "2: select(penguins, -island)\n",
    "3: select(penguins, -(\"island\"))"
   ]
  },
  {
   "cell_type": "code",
   "execution_count": null,
   "metadata": {
    "name": "question-1-3",
    "nbgrader": {
     "grade": false,
     "grade_id": "cell-4eb215b800f1e0fd",
     "locked": false,
     "schema_version": 3,
     "solution": true,
     "task": false
    }
   },
   "outputs": [],
   "source": [
    "# answer1.3 <- youranswer\n",
    "\n",
    "### BEGIN SOLUTION\n",
    "answer1.3 <- 2\n",
    "### END SOLUTION"
   ]
  },
  {
   "cell_type": "code",
   "execution_count": null,
   "metadata": {
    "name": "test-1-3",
    "nbgrader": {
     "grade": true,
     "grade_id": "cell-9c3416ac1a67ce47",
     "locked": true,
     "points": 0,
     "schema_version": 3,
     "solution": false,
     "task": false
    }
   },
   "outputs": [],
   "source": [
    "test_that(\"Question 1.3\", {\n",
    "    expect_equal(digest(as.numeric(answer1.3)), \"db8e490a925a60e62212cefc7674ca02\")\n",
    "})"
   ]
  },
  {
   "cell_type": "markdown",
   "metadata": {
    "nbgrader": {
     "grade": false,
     "grade_id": "cell-efa46aa758278265",
     "locked": true,
     "schema_version": 3,
     "solution": false,
     "task": false
    }
   },
   "source": [
    "Your turn to write the code and see the output."
   ]
  },
  {
   "cell_type": "code",
   "execution_count": null,
   "metadata": {
    "nbgrader": {
     "grade": false,
     "grade_id": "cell-5c397061937ae6eb",
     "locked": true,
     "schema_version": 3,
     "solution": false,
     "task": false
    }
   },
   "outputs": [],
   "source": [
    "# your code here"
   ]
  },
  {
   "cell_type": "markdown",
   "metadata": {
    "nbgrader": {
     "grade": false,
     "grade_id": "cell-98e05c12c0cec6f3",
     "locked": true,
     "schema_version": 3,
     "solution": false,
     "task": false
    }
   },
   "source": [
    "**QUESTION 1.4**\n",
    "\n",
    "Put `year` first. Hint: use the `everything()` function."
   ]
  },
  {
   "cell_type": "code",
   "execution_count": null,
   "metadata": {
    "name": "question-1-4",
    "nbgrader": {
     "grade": false,
     "grade_id": "cell-a233d51c569e2efd",
     "locked": false,
     "schema_version": 3,
     "solution": true,
     "task": false
    }
   },
   "outputs": [],
   "source": [
    "# answer1.4 <- select(penguins, FILL_THIS_IN, FILL_THIS_IN)\n",
    "\n",
    "### BEGIN SOLUTION\n",
    "answer1.4 <- select(penguins, year, everything())\n",
    "### END SOLUTION"
   ]
  },
  {
   "cell_type": "code",
   "execution_count": null,
   "metadata": {
    "name": "test-1-4",
    "nbgrader": {
     "grade": true,
     "grade_id": "cell-acd422fd2b9e3555",
     "locked": true,
     "points": 0,
     "schema_version": 3,
     "solution": false,
     "task": false
    }
   },
   "outputs": [],
   "source": [
    "# test that there are 344 rows and 8 columns, which are in the following order: year, species, island, bill_length_mm, bill_depth_mm, bill_depth_mm, flipper_length_mm, body_mass_g, sex\n",
    "\n",
    "test_that(\"Question 1.4\", {\n",
    "    expect_equal(digest(as_tibble(answer1.4)), \"\")\n",
    "})"
   ]
  },
  {
   "cell_type": "markdown",
   "metadata": {
    "nbgrader": {
     "grade": false,
     "grade_id": "cell-0a45cbcfd29f6f3e",
     "locked": true,
     "schema_version": 3,
     "solution": false,
     "task": false
    }
   },
   "source": [
    "**QUESTION 1.5**\n",
    "\n",
    "Rename `flipper_length_mm` to `length_flipper_mm`."
   ]
  },
  {
   "cell_type": "code",
   "execution_count": null,
   "metadata": {
    "name": "question-1-5",
    "nbgrader": {
     "grade": true,
     "grade_id": "cell-9aaba22b987bb6e5",
     "locked": true,
     "points": 0,
     "schema_version": 3,
     "solution": false,
     "task": false
    }
   },
   "outputs": [],
   "source": [
    "# answer1.5 <- rename(FILL_THIS_IN, FILL_THIS_IN)\n",
    "\n",
    "### BEGIN SOLUTION\n",
    "answer1.5 <- rename(penguins, c(length_flipper_mm = \"flipper_length_mm\"))\n",
    "### END SOLUTION"
   ]
  },
  {
   "cell_type": "code",
   "execution_count": null,
   "metadata": {
    "name": "test-1-5",
    "nbgrader": {
     "grade": false,
     "grade_id": "cell-89b40f5f7b53d451",
     "locked": false,
     "schema_version": 3,
     "solution": true,
     "task": false
    }
   },
   "outputs": [],
   "source": [
    "# check that there are 344 rows and 8 columns: year, species, island, bill_length_mm, bill_depth_mm, bill_depth_mm, length_flipper_mm, body_mass_g, sex"
   ]
  },
  {
   "cell_type": "markdown",
   "metadata": {
    "nbgrader": {
     "grade": false,
     "grade_id": "cell-e054ebc57f415b9a",
     "locked": true,
     "schema_version": 3,
     "solution": false,
     "task": false
    }
   },
   "source": [
    "### `filter()` \n",
    "\n",
    "So far, we've practiced picking variables by their name with select(). But how about picking observations? This is where filter() comes in.\n",
    "\n",
    "**QUESTION 1.6**\n",
    "\n",
    "Pick penguins with body mass greater than 3600 g."
   ]
  },
  {
   "cell_type": "code",
   "execution_count": null,
   "metadata": {
    "name": "question-1-6",
    "nbgrader": {
     "grade": false,
     "grade_id": "cell-f1aa48129f631e57",
     "locked": false,
     "schema_version": 3,
     "solution": true,
     "task": false
    }
   },
   "outputs": [],
   "source": [
    "# answer1.6 <- filter(FILL_THIS_IN, FILL_THIS_IN)\n",
    "\n",
    "### BEGIN SOLUTION\n",
    "answer1.6 <- filter(penguins, body_mass_g > 3600)\n",
    "### END SOLUTION"
   ]
  },
  {
   "cell_type": "code",
   "execution_count": null,
   "metadata": {
    "name": "test-1-6",
    "nbgrader": {
     "grade": true,
     "grade_id": "cell-75a64891a62df078",
     "locked": true,
     "points": 0,
     "schema_version": 3,
     "solution": false,
     "task": false
    }
   },
   "outputs": [],
   "source": [
    "# test for an object that is 245 rows by 8 columns and that there are no entries in the body_mass_g column that is >3600"
   ]
  },
  {
   "cell_type": "markdown",
   "metadata": {
    "nbgrader": {
     "grade": false,
     "grade_id": "cell-35b5302f12191b9f",
     "locked": true,
     "schema_version": 3,
     "solution": false,
     "task": false
    }
   },
   "source": [
    "In question 1.6 above, you've created a subset of the `penguins` dataset by filtering for those penguins that have a body mass greater than 3600 g. Let's do a quick check to see how many penguins meet that threshold by comparing the dimensions of the `penguins` dataset and your subset, `answer1.6`. Do you remember how to check the dimensions of a dataframe? Hint: there are two different ways to do this. "
   ]
  },
  {
   "cell_type": "code",
   "execution_count": null,
   "metadata": {
    "nbgrader": {
     "grade": false,
     "grade_id": "cell-2344cf60dc7610f7",
     "locked": true,
     "schema_version": 3,
     "solution": false,
     "task": false
    }
   },
   "outputs": [],
   "source": [
    "# compare\n",
    "## check dimensions of `penguins`\n",
    "## check dimensions of `answer1.6`"
   ]
  },
  {
   "cell_type": "markdown",
   "metadata": {
    "nbgrader": {
     "grade": false,
     "grade_id": "cell-0d14f0e4b482618c",
     "locked": true,
     "schema_version": 3,
     "solution": false,
     "task": false
    }
   },
   "source": [
    "As you can see, in filtering down to penguins with a body mass greater than 3600g, we have lost about 100 rows (observations). However, `answer1.6` doesn't seem like an informative name for this new dataset that you've created from `penguins`. Let's rename it to something else."
   ]
  },
  {
   "cell_type": "code",
   "execution_count": null,
   "metadata": {
    "nbgrader": {
     "grade": false,
     "grade_id": "cell-c0a1be39fd4f9b5f",
     "locked": true,
     "schema_version": 3,
     "solution": false,
     "task": false
    }
   },
   "outputs": [],
   "source": [
    "penguins3600 <- answer1.6"
   ]
  },
  {
   "cell_type": "markdown",
   "metadata": {
    "nbgrader": {
     "grade": false,
     "grade_id": "cell-af5425e9ba3b75b5",
     "locked": true,
     "schema_version": 3,
     "solution": false,
     "task": false
    }
   },
   "source": [
    "**QUESTION 1.7**\n",
    "\n",
    "From your \"new\" dataset, take only data from penguins located in the Biscoe island."
   ]
  },
  {
   "cell_type": "code",
   "execution_count": null,
   "metadata": {
    "name": "question-1-7",
    "nbgrader": {
     "grade": false,
     "grade_id": "cell-468bc2b6c38a6b03",
     "locked": false,
     "schema_version": 3,
     "solution": true,
     "task": false
    }
   },
   "outputs": [],
   "source": [
    "# answer1.7 <- filter(FILL_THIS_IN, FILL_THIS_IN)\n",
    "\n",
    "### BEGIN SOLUTION \n",
    "answer1.7 <- filter(penguins3600, island == \"Biscoe\")\n",
    "### END SOLUTION"
   ]
  },
  {
   "cell_type": "code",
   "execution_count": null,
   "metadata": {
    "name": "test-1-7",
    "nbgrader": {
     "grade": true,
     "grade_id": "cell-9b5eda780940a6d7",
     "locked": true,
     "points": 0,
     "schema_version": 3,
     "solution": false,
     "task": false
    }
   },
   "outputs": [],
   "source": [
    "# test for an object that is 148 rows by 8 columns and that all entries in the island column are \"Biscoe\""
   ]
  },
  {
   "cell_type": "markdown",
   "metadata": {
    "nbgrader": {
     "grade": false,
     "grade_id": "cell-437ade470c9fba47",
     "locked": true,
     "schema_version": 3,
     "solution": false,
     "task": false
    }
   },
   "source": [
    "**QUESTION 1.8**\n",
    "\n",
    "Repeat the task from question 1.7, but take data from islands Torgersen and Dream. Now that you've practiced with dplyr verbs quite a bit, you don't need as many prompts to answer! Hint: When you want to select more than one island, you use %in% instead of =."
   ]
  },
  {
   "cell_type": "code",
   "execution_count": null,
   "metadata": {
    "name": "question-1-8",
    "nbgrader": {
     "grade": false,
     "grade_id": "cell-47c44866441423af",
     "locked": false,
     "schema_version": 3,
     "solution": true,
     "task": false
    }
   },
   "outputs": [],
   "source": [
    "# answer1.8 <- youranswer\n",
    "\n",
    "### BEGIN SOLUTION\n",
    "answer1.8 <- filter(penguins3600, island %in% c(\"Torgersen\", \"Dream\"))\n",
    "### END SOLUTION"
   ]
  },
  {
   "cell_type": "code",
   "execution_count": null,
   "metadata": {
    "name": "test-1-8",
    "nbgrader": {
     "grade": true,
     "grade_id": "cell-ba3da9cfc377181c",
     "locked": true,
     "points": 0,
     "schema_version": 3,
     "solution": false,
     "task": false
    }
   },
   "outputs": [],
   "source": [
    "# test for an object that is 97 rows by 8 columns and that 28 entries in the island column are \"Torgersen\", and 69 of them are \"Dream\""
   ]
  },
  {
   "cell_type": "markdown",
   "metadata": {
    "nbgrader": {
     "grade": false,
     "grade_id": "cell-7bb5805783bdba2c",
     "locked": true,
     "schema_version": 3,
     "solution": false,
     "task": false
    }
   },
   "source": [
    "### `arrange()` \n",
    "\n",
    "Arrange() allows you to rearrange rows. Let's give it a try!\n",
    "\n",
    "**QUESTION 1.9**\n",
    "\n",
    "Order `penguins` by year, in ascending order."
   ]
  },
  {
   "cell_type": "code",
   "execution_count": null,
   "metadata": {
    "name": "question-1-9",
    "nbgrader": {
     "grade": false,
     "grade_id": "cell-09eebda36935fcbf",
     "locked": false,
     "schema_version": 3,
     "solution": true,
     "task": false
    }
   },
   "outputs": [],
   "source": [
    "# answer1.9 <- arrange(FILL_THIS_IN, FILL_THIS_IN)\n",
    "\n",
    "### BEGIN SOLUTION\n",
    "answer1.9 <- arrange(penguins, year)\n",
    "### END SOLUTION"
   ]
  },
  {
   "cell_type": "code",
   "execution_count": null,
   "metadata": {
    "name": "test-1-9",
    "nbgrader": {
     "grade": true,
     "grade_id": "cell-e58b4e6cfe964814",
     "locked": true,
     "points": 0,
     "schema_version": 3,
     "solution": false,
     "task": false
    }
   },
   "outputs": [],
   "source": [
    "# test that year column is in ascending order, not sure if this is possible?"
   ]
  },
  {
   "cell_type": "markdown",
   "metadata": {
    "nbgrader": {
     "grade": false,
     "grade_id": "cell-46c72e502eb1e892",
     "locked": true,
     "schema_version": 3,
     "solution": false,
     "task": false
    }
   },
   "source": [
    "**QUESTION 1.10**\n",
    "\n",
    "Great work! Order `penguins` by year, in descending order. Hint: there is a function that allows you to order a variable in descending order..."
   ]
  },
  {
   "cell_type": "code",
   "execution_count": null,
   "metadata": {
    "name": "question-1-10",
    "nbgrader": {
     "grade": false,
     "grade_id": "cell-d787ade0a2ca1b78",
     "locked": false,
     "schema_version": 3,
     "solution": true,
     "task": false
    }
   },
   "outputs": [],
   "source": [
    "# answer1.10 <- arrange(FILL_THIS_IN, FILL_THIS_IN)\n",
    "\n",
    "### BEGIN SOLUTION\n",
    "answer1.10 <- arrange(penguins, desc(year))\n",
    "### END SOLUTION"
   ]
  },
  {
   "cell_type": "code",
   "execution_count": null,
   "metadata": {
    "name": "test-1-10",
    "nbgrader": {
     "grade": true,
     "grade_id": "cell-d03d05d045daedde",
     "locked": true,
     "points": 0,
     "schema_version": 3,
     "solution": false,
     "task": false
    }
   },
   "outputs": [],
   "source": [
    "# test that year column is in descending order, not sure if this is possible?"
   ]
  },
  {
   "cell_type": "markdown",
   "metadata": {
    "nbgrader": {
     "grade": false,
     "grade_id": "cell-2766856457329e94",
     "locked": true,
     "schema_version": 3,
     "solution": false,
     "task": false
    }
   },
   "source": [
    "**QUESTION 1.11**\n",
    "\n",
    "Order `penguins` by year, then by body_mass_g. Use ascending order in both cases."
   ]
  },
  {
   "cell_type": "code",
   "execution_count": null,
   "metadata": {
    "name": "question-1-11",
    "nbgrader": {
     "grade": false,
     "grade_id": "cell-d9e6b4b203f9736d",
     "locked": false,
     "schema_version": 3,
     "solution": true,
     "task": false
    }
   },
   "outputs": [],
   "source": [
    "# answer1.11 <- arrange(FILL_THIS_IN, FILL_THIS_IN, FILL_THIS_IN)\n",
    "\n",
    "### BEGIN SOLUTION\n",
    "answer1.11 <- arrange(penguins, year, body_mass_g)\n",
    "### END SOLUTION"
   ]
  },
  {
   "cell_type": "code",
   "execution_count": null,
   "metadata": {
    "name": "test-1-11",
    "nbgrader": {
     "grade": true,
     "grade_id": "cell-6bdc166dd969c5b4",
     "locked": true,
     "points": 0,
     "schema_version": 3,
     "solution": false,
     "task": false
    }
   },
   "outputs": [],
   "source": [
    "# again, not sure if it's possible to test the order of the columns... what else could we test for?"
   ]
  },
  {
   "cell_type": "markdown",
   "metadata": {
    "nbgrader": {
     "grade": false,
     "grade_id": "cell-bb3e745c54b866ec",
     "locked": true,
     "schema_version": 3,
     "solution": false,
     "task": false
    }
   },
   "source": [
    "### Piping, `%>%` \n",
    "\n",
    "So far, we've been using dplyr verbs by inputting the dataset that we want to work on as the first argument of the function (e.g. select(**penguins**, year)). This is fine when you're using a single verb, i.e. you only want to filter observations, or select variables. However, more often than not you will want to do several tasks at once; such as filtering penguins with a certain body mass, and simultaneously ordering those penguins by year. Here is where piping (%>%) comes in.\n",
    "\n",
    "Think of `%>%` as the word \"then\"!\n",
    "\n",
    "Let's see an example. Here I want to combine `select()` with `arrange()`.\n",
    "\n",
    "This is how I could do it by *nesting* the two function calls. I am selecting variables year, species, island, and body_mass_g, while simultaneously arranging by year."
   ]
  },
  {
   "cell_type": "code",
   "execution_count": null,
   "metadata": {
    "eval": false,
    "name": "nesting functions example",
    "nbgrader": {
     "grade": false,
     "grade_id": "cell-e7fbf07be1d9aacb",
     "locked": true,
     "schema_version": 3,
     "solution": false,
     "task": false
    }
   },
   "outputs": [],
   "source": [
    "arrange(select(penguins, year, species, island, body_mass_g), year)"
   ]
  },
  {
   "cell_type": "markdown",
   "metadata": {
    "nbgrader": {
     "grade": false,
     "grade_id": "cell-4f93e9bce7d8e503",
     "locked": true,
     "schema_version": 3,
     "solution": false,
     "task": false
    }
   },
   "source": [
    "However, that seems a little hard to read. Now using pipes:"
   ]
  },
  {
   "cell_type": "code",
   "execution_count": null,
   "metadata": {
    "nbgrader": {
     "grade": false,
     "grade_id": "cell-8c6c38bdb7a6706f",
     "locked": true,
     "schema_version": 3,
     "solution": false,
     "task": false
    }
   },
   "outputs": [],
   "source": [
    "penguins %>%\n",
    "  select(year, species, island, body_mass_g) %>%\n",
    "  arrange(year)"
   ]
  },
  {
   "cell_type": "markdown",
   "metadata": {
    "nbgrader": {
     "grade": false,
     "grade_id": "cell-5a9efac8ded8b445",
     "locked": true,
     "schema_version": 3,
     "solution": false,
     "task": false
    }
   },
   "source": [
    "### `mutate()` \n",
    "\n",
    "The `mutate()` function _creates_ new columns in the tibble by transforming other variables. Like `select()`, `filter()`, and `arrange()`, the `mutate()` function also takes a tibble as its first argument, and returns a tibble. \n",
    "\n",
    "The general syntax is: mutate(tibble, NEW_COLUMN_NAME = CALCULATION).\n",
    "\n",
    "**QUESTION 1.12**\n",
    "\n",
    "Make a new column with body mass in kg, named `body_mass_kg`, *and* rearrange the tibble so that `body_mass_kg` goes after `body_mass_g` and before `sex`. Hint: within select(), use R's `:` operator to select all variables from `species` to `body_mass_g`."
   ]
  },
  {
   "cell_type": "code",
   "execution_count": null,
   "metadata": {
    "name": "question-1-12",
    "nbgrader": {
     "grade": false,
     "grade_id": "cell-37e865991ec02cfd",
     "locked": false,
     "schema_version": 3,
     "solution": true,
     "task": false
    }
   },
   "outputs": [],
   "source": [
    "# answer1.12 <- \n",
    "# penguins %>%\n",
    "# mutate(FILL_THIS_IN = FILL_THIS_IN) %>%\n",
    "# select(FILL_THIS_IN, FILL_THIS_IN, FILL_THIS_IN, FILL_THIS_IN)\n",
    "\n",
    "### BEGIN SOLUTION\n",
    "answer1.12 <- \n",
    "penguins %>%\n",
    "  mutate(body_mass_kg = body_mass_g / 1000) %>%\n",
    "  select(species:body_mass_g, body_mass_kg, sex, year)\n",
    "### END SOLUTION"
   ]
  },
  {
   "cell_type": "code",
   "execution_count": null,
   "metadata": {
    "name": "test-1-12",
    "nbgrader": {
     "grade": true,
     "grade_id": "cell-8f1212a7ffa1de10",
     "locked": true,
     "points": 0,
     "schema_version": 3,
     "solution": false,
     "task": false
    }
   },
   "outputs": [],
   "source": [
    "# test for an object that is 344 by 9, and where the column order is:\n",
    "# [1] \"species\"           \"island\"            \"bill_length_mm\"   \n",
    "# [4] \"bill_depth_mm\"     \"flipper_length_mm\" \"body_mass_g\"      \n",
    "# [7] \"body_mass_kg\"      \"sex\"               \"year\" "
   ]
  },
  {
   "cell_type": "markdown",
   "metadata": {
    "nbgrader": {
     "grade": false,
     "grade_id": "cell-1b0aeecbf3cfbf22",
     "locked": true,
     "schema_version": 3,
     "solution": false,
     "task": false
    }
   },
   "source": [
    "Have a look at `answer1.12` to see what the changes you made look like."
   ]
  },
  {
   "cell_type": "code",
   "execution_count": null,
   "metadata": {
    "nbgrader": {
     "grade": false,
     "grade_id": "cell-4050eeae5239ab0f",
     "locked": true,
     "schema_version": 3,
     "solution": false,
     "task": false
    }
   },
   "outputs": [],
   "source": [
    "# your code here"
   ]
  },
  {
   "cell_type": "markdown",
   "metadata": {
    "nbgrader": {
     "grade": false,
     "grade_id": "cell-7d32d95a6a934acd",
     "locked": true,
     "schema_version": 3,
     "solution": false,
     "task": false
    }
   },
   "source": [
    "Notice the backwards compatibility! No need for loops! Now, try the same thing, but with `transmute` (drops all other variables). "
   ]
  },
  {
   "cell_type": "code",
   "execution_count": null,
   "metadata": {
    "nbgrader": {
     "grade": false,
     "grade_id": "cell-2c53f629a45af94a",
     "locked": true,
     "schema_version": 3,
     "solution": false,
     "task": false
    }
   },
   "outputs": [],
   "source": [
    "# penguins %>%\n",
    "#  transmute(FILL_THIS_IN = FILL_THIS_IN)"
   ]
  },
  {
   "cell_type": "markdown",
   "metadata": {
    "nbgrader": {
     "grade": false,
     "grade_id": "cell-9dbdf3559e7edf83",
     "locked": true,
     "schema_version": 3,
     "solution": false,
     "task": false
    }
   },
   "source": [
    "### `summarise()`\n",
    "\n",
    "The last key verb is summarise(). It collapses a data frame to a single row:"
   ]
  },
  {
   "cell_type": "code",
   "execution_count": null,
   "metadata": {
    "nbgrader": {
     "grade": false,
     "grade_id": "cell-132e982f4fcc41f4",
     "locked": true,
     "schema_version": 3,
     "solution": false,
     "task": false
    }
   },
   "outputs": [],
   "source": [
    "summarise(penguins, body_mass_mean = mean(body_mass_g, na.rm = TRUE))"
   ]
  },
  {
   "cell_type": "markdown",
   "metadata": {
    "nbgrader": {
     "grade": false,
     "grade_id": "cell-0e21a49f8edc76ad",
     "locked": true,
     "schema_version": 3,
     "solution": false,
     "task": false
    }
   },
   "source": [
    "*From R4DS Data Transformation:* \n",
    "\n",
    "> \"summarise() is not terribly useful unless we pair it with group_by(). This changes the unit of analysis from the complete dataset to individual groups. Then, when you use the dplyr verbs on a grouped data frame they’ll be automatically applied \"by group\".\" \n",
    "\n",
    "For example, if we applied exactly the same code to a data frame grouped by island, we get the average body mass per island:"
   ]
  },
  {
   "cell_type": "code",
   "execution_count": null,
   "metadata": {
    "nbgrader": {
     "grade": false,
     "grade_id": "cell-3d3605a5d3048088",
     "locked": true,
     "schema_version": 3,
     "solution": false,
     "task": false
    }
   },
   "outputs": [],
   "source": [
    "penguins %>%\n",
    "  group_by(island) %>%\n",
    "  summarise(body_mass_mean = mean(body_mass_g, na.rm = TRUE))"
   ]
  },
  {
   "cell_type": "markdown",
   "metadata": {
    "nbgrader": {
     "grade": false,
     "grade_id": "cell-01b6598ad947d2a6",
     "locked": true,
     "schema_version": 3,
     "solution": false,
     "task": false
    }
   },
   "source": [
    "**QUESTION 1.13**\n",
    "\n",
    "Try the same thing as in the example above, but this time grouping the penguins by year, and then island."
   ]
  },
  {
   "cell_type": "code",
   "execution_count": null,
   "metadata": {
    "name": "question-1-13",
    "nbgrader": {
     "grade": false,
     "grade_id": "cell-b1e22b6b5aaf0759",
     "locked": false,
     "schema_version": 3,
     "solution": true,
     "task": false
    }
   },
   "outputs": [],
   "source": [
    "# answer1.13 <- youranswer\n",
    "\n",
    "### BEGIN SOLUTION\n",
    "answer1.13 <- \n",
    "  penguins %>%\n",
    "  group_by(year, island) %>%\n",
    "  summarise(body_mass_mean = mean(body_mass_g, na.rm = TRUE))\n",
    "### END SOLUTION"
   ]
  },
  {
   "cell_type": "code",
   "execution_count": null,
   "metadata": {
    "name": "test-1-13",
    "nbgrader": {
     "grade": true,
     "grade_id": "cell-dd6813c83de74aab",
     "locked": true,
     "points": 0,
     "schema_version": 3,
     "solution": false,
     "task": false
    }
   },
   "outputs": [],
   "source": [
    "# test that output is 9 by 3, and columns are: \"year\"           \"island\"         \"body_mass_mean\""
   ]
  },
  {
   "cell_type": "markdown",
   "metadata": {
    "nbgrader": {
     "grade": false,
     "grade_id": "cell-2c682444654df629",
     "locked": true,
     "schema_version": 3,
     "solution": false,
     "task": false
    }
   },
   "source": [
    "## Creating tibbles\n",
    "\n",
    "Throughout Part A, we have been working with a tibble, `penguins`. Remember that when we ran 'class()' on `penguins`, we could see that it was a dataframe that had been coerced to a tibble, which is a unifying feature of the tidyverse.\n",
    "\n",
    "Suppose that you have a dataframe that you want to coerce to a tibble. To do this, you can use \"as_tibble()\". R comes with a few built-in datasets, one of which is `mtcars`. Check the class of `mtcars` below."
   ]
  },
  {
   "cell_type": "code",
   "execution_count": null,
   "metadata": {
    "nbgrader": {
     "grade": false,
     "grade_id": "cell-64f867495355d9fc",
     "locked": true,
     "schema_version": 3,
     "solution": false,
     "task": false
    }
   },
   "outputs": [],
   "source": [
    "# your code here"
   ]
  },
  {
   "cell_type": "markdown",
   "metadata": {
    "nbgrader": {
     "grade": false,
     "grade_id": "cell-fe79b571c8253562",
     "locked": true,
     "schema_version": 3,
     "solution": false,
     "task": false
    }
   },
   "source": [
    "As you can see, mtcars is a dataframe. Now, coerce it to a tibble with as_tibble()."
   ]
  },
  {
   "cell_type": "code",
   "execution_count": null,
   "metadata": {
    "nbgrader": {
     "grade": false,
     "grade_id": "cell-84758f9b12ef50e3",
     "locked": true,
     "schema_version": 3,
     "solution": false,
     "task": false
    }
   },
   "outputs": [],
   "source": [
    "as_tibble(mtcars)"
   ]
  },
  {
   "cell_type": "markdown",
   "metadata": {
    "nbgrader": {
     "grade": false,
     "grade_id": "cell-c830c0fcfd59247e",
     "locked": true,
     "schema_version": 3,
     "solution": false,
     "task": false
    }
   },
   "source": [
    "You can read more about tibbles in the [R4DS Tibble Chapter](https://r4ds.had.co.nz/tibbles.html#creating-tibbles).\n",
    "\n",
    "## Time to review what we've learned!\n",
    "\n",
    "**QUESTION 1.14**\n",
    "\n",
    "Load the package `gapminder` with library(). Check the class of the `gapminder` dataset."
   ]
  },
  {
   "cell_type": "code",
   "execution_count": null,
   "metadata": {
    "nbgrader": {
     "grade": false,
     "grade_id": "cell-2b7bcdb79ca12063",
     "locked": true,
     "schema_version": 3,
     "solution": false,
     "task": false
    }
   },
   "outputs": [],
   "source": [
    "# library(FILL_THIS_IN)\n",
    "# class(FILL_THIS_IN)"
   ]
  },
  {
   "cell_type": "markdown",
   "metadata": {
    "nbgrader": {
     "grade": false,
     "grade_id": "cell-0e7a48020f6d3a38",
     "locked": true,
     "schema_version": 3,
     "solution": false,
     "task": false
    }
   },
   "source": [
    "As you can see, it has already been coerced to a tibble.\n",
    "\n",
    "Take all countries in Europe that have a GDP per capita greater than 10000, and select all variables except `gdpPercap`, using pipes. (Hint: use `-`)."
   ]
  },
  {
   "cell_type": "code",
   "execution_count": null,
   "metadata": {
    "name": "question-1-14",
    "nbgrader": {
     "grade": false,
     "grade_id": "cell-a4282a1364cc325e",
     "locked": false,
     "schema_version": 3,
     "solution": true,
     "task": false
    }
   },
   "outputs": [],
   "source": [
    "# answer1.14 <- FILL_THIS_IN %>%\n",
    "#   filter(FILL_THIS_IN > 10000) %>%\n",
    "#   FILL_THIS_IN(-FILL_THIS_IN)\n",
    "\n",
    "### BEGIN SOLUTION\n",
    "answer1.14 <-\n",
    "  gapminder %>%\n",
    "  filter(gdpPercap > 10000) %>%\n",
    "  select(-gdpPercap)\n",
    "### END SOLUTION"
   ]
  },
  {
   "cell_type": "code",
   "execution_count": null,
   "metadata": {
    "name": "test-1-14",
    "nbgrader": {
     "grade": true,
     "grade_id": "cell-3f0a37e95a28f4aa",
     "locked": true,
     "points": 0,
     "schema_version": 3,
     "solution": false,
     "task": false
    }
   },
   "outputs": [],
   "source": [
    "# test that 392 by 5 and that all gdpPercap > 10000\n",
    "colnames(answer1.14)"
   ]
  },
  {
   "cell_type": "markdown",
   "metadata": {
    "nbgrader": {
     "grade": false,
     "grade_id": "cell-dfeef53e52dee2e5",
     "locked": true,
     "schema_version": 3,
     "solution": false,
     "task": false
    }
   },
   "source": [
    "**QUESTION 1.15**\n",
    "\n",
    "Coerce the `mtcars` data frame to a tibble, and take all columns that start with the letter \"d\". \n",
    "    - Hint: take a look at the \"Select helpers\" documentation by running the following code: `?tidyselect::select_helpers`."
   ]
  },
  {
   "cell_type": "code",
   "execution_count": null,
   "metadata": {
    "name": "question-1-15",
    "nbgrader": {
     "grade": false,
     "grade_id": "cell-3436734fb3814e38",
     "locked": false,
     "schema_version": 3,
     "solution": true,
     "task": false
    }
   },
   "outputs": [],
   "source": [
    "# answer1.15 <- #youranswer\n",
    "\n",
    "### BEGIN SOLUTION\n",
    "answer1.15 <- as_tibble(mtcars) %>% select(starts_with(\"d\"))\n",
    "### END SOLUTION"
   ]
  },
  {
   "cell_type": "code",
   "execution_count": null,
   "metadata": {
    "name": "test-1-15",
    "nbgrader": {
     "grade": true,
     "grade_id": "cell-2460f843e670a352",
     "locked": true,
     "points": 0,
     "schema_version": 3,
     "solution": false,
     "task": false
    }
   },
   "outputs": [],
   "source": [
    "# test for a 32 by 2 tibble where columns are \"disp\", \"drat\" in that order"
   ]
  },
  {
   "cell_type": "markdown",
   "metadata": {
    "nbgrader": {
     "grade": false,
     "grade_id": "cell-a41f012f1a49ec5c",
     "locked": true,
     "schema_version": 3,
     "solution": false,
     "task": false
    }
   },
   "source": [
    "This exercise is from [r-exercises](https://www.r-exercises.com/2017/10/19/dplyr-basic-functions-exercises/).\n",
    "\n",
    "## Part B: Visualize your data\n",
    "\n",
    "**Part B of this worksheet reviews the concepts learned in Class 5: ggplot2 I.**\n",
    "\n",
    "## Preliminary\n",
    "\n",
    "Run this code chunk to load the required packages:"
   ]
  },
  {
   "cell_type": "code",
   "execution_count": null,
   "metadata": {
    "name": "load packages",
    "nbgrader": {
     "grade": false,
     "grade_id": "cell-0f0f7767d1e15405",
     "locked": true,
     "schema_version": 3,
     "solution": false,
     "task": false
    },
    "warning": false
   },
   "outputs": [],
   "source": [
    "suppressPackageStartupMessages(library(tidyverse))\n",
    "suppressPackageStartupMessages(library(palmerpenguins))\n",
    "suppressPackageStartupMessages(library(gapminder))\n",
    "suppressPackageStartupMessages(library(scales))\n",
    "suppressPackageStartupMessages(library(tsibble))"
   ]
  },
  {
   "cell_type": "markdown",
   "metadata": {
    "nbgrader": {
     "grade": false,
     "grade_id": "cell-3609967e088488a2",
     "locked": true,
     "schema_version": 3,
     "solution": false,
     "task": false
    }
   },
   "source": [
    "## Grammar of Graphics\n",
    "\n",
    "Before we start, here is the [ggplot2 cheatsheet](https://github.com/rstudio/cheatsheets/blob/master/data-visualization-2.1.pdf). When you're coding on your own (i.e. working on your own project outside of class), cheatsheets are one of the most common resources that you'll continuously revisit.\n",
    "\n",
    "Consider the following plot. Don't concern yourself with the code at this point."
   ]
  },
  {
   "cell_type": "code",
   "execution_count": null,
   "metadata": {
    "fig.height": 2,
    "fig.width": 5,
    "nbgrader": {
     "grade": false,
     "grade_id": "cell-8200c0c55fbdf62c",
     "locked": true,
     "schema_version": 3,
     "solution": false,
     "task": false
    }
   },
   "outputs": [],
   "source": [
    "gapminder %>% \n",
    "  filter(year == 2007) %>% \n",
    "  mutate(continent = fct_infreq(continent)) %>% \n",
    "  ggplot(aes(continent)) +\n",
    "  geom_bar() +\n",
    "  theme_bw()"
   ]
  },
  {
   "cell_type": "markdown",
   "metadata": {
    "nbgrader": {
     "grade": false,
     "grade_id": "cell-1840b9e7bd457e63",
     "locked": true,
     "schema_version": 3,
     "solution": false,
     "task": false
    }
   },
   "source": [
    "**QUESTION 2.0**\n",
    "\n",
    "Fill in the seven grammar components for this plot. Choose the best option:\n",
    "\n",
    "1:\n",
    "\n",
    "| Grammar Component     | Specification |\n",
    "|-----------------------|---------------|\n",
    "| __data__              | `gapminder` |\n",
    "| __aesthetic mapping__ | `continent` |\n",
    "| __geometric object__  | `bars` |\n",
    "| scale                 | `logarithmic` |\n",
    "| statistical transform | `none` |\n",
    "| coordinate system     | `rectangular` |\n",
    "| facetting             | `none` |\n",
    "\n",
    "2:\n",
    "\n",
    "| Grammar Component     | Specification |\n",
    "|-----------------------|---------------|\n",
    "| __data__              | `gapminder` |\n",
    "| __aesthetic mapping__ | `continent` |\n",
    "| __geometric object__  | `bars` |\n",
    "| scale                 | `linear` |\n",
    "| statistical transform | `none` |\n",
    "| coordinate system     | `rectangular` |\n",
    "| facetting             | `none` |\n",
    "\n",
    "3:\n",
    "\n",
    "| Grammar Component     | Specification |\n",
    "|-----------------------|---------------|\n",
    "| __data__              | `gapminder` |\n",
    "| __aesthetic mapping__ | `year` |\n",
    "| __geometric object__  | `bars` |\n",
    "| scale                 | `linear` |\n",
    "| statistical transform | `none` |\n",
    "| coordinate system     | `rectangular` |\n",
    "| facetting             | `none` |\n"
   ]
  },
  {
   "cell_type": "code",
   "execution_count": null,
   "metadata": {
    "nbgrader": {
     "grade": false,
     "grade_id": "cell-7c29aaa148301871",
     "locked": false,
     "schema_version": 3,
     "solution": true,
     "task": false
    }
   },
   "outputs": [],
   "source": [
    "# answer2.0 <- youranswerhere\n",
    "\n",
    "### BEGIN SOLUTION\n",
    "answer2.0 <- 2\n",
    "### END SOLUTION"
   ]
  },
  {
   "cell_type": "code",
   "execution_count": null,
   "metadata": {
    "nbgrader": {
     "grade": true,
     "grade_id": "cell-4df06b4877fb03a0",
     "locked": true,
     "points": 0,
     "schema_version": 3,
     "solution": false,
     "task": false
    }
   },
   "outputs": [],
   "source": [
    "test_that(\"Question 2.0\", {\n",
    "    expect_equal(digest(as.numeric(answer2.0)), \"db8e490a925a60e62212cefc7674ca02\")\n",
    "})"
   ]
  },
  {
   "cell_type": "markdown",
   "metadata": {
    "nbgrader": {
     "grade": false,
     "grade_id": "cell-2442a68b976c530f",
     "locked": true,
     "schema_version": 3,
     "solution": false,
     "task": false
    }
   },
   "source": [
    "Look at this plot instead."
   ]
  },
  {
   "cell_type": "code",
   "execution_count": null,
   "metadata": {
    "nbgrader": {
     "grade": false,
     "grade_id": "cell-22b00633160c2236",
     "locked": true,
     "schema_version": 3,
     "solution": false,
     "task": false
    }
   },
   "outputs": [],
   "source": [
    "ggplot(gapminder, aes(gdpPercap, lifeExp)) +\n",
    "  geom_point(alpha = 0.1) +\n",
    "  scale_x_log10(\"GDP per capita\", labels = scales::dollar_format()) +\n",
    "  theme_bw() +\n",
    "  ylab(\"Life Expectancy\")"
   ]
  },
  {
   "cell_type": "markdown",
   "metadata": {
    "nbgrader": {
     "grade": false,
     "grade_id": "cell-e6cab07f900f577c",
     "locked": true,
     "schema_version": 3,
     "solution": false,
     "task": false
    }
   },
   "source": [
    "**QUESTION 2.1**\n",
    "\n",
    "What is the aesthetic mapping in this plot?\n",
    "\n",
    "1: alpha = 0.1\n",
    "2: x: gdpPercap, y: lifeExp\n",
    "3: none\n",
    "4: \"Life Expectancy\""
   ]
  },
  {
   "cell_type": "code",
   "execution_count": null,
   "metadata": {
    "name": "question-2-1",
    "nbgrader": {
     "grade": false,
     "grade_id": "cell-152b3fbe60dd7c03",
     "locked": false,
     "schema_version": 3,
     "solution": true,
     "task": false
    }
   },
   "outputs": [],
   "source": [
    "# answer2.1 <- youranswer\n",
    "\n",
    "### BEGIN SOLUTION\n",
    "answer2.1 <- 2\n",
    "### END SOLUTION"
   ]
  },
  {
   "cell_type": "code",
   "execution_count": null,
   "metadata": {
    "name": "test-2-1",
    "nbgrader": {
     "grade": true,
     "grade_id": "cell-ccc9ce63f5f30df7",
     "locked": true,
     "points": 0,
     "schema_version": 3,
     "solution": false,
     "task": false
    }
   },
   "outputs": [],
   "source": [
    "test_that(\"Question 2.1\", {\n",
    "    expect_equal(digest(as.numeric(answer2.1)), \"db8e490a925a60e62212cefc7674ca02\")\n",
    "})"
   ]
  },
  {
   "cell_type": "markdown",
   "metadata": {
    "nbgrader": {
     "grade": false,
     "grade_id": "cell-348d1979604e5a65",
     "locked": true,
     "schema_version": 3,
     "solution": false,
     "task": false
    }
   },
   "source": [
    "## `ggplot2` Syntax \n",
    "\n",
    "The following is a tsibble (a special type of tibble containing time series data, which we'll see more of later), stored in the variable `mauna`, of CO$_2$ concentrations collected monthly at the Mauna Loa station.\n",
    "\n",
    "Execute this code to store the data in `mauna`:"
   ]
  },
  {
   "cell_type": "code",
   "execution_count": null,
   "metadata": {
    "nbgrader": {
     "grade": false,
     "grade_id": "cell-023803162ea5acb4",
     "locked": true,
     "schema_version": 3,
     "solution": false,
     "task": false
    }
   },
   "outputs": [],
   "source": [
    "(mauna <- tsibble::as_tsibble(co2) %>% \n",
    "   rename(month = index, conc = value))"
   ]
  },
  {
   "cell_type": "markdown",
   "metadata": {
    "nbgrader": {
     "grade": false,
     "grade_id": "cell-aad09d34d3ff5ca5",
     "locked": true,
     "schema_version": 3,
     "solution": false,
     "task": false
    }
   },
   "source": [
    "**QUESTION 2.2**\n",
    "\n",
    "Produce a line chart showing the concentration over time. Specifically, the plot should have the following grammar components:\n",
    "\n",
    "| Grammar Component     | Specification |\n",
    "|-----------------------|---------------|\n",
    "| __data__              | `mauna` |\n",
    "| __aesthetic mapping__ | x: month, y: conc |\n",
    "| __geometric object__  | lines |\n",
    "| scale                 | linear |\n",
    "| statistical transform | none |\n",
    "| coordinate system     | rectangular |\n",
    "| facetting             | none |\n",
    "\n",
    "Fill in the blanks to obtain the plot:"
   ]
  },
  {
   "cell_type": "code",
   "execution_count": null,
   "metadata": {
    "name": "question-2-2",
    "nbgrader": {
     "grade": false,
     "grade_id": "cell-0898e7c18342b749",
     "locked": false,
     "schema_version": 3,
     "solution": true,
     "task": false
    }
   },
   "outputs": [],
   "source": [
    "# answer2.2 <- ggplot(FILL_THIS_IN, aes(FILL_THIS_IN, FILL_THIS_IN)) +\n",
    "# FILL_THIS_IN()\n",
    "\n",
    "### BEGIN SOLUTION\n",
    "answer2.2 <- ggplot(mauna, aes(x = month, y = conc) + geom_line())\n",
    "### END SOLUTION"
   ]
  },
  {
   "cell_type": "code",
   "execution_count": null,
   "metadata": {
    "name": "test-2-2",
    "nbgrader": {
     "grade": true,
     "grade_id": "cell-ba9f7a916345d473",
     "locked": true,
     "points": 0,
     "schema_version": 3,
     "solution": false,
     "task": false
    }
   },
   "outputs": [],
   "source": [
    "# test that the aesthetics of the plot are aes(x = month, y = conc) and geom_line()"
   ]
  },
  {
   "cell_type": "code",
   "execution_count": null,
   "metadata": {
    "fig.height": 2,
    "fig.width": 5,
    "nbgrader": {
     "grade": false,
     "grade_id": "cell-b2e463e90185fdfb",
     "locked": true,
     "schema_version": 3,
     "solution": false,
     "task": false
    }
   },
   "outputs": [],
   "source": [
    "# print plot to screen here"
   ]
  },
  {
   "cell_type": "markdown",
   "metadata": {
    "nbgrader": {
     "grade": false,
     "grade_id": "cell-c77d5090551e3e54",
     "locked": true,
     "schema_version": 3,
     "solution": false,
     "task": false
    }
   },
   "source": [
    "**QUESTION 2.3**\n",
    "\n",
    "It turns out that you're allowed to specify the aesthetic mappings in a `geom` layer instead of, or in addition to, in the `ggplot()` function, with the following rules:\n",
    "\n",
    "- Aesthetics appearing in a `geom` layer apply only to that layer.\n",
    "- If there are conflicting aesthetics in both the `ggplot()` function and the `geom` layer, the `geom` layer takes precedence.\n",
    "\n",
    "The following code mistakenly puts the month variable on the y-axis. Fill in the `FILL_THIS_IN` so that you still obtain the same result as above."
   ]
  },
  {
   "cell_type": "code",
   "execution_count": null,
   "metadata": {
    "name": "question-2-3",
    "nbgrader": {
     "grade": false,
     "grade_id": "cell-585eced66e64dfc2",
     "locked": false,
     "schema_version": 3,
     "solution": true,
     "task": false
    }
   },
   "outputs": [],
   "source": [
    "# answer2.3 <-\n",
    "# ggplot(mauna, aes(y = month)) +\n",
    "# geom_point(aes(FILL_THIS_IN))\n",
    "\n",
    "### BEGIN SOLUTION \n",
    "answer2.3 <-\n",
    "ggplot(mauna, aes(y = month)) +\n",
    "  geom_point(aes(x = month))\n",
    "### END SOLUTION"
   ]
  },
  {
   "cell_type": "code",
   "execution_count": null,
   "metadata": {
    "name": "test-2-3",
    "nbgrader": {
     "grade": true,
     "grade_id": "cell-86592fb2963c87ac",
     "locked": true,
     "points": 0,
     "schema_version": 3,
     "solution": false,
     "task": false
    }
   },
   "outputs": [],
   "source": [
    "# test for the plot aesthetics"
   ]
  },
  {
   "cell_type": "markdown",
   "metadata": {
    "nbgrader": {
     "grade": false,
     "grade_id": "cell-013a4a5e358c1cfa",
     "locked": true,
     "schema_version": 3,
     "solution": false,
     "task": false
    }
   },
   "source": [
    "**QUESTION 2.4**\n",
    "\n",
    "You can store the output of the plot in a variable, too. The plot that you created in 2.3 is stored in the variable `answer2.2`. Add a layer to `answer2.2` that adds green points to the plot. "
   ]
  },
  {
   "cell_type": "code",
   "execution_count": null,
   "metadata": {
    "name": "question-2-4",
    "nbgrader": {
     "grade": false,
     "grade_id": "cell-1adda33c8aa8f9b2",
     "locked": false,
     "schema_version": 3,
     "solution": true,
     "task": false
    }
   },
   "outputs": [],
   "source": [
    "answer2.4 <-\n",
    "answer2.3 +\n",
    "  FILL_THIS_IN(colour = FILL_THIS_IN)\n",
    "\n",
    "### BEGIN SOLUTION\n",
    "answer2.4 <-\n",
    "answer2.3 +\n",
    "  geom_point(colour = \"green\")\n",
    "### END SOLUTION"
   ]
  },
  {
   "cell_type": "code",
   "execution_count": null,
   "metadata": {
    "name": "test-2-4",
    "nbgrader": {
     "grade": true,
     "grade_id": "cell-6159b227123cb565",
     "locked": true,
     "points": 0,
     "schema_version": 3,
     "solution": false,
     "task": false
    }
   },
   "outputs": [],
   "source": [
    "# test for the plot aesthetics"
   ]
  },
  {
   "cell_type": "markdown",
   "metadata": {
    "nbgrader": {
     "grade": false,
     "grade_id": "cell-b0d8efb5fbfa02dc",
     "locked": true,
     "schema_version": 3,
     "solution": false,
     "task": false
    }
   },
   "source": [
    "Have a look at the plot!"
   ]
  },
  {
   "cell_type": "code",
   "execution_count": null,
   "metadata": {
    "fig.height": 2,
    "fig.width": 5,
    "nbgrader": {
     "grade": false,
     "grade_id": "cell-9a8c276f5a9f1a51",
     "locked": true,
     "schema_version": 3,
     "solution": false,
     "task": false
    }
   },
   "outputs": [],
   "source": [
    "# print the plot to screen"
   ]
  },
  {
   "cell_type": "markdown",
   "metadata": {
    "nbgrader": {
     "grade": false,
     "grade_id": "cell-7317de1a0c25824b",
     "locked": true,
     "schema_version": 3,
     "solution": false,
     "task": false
    }
   },
   "source": [
    "**QUESTION 2.5**\n",
    "\n",
    "Can you fix what is wrong with the following code?"
   ]
  },
  {
   "cell_type": "code",
   "execution_count": null,
   "metadata": {
    "name": "question-2-5",
    "nbgrader": {
     "grade": false,
     "grade_id": "cell-33b29c4f11a3fd9a",
     "locked": false,
     "schema_version": 3,
     "solution": true,
     "task": false
    }
   },
   "outputs": [],
   "source": [
    "# answer2.5 <-\n",
    "# ggplot(gapminder) +\n",
    "#  geom_point(x = gdpPercap, y = lifeExp, alpha = 0.1)\n",
    "\n",
    "### BEGIN SOLUTION\n",
    "answer2.5 <-\n",
    "ggplot(gapminder, aes(x = gdpPercap, y = lifeExp)) +\n",
    "  geom_point(alpha = 0.1)\n",
    "### END SOLUTION"
   ]
  },
  {
   "cell_type": "code",
   "execution_count": null,
   "metadata": {
    "name": "test-2-5",
    "nbgrader": {
     "grade": true,
     "grade_id": "cell-beeab255dac507a5",
     "locked": true,
     "points": 0,
     "schema_version": 3,
     "solution": false,
     "task": false
    }
   },
   "outputs": [],
   "source": [
    "# test for the plot aesthetics"
   ]
  },
  {
   "cell_type": "code",
   "execution_count": null,
   "metadata": {
    "fig.height": 2,
    "fig.width": 5,
    "nbgrader": {
     "grade": false,
     "grade_id": "cell-9130ea25fce0db00",
     "locked": true,
     "schema_version": 3,
     "solution": false,
     "task": false
    }
   },
   "outputs": [],
   "source": [
    "# print to screen"
   ]
  },
  {
   "cell_type": "markdown",
   "metadata": {
    "nbgrader": {
     "grade": false,
     "grade_id": "cell-a8a36364a556c733",
     "locked": true,
     "schema_version": 3,
     "solution": false,
     "task": false
    }
   },
   "source": [
    "**QUESTION 2.6**\n",
    "\n",
    "So you're a ggplot2 pro? Then, let's see this plot adapted to polar coordinates. Specifically:\n",
    "\n",
    "- angle is month (January through December)\n",
    "- radius is CO$_2$ concentration\n",
    "\n",
    "The plot should look like a spiral, or concentric circles. "
   ]
  },
  {
   "cell_type": "code",
   "execution_count": null,
   "metadata": {
    "name": "question-2-6",
    "nbgrader": {
     "grade": false,
     "grade_id": "cell-28a1d6086155b624",
     "locked": true,
     "schema_version": 3,
     "solution": false,
     "task": false
    }
   },
   "outputs": [],
   "source": [
    "# FILL_THIS_IN"
   ]
  },
  {
   "cell_type": "markdown",
   "metadata": {
    "nbgrader": {
     "grade": false,
     "grade_id": "cell-df6fc526d3d9ff54",
     "locked": true,
     "schema_version": 3,
     "solution": false,
     "task": false
    }
   },
   "source": [
    "Remember the `penguins` dataset that we worked with in Part A of the worksheet? Let's try visualizing some of that data.\n",
    "\n",
    "**QUESTION 2.7**\n",
    "\n",
    "There are many questions that you may want to ask about the `penguins` dataset. Often, exploring relationships between variables is one of the first steps when exploring your data. Scatterplots are a great way to visualize this. \n",
    "\n",
    "Let's explore the relationship between flipper length and body mass (if any!). I have provided the \"scaffold\" of the ggplot2 recipe, now it's your turn to fill it in. Use the following parameters:\n",
    "\n",
    "- Flipper length should be on the x axis, and body mass should be on the y axis.\n",
    "- Color by species.\n",
    "- Set the size of the points to 3, and the alpha (transparency) to 0.8.\n",
    "- "
   ]
  },
  {
   "cell_type": "code",
   "execution_count": null,
   "metadata": {
    "name": "question-2-7",
    "nbgrader": {
     "grade": false,
     "grade_id": "cell-c32ba6c72bfd6f8d",
     "locked": false,
     "schema_version": 3,
     "solution": true,
     "task": false
    }
   },
   "outputs": [],
   "source": [
    "# answer2.7 <- \n",
    "#  ggplot(data = FILL_THIS_IN, aes(x = FILL_THIS_IN, y = FILL_THIS_IN)) +\n",
    "#  geom_point(aes(color = FILL_THIS_IN),\n",
    "#             size = FILL_THIS_IN,\n",
    "#             alpha = FILL_THIS_IN) \n",
    "\n",
    "### BEGIN SOLUTION\n",
    "answer2.7 <- \n",
    "  ggplot(data = penguins,\n",
    "                    aes(x = flipper_length_mm, y = body_mass_g)) +\n",
    "  geom_point(aes(color = species),\n",
    "             size = 3,\n",
    "             alpha = 0.8) \n",
    "### END SOLUTION"
   ]
  },
  {
   "cell_type": "code",
   "execution_count": null,
   "metadata": {
    "name": "test-2-7",
    "nbgrader": {
     "grade": true,
     "grade_id": "cell-5435338295968e93",
     "locked": true,
     "points": 0,
     "schema_version": 3,
     "solution": false,
     "task": false
    }
   },
   "outputs": [],
   "source": [
    "# test for the plot aesthetics"
   ]
  },
  {
   "cell_type": "markdown",
   "metadata": {
    "nbgrader": {
     "grade": false,
     "grade_id": "cell-998dc55c1d890e65",
     "locked": true,
     "schema_version": 3,
     "solution": false,
     "task": false
    }
   },
   "source": [
    "Now, print `answer2.7` to screen to see your plot!"
   ]
  },
  {
   "cell_type": "code",
   "execution_count": null,
   "metadata": {
    "nbgrader": {
     "grade": false,
     "grade_id": "cell-a0f3ed7598db9b41",
     "locked": true,
     "schema_version": 3,
     "solution": false,
     "task": false
    }
   },
   "outputs": [],
   "source": [
    "# print to screen"
   ]
  },
  {
   "cell_type": "markdown",
   "metadata": {
    "nbgrader": {
     "grade": false,
     "grade_id": "cell-6a21547a3790521d",
     "locked": true,
     "schema_version": 3,
     "solution": false,
     "task": false
    }
   },
   "source": [
    "**QUESTION 2.8**\n",
    "\n",
    "Try the same as in 2.7 (flipper length vs. body mass), but this time coloring by island! See if you can write the code without looking at the last question."
   ]
  },
  {
   "cell_type": "code",
   "execution_count": null,
   "metadata": {
    "name": "question-2-8",
    "nbgrader": {
     "grade": false,
     "grade_id": "cell-e5fa2343fa5fa011",
     "locked": false,
     "schema_version": 3,
     "solution": true,
     "task": false
    }
   },
   "outputs": [],
   "source": [
    "# answer2.8 <- youranswer\n",
    "\n",
    "### BEGIN SOLUTION\n",
    "answer2.8 <- \n",
    "  ggplot(data = penguins,\n",
    "                    aes(x = flipper_length_mm, y = body_mass_g)) +\n",
    "  geom_point(aes(color = island),\n",
    "             size = 3,\n",
    "             alpha = 0.8) \n",
    "### END SOLUTION"
   ]
  },
  {
   "cell_type": "code",
   "execution_count": null,
   "metadata": {
    "name": "test-2-8",
    "nbgrader": {
     "grade": true,
     "grade_id": "cell-c4ce5e507cf49bc7",
     "locked": true,
     "points": 0,
     "schema_version": 3,
     "solution": false,
     "task": false
    }
   },
   "outputs": [],
   "source": [
    "# test for the plot aesthetics "
   ]
  },
  {
   "cell_type": "markdown",
   "metadata": {
    "nbgrader": {
     "grade": false,
     "grade_id": "cell-3bf91599cb8a9529",
     "locked": true,
     "schema_version": 3,
     "solution": false,
     "task": false
    }
   },
   "source": [
    "Print `answer2.7` to screen to see the plot!"
   ]
  },
  {
   "cell_type": "code",
   "execution_count": null,
   "metadata": {
    "nbgrader": {
     "grade": false,
     "grade_id": "cell-a328397cfe63f353",
     "locked": true,
     "schema_version": 3,
     "solution": false,
     "task": false
    }
   },
   "outputs": [],
   "source": [
    "# your code here"
   ]
  },
  {
   "cell_type": "markdown",
   "metadata": {
    "nbgrader": {
     "grade": false,
     "grade_id": "cell-0d86f0a7fdedf4a6",
     "locked": true,
     "schema_version": 3,
     "solution": false,
     "task": false
    }
   },
   "source": [
    "**QUESTION 2.9**\n",
    "\n",
    "Suppose you want to visualize the number of penguins per island. It seems that a bar chart could be useful for this purpose. Give it a try! Hint: bar charts only need specifying one axis (use the x axis)."
   ]
  },
  {
   "cell_type": "code",
   "execution_count": null,
   "metadata": {
    "name": "question-2-9",
    "nbgrader": {
     "grade": false,
     "grade_id": "cell-f76d1f4383e785e2",
     "locked": false,
     "schema_version": 3,
     "solution": true,
     "task": false
    }
   },
   "outputs": [],
   "source": [
    "# answer2.9 <- ggplot(penguins, aes(FILL_THIS_IN)) + FILL_THIS_IN()\n",
    "\n",
    "### BEGIN SOLUTION\n",
    "answer2.9 <- ggplot(penguins, aes(x = island)) + geom_bar()\n",
    "### END SOLUTION"
   ]
  },
  {
   "cell_type": "code",
   "execution_count": null,
   "metadata": {
    "name": "test-2-9",
    "nbgrader": {
     "grade": true,
     "grade_id": "cell-bfa4c0a68520f077",
     "locked": true,
     "points": 0,
     "schema_version": 3,
     "solution": false,
     "task": false
    }
   },
   "outputs": [],
   "source": [
    "# test for the plot aesthetics "
   ]
  },
  {
   "cell_type": "markdown",
   "metadata": {
    "nbgrader": {
     "grade": false,
     "grade_id": "cell-325fa299970c6bc0",
     "locked": true,
     "schema_version": 3,
     "solution": false,
     "task": false
    }
   },
   "source": [
    "Print the plot to screen to see the penguin distribution across different islands."
   ]
  },
  {
   "cell_type": "code",
   "execution_count": null,
   "metadata": {
    "nbgrader": {
     "grade": false,
     "grade_id": "cell-100aeb977e0b2800",
     "locked": true,
     "schema_version": 3,
     "solution": false,
     "task": false
    }
   },
   "outputs": [],
   "source": [
    "# your code here"
   ]
  },
  {
   "cell_type": "markdown",
   "metadata": {
    "nbgrader": {
     "grade": false,
     "grade_id": "cell-5c92e8dfee6ce8f6",
     "locked": true,
     "schema_version": 3,
     "solution": false,
     "task": false
    }
   },
   "source": [
    "Try plotting the same graph, but specifying the y axis coordinate instead. What does it look like?"
   ]
  },
  {
   "cell_type": "code",
   "execution_count": null,
   "metadata": {
    "nbgrader": {
     "grade": false,
     "grade_id": "cell-119dbf8c58a9379c",
     "locked": true,
     "schema_version": 3,
     "solution": false,
     "task": false
    }
   },
   "outputs": [],
   "source": [
    "# your code here"
   ]
  },
  {
   "cell_type": "markdown",
   "metadata": {
    "nbgrader": {
     "grade": false,
     "grade_id": "cell-5afee25841dccf80",
     "locked": true,
     "schema_version": 3,
     "solution": false,
     "task": false
    }
   },
   "source": [
    "Great job! Bar plots can be plotted in either way. Here is another handy way to flip the coordinates, instead of plotting the graph again."
   ]
  },
  {
   "cell_type": "code",
   "execution_count": null,
   "metadata": {
    "nbgrader": {
     "grade": false,
     "grade_id": "cell-8a15219f1d767eb2",
     "locked": true,
     "schema_version": 3,
     "solution": false,
     "task": false
    }
   },
   "outputs": [],
   "source": [
    "# take answer2.9, which stores the vertical graph, and add coord_flip()\n",
    "# answer2.9 + coord_flip()"
   ]
  },
  {
   "cell_type": "markdown",
   "metadata": {
    "nbgrader": {
     "grade": false,
     "grade_id": "cell-197b25f94724bc18",
     "locked": true,
     "schema_version": 3,
     "solution": false,
     "task": false
    }
   },
   "source": [
    "You get the same result!\n",
    "\n",
    "**QUESTION 2.10**\n",
    "\n",
    "Maybe you want to explore the distribution of body mass. Exploring the distribution is one of the most important things when looking at data; different models have different assumptions, and the distribution of data is usually one of those assumptions. No need to worry about models for now, but it's interesting to know ways in which you can explore distribution visually! Histograms are useful for this purpose."
   ]
  },
  {
   "cell_type": "code",
   "execution_count": null,
   "metadata": {
    "name": "question-2-10",
    "nbgrader": {
     "grade": false,
     "grade_id": "cell-2cb6c30ac7fa8926",
     "locked": false,
     "schema_version": 3,
     "solution": true,
     "task": false
    }
   },
   "outputs": [],
   "source": [
    "# answer2.10 <-\n",
    "# ggplot(FILL_THIS_IN, aes(x = FILL_THIS_IN)) +\n",
    "#  geom_histogram()\n",
    "\n",
    "### BEGIN SOLUTION\n",
    "answer2.10 <-\n",
    "ggplot(penguins, aes(x = body_mass_g)) +\n",
    "  geom_histogram()\n",
    "### END SOLUTION"
   ]
  },
  {
   "cell_type": "code",
   "execution_count": null,
   "metadata": {
    "name": "test-2-10",
    "nbgrader": {
     "grade": true,
     "grade_id": "cell-151ecc50946e55a5",
     "locked": true,
     "points": 0,
     "schema_version": 3,
     "solution": false,
     "task": false
    }
   },
   "outputs": [],
   "source": [
    "# test for plot aesthetics"
   ]
  },
  {
   "cell_type": "code",
   "execution_count": null,
   "metadata": {
    "nbgrader": {
     "grade": false,
     "grade_id": "cell-56794dafb0677508",
     "locked": true,
     "schema_version": 3,
     "solution": false,
     "task": false
    }
   },
   "outputs": [],
   "source": [
    "# your code here"
   ]
  },
  {
   "cell_type": "markdown",
   "metadata": {
    "nbgrader": {
     "grade": false,
     "grade_id": "cell-2d815d8c8a345a1c",
     "locked": true,
     "schema_version": 3,
     "solution": false,
     "task": false
    }
   },
   "source": [
    "Visualizing the distribution of body mass across all data is great, but a more interesting question may be what the body mass distribution is by species. We can achieve this easily by adding to the code:"
   ]
  },
  {
   "cell_type": "code",
   "execution_count": null,
   "metadata": {
    "nbgrader": {
     "grade": false,
     "grade_id": "cell-8c416ef5558e8378",
     "locked": true,
     "schema_version": 3,
     "solution": false,
     "task": false
    }
   },
   "outputs": [],
   "source": [
    "ggplot(penguins, aes(x = body_mass_g, fill = species)) +\n",
    "  geom_histogram()"
   ]
  },
  {
   "cell_type": "markdown",
   "metadata": {
    "nbgrader": {
     "grade": false,
     "grade_id": "cell-fa07cb6e846ab6c4",
     "locked": true,
     "schema_version": 3,
     "solution": false,
     "task": false
    }
   },
   "source": [
    "Great! We've added some more information, but is there something we could do to make the graph more readable? Let's start by changing the binwidth:"
   ]
  },
  {
   "cell_type": "code",
   "execution_count": null,
   "metadata": {
    "nbgrader": {
     "grade": false,
     "grade_id": "cell-88cf800c3e52ee7e",
     "locked": true,
     "schema_version": 3,
     "solution": false,
     "task": false
    }
   },
   "outputs": [],
   "source": [
    "ggplot(penguins, aes(x = body_mass_g, fill = species)) +\n",
    "  geom_histogram(binwidth = 50)"
   ]
  },
  {
   "cell_type": "markdown",
   "metadata": {
    "nbgrader": {
     "grade": false,
     "grade_id": "cell-019cda4fed617485",
     "locked": true,
     "schema_version": 3,
     "solution": false,
     "task": false
    }
   },
   "source": [
    "**QUESTION 2.11**\n",
    "\n",
    "Stacked histograms still look a little awkward. When we want to visualize distributions of the data by variable in a single graph, density plots look better in terms of variables not obscuring one another. Try it yourself! Hint: Use `color` or `colour` instead of `fill` for aesthetic mapping. "
   ]
  },
  {
   "cell_type": "code",
   "execution_count": null,
   "metadata": {
    "name": "question-2-11",
    "nbgrader": {
     "grade": false,
     "grade_id": "cell-c5ed8bdac7e31e38",
     "locked": false,
     "schema_version": 3,
     "solution": true,
     "task": false
    }
   },
   "outputs": [],
   "source": [
    "# answer2.11 <- ggplot(COMPLETE_THE_CODE) + geom_density()\n",
    "\n",
    "### BEGIN SOLUTION\n",
    "answer2.11 <- \n",
    "ggplot(penguins, aes(x = body_mass_g, color = species)) +\n",
    "  geom_density()\n",
    "### END SOLUTION"
   ]
  },
  {
   "cell_type": "code",
   "execution_count": null,
   "metadata": {
    "name": "test-2-11",
    "nbgrader": {
     "grade": true,
     "grade_id": "cell-a45951e2698ed973",
     "locked": true,
     "points": 0,
     "schema_version": 3,
     "solution": false,
     "task": false
    }
   },
   "outputs": [],
   "source": [
    "# test for plot aesthetics"
   ]
  },
  {
   "cell_type": "markdown",
   "metadata": {
    "nbgrader": {
     "grade": false,
     "grade_id": "cell-1209b622e95eb191",
     "locked": true,
     "schema_version": 3,
     "solution": false,
     "task": false
    }
   },
   "source": [
    "See what the plot looks like now."
   ]
  },
  {
   "cell_type": "code",
   "execution_count": null,
   "metadata": {
    "nbgrader": {
     "grade": false,
     "grade_id": "cell-a6714051798689ed",
     "locked": true,
     "schema_version": 3,
     "solution": false,
     "task": false
    }
   },
   "outputs": [],
   "source": [
    "# print to screen"
   ]
  },
  {
   "cell_type": "markdown",
   "metadata": {
    "nbgrader": {
     "grade": false,
     "grade_id": "cell-9f8552c89aaa05f9",
     "locked": true,
     "schema_version": 3,
     "solution": false,
     "task": false
    }
   },
   "source": [
    "**QUESTION 2.12**\n",
    "\n",
    "Let's look at two more types of plot to once again explore the relationship between body mass and penguin species. Stripplots are univariate scatterplots, and they are a useful way of visualizing how, in this case, body mass is spread in each species. Specify \"species\" as x, and \"body_mass_g\" as y."
   ]
  },
  {
   "cell_type": "code",
   "execution_count": null,
   "metadata": {
    "name": "question-2-12",
    "nbgrader": {
     "grade": false,
     "grade_id": "cell-83a6e6b75d5829a2",
     "locked": false,
     "schema_version": 3,
     "solution": true,
     "task": false
    }
   },
   "outputs": [],
   "source": [
    "# answer2.12 <-\n",
    "#  ggplot(FILL_THIS_IN, aes(COMPLETE_THE_CODE)) + geom_jitter()\n",
    "\n",
    "### BEGIN SOLUTION\n",
    "answer2.12 <- \n",
    "  ggplot(penguins, aes(x = species, y = body_mass_g)) + geom_jitter()\n",
    "### END SOLUTION"
   ]
  },
  {
   "cell_type": "code",
   "execution_count": null,
   "metadata": {
    "name": "test-2-12",
    "nbgrader": {
     "grade": true,
     "grade_id": "cell-553fcc90026715d6",
     "locked": true,
     "points": 0,
     "schema_version": 3,
     "solution": false,
     "task": false
    }
   },
   "outputs": [],
   "source": [
    "# test for plot aesthetics"
   ]
  },
  {
   "cell_type": "markdown",
   "metadata": {
    "nbgrader": {
     "grade": false,
     "grade_id": "cell-d8bc2db405d43d7f",
     "locked": true,
     "schema_version": 3,
     "solution": false,
     "task": false
    }
   },
   "source": [
    "**QUESTION 2.13**\n",
    "\n",
    "A similar option is a boxplot. Hint: use geom_boxplot() instead."
   ]
  },
  {
   "cell_type": "code",
   "execution_count": null,
   "metadata": {
    "name": "question-2-13",
    "nbgrader": {
     "grade": false,
     "grade_id": "cell-008c01e8863845fb",
     "locked": false,
     "schema_version": 3,
     "solution": true,
     "task": false
    }
   },
   "outputs": [],
   "source": [
    "# answer2.13 <- youranswer\n",
    "\n",
    "### BEGIN SOLUTION\n",
    "answer2.13 <- \n",
    "  ggplot(penguins, aes(x = species, y = body_mass_g)) + geom_boxplot()\n",
    "### END SOLUTION"
   ]
  },
  {
   "cell_type": "code",
   "execution_count": null,
   "metadata": {
    "name": "test-2-13",
    "nbgrader": {
     "grade": true,
     "grade_id": "cell-a565435240aba0e4",
     "locked": true,
     "points": 0,
     "schema_version": 3,
     "solution": false,
     "task": false
    }
   },
   "outputs": [],
   "source": [
    "# test for plot aesthetics"
   ]
  },
  {
   "cell_type": "markdown",
   "metadata": {
    "nbgrader": {
     "grade": false,
     "grade_id": "cell-4658fe83ec19d091",
     "locked": true,
     "schema_version": 3,
     "solution": false,
     "task": false
    }
   },
   "source": [
    "Now, let's have a look at both plots."
   ]
  },
  {
   "cell_type": "code",
   "execution_count": null,
   "metadata": {
    "nbgrader": {
     "grade": false,
     "grade_id": "cell-d55a35921aa80f3c",
     "locked": true,
     "schema_version": 3,
     "solution": false,
     "task": false
    }
   },
   "outputs": [],
   "source": [
    "answer2.12\n",
    "answer2.13"
   ]
  },
  {
   "cell_type": "markdown",
   "metadata": {
    "nbgrader": {
     "grade": false,
     "grade_id": "cell-64780a2cb3230b2e",
     "locked": true,
     "schema_version": 3,
     "solution": false,
     "task": false
    }
   },
   "source": [
    "**Congratulations!** You've finished Part B of Worksheet 2, and with that, Worksheet 2 overall. Which also means that you've completed 3 weeks of STAT545A, and you're well on your way to being an R pro. Not quite done with practicing data viz with ggplot? We'll be diving deeper into plotting next week, but here are a few resources if you want to explore in the meantime:\n",
    "\n",
    "+ [Jenny Bryan's ggplot2 tutorial](https://github.com/jennybc/ggplot2-tutorial). Has lots of examples, but less dialogue.\n",
    "+ [R4DS Data Viz chapter](https://r4ds.had.co.nz/data-visualisation.html). With a comprehensive walk-through style.\n",
    "+ [Chapter 2 of the ggplot book](http://webcat2.library.ubc.ca/vwebv/holdingsInfo?bibId=8489511). Even more detailed!\n",
    "\n"
   ]
  }
 ],
 "metadata": {
  "celltoolbar": "Create Assignment",
  "jupytext": {
   "cell_metadata_filter": "warning,message,name,eval,fig.width,fig.height,-all",
   "notebook_metadata_filter": "-all",
   "text_representation": {
    "extension": ".Rmd",
    "format_name": "rmarkdown"
   }
  },
  "kernelspec": {
   "display_name": "R",
   "language": "R",
   "name": "ir"
  },
  "language_info": {
   "codemirror_mode": "r",
   "file_extension": ".r",
   "mimetype": "text/x-r-source",
   "name": "R",
   "pygments_lexer": "r",
   "version": "4.0.2"
  }
 },
 "nbformat": 4,
 "nbformat_minor": 4
}
