{
 "cells": [
  {
   "cell_type": "markdown",
   "metadata": {
    "nbgrader": {
     "grade": false,
     "grade_id": "cell-f97b77498cab5a8e",
     "locked": true,
     "schema_version": 3,
     "solution": false,
     "task": false
    }
   },
   "source": [
    "### `mutate()` \n",
    "\n",
    "The `mutate()` function _creates_ new columns in the tibble by transforming other variables. Like `select()`, `filter()`, and `arrange()`, the `mutate()` function also takes a tibble as its first argument, and returns a tibble. \n",
    "\n",
    "The general syntax is: `mutate(tibble, NEW_COLUMN_NAME = CALCULATION)`.\n",
    "\n",
    "**QUESTION 1.12**\n",
    "\n",
    "Make a new column with body mass in kg, named `body_mass_kg`, *and* rearrange the tibble so that `body_mass_kg` goes after `body_mass_g` and before `sex`. Hint: within `select()`, use R's `:` operator to select all variables from `species` to `body_mass_g`."
   ]
  },
  {
   "cell_type": "code",
   "execution_count": 1,
   "metadata": {
    "name": "question-1-12",
    "nbgrader": {
     "grade": false,
     "grade_id": "cell-3e1d46ea062940d2",
     "locked": false,
     "schema_version": 3,
     "solution": true,
     "task": false
    }
   },
   "outputs": [
    {
     "ename": "ERROR",
     "evalue": "Error in penguins %>% mutate(body_mass_kg = body_mass_g/1000) %>% select(species:body_mass_g, : could not find function \"%>%\"\n",
     "output_type": "error",
     "traceback": [
      "Error in penguins %>% mutate(body_mass_kg = body_mass_g/1000) %>% select(species:body_mass_g, : could not find function \"%>%\"\nTraceback:\n"
     ]
    }
   ],
   "source": [
    "# answer1.12 <- \n",
    "# penguins %>%\n",
    "# mutate(FILL_THIS_IN = FILL_THIS_IN) %>%\n",
    "# select(FILL_THIS_IN, FILL_THIS_IN, FILL_THIS_IN, FILL_THIS_IN)\n",
    "\n",
    "### BEGIN SOLUTION\n",
    "answer1.12 <- penguins %>%\n",
    "  mutate(body_mass_kg = body_mass_g / 1000) %>%\n",
    "  select(species:body_mass_g, body_mass_kg, sex, year)\n",
    "### END SOLUTION "
   ]
  },
  {
   "cell_type": "code",
   "execution_count": 102,
   "metadata": {
    "name": "test-1-12",
    "nbgrader": {
     "grade": true,
     "grade_id": "cell-88997cb480193491",
     "locked": true,
     "points": 1,
     "schema_version": 3,
     "solution": false,
     "task": false
    }
   },
   "outputs": [
    {
     "name": "stdout",
     "output_type": "stream",
     "text": [
      "success!"
     ]
    }
   ],
   "source": [
    "# test for an object that is 344 by 9, and where the column order is:\n",
    "# [1] \"species\"           \"island\"            \"bill_length_mm\"   \n",
    "# [4] \"bill_depth_mm\"     \"flipper_length_mm\" \"body_mass_g\"      \n",
    "# [7] \"body_mass_kg\"      \"sex\"               \"year\" \n",
    "\n",
    "test_that(\"Question 1.12\", {\n",
    "  expect_equal(digest(dim(answer1.12)), \"9e9457527d068c2333ea8fd598e07f13\")\n",
    "  expect_equal(digest(colnames(answer1.12)), \"d7121e41fe934232c1c45dc425365040\")\n",
    "  \n",
    "  # tests that body_mass_kg was correctly made\n",
    "  expect_equal(na.omit(answer1.12$body_mass_kg / answer1.12$body_mass_g) %>% digest,\n",
    "               \"cdfbfd4da65e3575a474558218939055\")\n",
    "})\n",
    "cat(\"success!\")"
   ]
  },
  {
   "cell_type": "markdown",
   "metadata": {
    "nbgrader": {
     "grade": false,
     "grade_id": "cell-562925845c5a4e8f",
     "locked": true,
     "schema_version": 3,
     "solution": false,
     "task": false
    }
   },
   "source": [
    "Have a look at `answer1.12` to see what the changes you made look like."
   ]
  },
  {
   "cell_type": "code",
   "execution_count": null,
   "metadata": {
    "nbgrader": {
     "grade": true,
     "grade_id": "cell-6b5e87ead8f43edb",
     "locked": false,
     "points": 0,
     "schema_version": 3,
     "solution": true,
     "task": false
    }
   },
   "outputs": [],
   "source": [
    "# your code here"
   ]
  },
  {
   "cell_type": "markdown",
   "metadata": {
    "nbgrader": {
     "grade": false,
     "grade_id": "cell-cc52197fe0ea6286",
     "locked": true,
     "schema_version": 3,
     "solution": false,
     "task": false
    }
   },
   "source": [
    "Notice the backwards compatibility! No need for loops! Now, try the same thing, but with `transmute` (drops all other variables). "
   ]
  },
  {
   "cell_type": "code",
   "execution_count": null,
   "metadata": {
    "nbgrader": {
     "grade": false,
     "grade_id": "cell-2a591e65afdc6701",
     "locked": true,
     "schema_version": 3,
     "solution": false,
     "task": false
    }
   },
   "outputs": [],
   "source": [
    "# penguins %>%\n",
    "#  transmute(FILL_THIS_IN = FILL_THIS_IN)"
   ]
  },
  {
   "cell_type": "markdown",
   "metadata": {
    "nbgrader": {
     "grade": false,
     "grade_id": "cell-979cffdcb8cda702",
     "locked": true,
     "schema_version": 3,
     "solution": false,
     "task": false
    }
   },
   "source": [
    "### `summarise()`\n",
    "\n",
    "The last key verb is `summarise()`. It collapses a data frame to a single row:"
   ]
  },
  {
   "cell_type": "code",
   "execution_count": null,
   "metadata": {
    "nbgrader": {
     "grade": false,
     "grade_id": "cell-6651f6b882cd946a",
     "locked": true,
     "schema_version": 3,
     "solution": false,
     "task": false
    }
   },
   "outputs": [],
   "source": [
    "summarise(penguins, body_mass_mean = mean(body_mass_g, na.rm = TRUE))"
   ]
  },
  {
   "cell_type": "markdown",
   "metadata": {
    "nbgrader": {
     "grade": false,
     "grade_id": "cell-aa77b7bf1d6957dc",
     "locked": true,
     "schema_version": 3,
     "solution": false,
     "task": false
    }
   },
   "source": [
    "*From R4DS Data Transformation:* \n",
    "\n",
    "> `summarise()` is not terribly useful unless we pair it with `group_by()`. This changes the unit of analysis from the complete dataset to individual groups. Then, when you use the dplyr verbs on a grouped data frame they'll be automatically applied \"by group\".\n",
    "\n",
    "For example, if we applied exactly the same code to a data frame grouped by island, we get the average body mass per island:"
   ]
  },
  {
   "cell_type": "code",
   "execution_count": 104,
   "metadata": {
    "nbgrader": {
     "grade": false,
     "grade_id": "cell-64b1d3942b28d51b",
     "locked": true,
     "schema_version": 3,
     "solution": false,
     "task": false
    }
   },
   "outputs": [
    {
     "name": "stderr",
     "output_type": "stream",
     "text": [
      "`summarise()` ungrouping output (override with `.groups` argument)\n",
      "\n"
     ]
    },
    {
     "data": {
      "text/html": [
       "<table>\n",
       "<caption>A tibble: 3 × 2</caption>\n",
       "<thead>\n",
       "\t<tr><th scope=col>island</th><th scope=col>body_mass_mean</th></tr>\n",
       "\t<tr><th scope=col>&lt;fct&gt;</th><th scope=col>&lt;dbl&gt;</th></tr>\n",
       "</thead>\n",
       "<tbody>\n",
       "\t<tr><td>Biscoe   </td><td>4716.018</td></tr>\n",
       "\t<tr><td>Dream    </td><td>3712.903</td></tr>\n",
       "\t<tr><td>Torgersen</td><td>3706.373</td></tr>\n",
       "</tbody>\n",
       "</table>\n"
      ],
      "text/latex": [
       "A tibble: 3 × 2\n",
       "\\begin{tabular}{ll}\n",
       " island & body\\_mass\\_mean\\\\\n",
       " <fct> & <dbl>\\\\\n",
       "\\hline\n",
       "\t Biscoe    & 4716.018\\\\\n",
       "\t Dream     & 3712.903\\\\\n",
       "\t Torgersen & 3706.373\\\\\n",
       "\\end{tabular}\n"
      ],
      "text/markdown": [
       "\n",
       "A tibble: 3 × 2\n",
       "\n",
       "| island &lt;fct&gt; | body_mass_mean &lt;dbl&gt; |\n",
       "|---|---|\n",
       "| Biscoe    | 4716.018 |\n",
       "| Dream     | 3712.903 |\n",
       "| Torgersen | 3706.373 |\n",
       "\n"
      ],
      "text/plain": [
       "  island    body_mass_mean\n",
       "1 Biscoe    4716.018      \n",
       "2 Dream     3712.903      \n",
       "3 Torgersen 3706.373      "
      ]
     },
     "metadata": {},
     "output_type": "display_data"
    }
   ],
   "source": [
    "penguins %>%\n",
    "  group_by(island) %>%\n",
    "  summarise(body_mass_mean = mean(body_mass_g, na.rm = TRUE))"
   ]
  },
  {
   "cell_type": "markdown",
   "metadata": {
    "nbgrader": {
     "grade": false,
     "grade_id": "cell-caa3e2442660a5d9",
     "locked": true,
     "schema_version": 3,
     "solution": false,
     "task": false
    }
   },
   "source": [
    "**QUESTION 1.13**\n",
    "\n",
    "Try the same thing as in the example above, but this time grouping the penguins by year, and then island."
   ]
  },
  {
   "cell_type": "code",
   "execution_count": 106,
   "metadata": {
    "name": "question-1-13",
    "nbgrader": {
     "grade": false,
     "grade_id": "cell-45efdea0f5c06a57",
     "locked": false,
     "schema_version": 3,
     "solution": true,
     "task": false
    }
   },
   "outputs": [
    {
     "name": "stderr",
     "output_type": "stream",
     "text": [
      "`summarise()` regrouping output by 'year' (override with `.groups` argument)\n",
      "\n"
     ]
    }
   ],
   "source": [
    "# answer1.13 <- youranswer\n",
    "\n",
    "### BEGIN SOLUTION\n",
    "answer1.13 <- penguins %>%\n",
    "  group_by(year, island) %>%\n",
    "  summarise(body_mass_mean = mean(body_mass_g, na.rm = TRUE))\n",
    "### END SOLUTION"
   ]
  },
  {
   "cell_type": "code",
   "execution_count": null,
   "metadata": {
    "name": "test-1-13",
    "nbgrader": {
     "grade": true,
     "grade_id": "cell-1933f07939540146",
     "locked": true,
     "points": 1,
     "schema_version": 3,
     "solution": false,
     "task": false
    }
   },
   "outputs": [],
   "source": [
    "# test that output is 9 by 3, and columns are: \"year\"           \"island\"         \"body_mass_mean\"\n",
    "test_that(\"Question 1.13\", {\n",
    "  expect_equal(digest(dim(answer1.13)), \"f4885de1726d18557bd43d769cc0ae26\")\n",
    "  expect_equal(digest(colnames(answer1.13)), \"ba0c85220a5fa5222cac937acb2f94c2\")\n",
    "})\n",
    "cat(\"success!\")"
   ]
  },
  {
   "cell_type": "code",
   "execution_count": null,
   "metadata": {},
   "outputs": [],
   "source": []
  }
 ],
 "metadata": {
  "kernelspec": {
   "display_name": "R",
   "language": "R",
   "name": "ir"
  },
  "language_info": {
   "codemirror_mode": "r",
   "file_extension": ".r",
   "mimetype": "text/x-r-source",
   "name": "R",
   "pygments_lexer": "r",
   "version": "4.0.2"
  }
 },
 "nbformat": 4,
 "nbformat_minor": 4
}
