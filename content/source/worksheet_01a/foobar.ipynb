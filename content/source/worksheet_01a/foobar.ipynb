{
 "cells": [
  {
   "cell_type": "raw",
   "metadata": {},
   "source": [
    "---\n",
    "title: 'Lecture Worksheet 1A: Intro to R, R Markdown, and Reproducibility'\n",
    "author: \"Icíar Fernández Boyano\"\n",
    "output: html_document\n",
    "---"
   ]
  },
  {
   "cell_type": "markdown",
   "metadata": {},
   "source": [
    "# Welcome to STAT545A!\n",
    "\n",
    "I hope that you are excited to become an R pro during the next few weeks! This is the first of 6 in-class worksheets that have been designed to help you navigate this R journey. We'll start easy, with some examples of R commands, and evolve to the more complex - and arguably cooler - syntax and structures of the R language.\n",
    "\n",
    "## An important note\n",
    "\n",
    "**Submission of this worksheet is optional, but encouraged**. Worksheets 2-6 in the remainder of the course **must** be submitted for participation marks.\n",
    "\n",
    "## Instructions + Grading\n",
    "\n",
    "*With the above in mind, these are the instructions to be followed to obtain marks for worksheets 2-6. The earlier you familiarize yourself with these, the better!*\n",
    "\n",
    "+ To get full marks for each participation worksheet, you must successfully answer at least 40% of all autograded questions. In this worksheet, that would mean 9/22 total questions (although this worksheet is ungraded).\n",
    "\n",
    "+ Autograded questions are easily identifiable throughout the worksheet, labelled as **QUESTION**. Any other instructions that prompt the student to write code are activities, which are not graded and thus do not contribute to marks - but do contribute to the workflow of the worksheet!\n",
    "\n",
    "+ Run this code chunk to load the packages required for the autograder:"
   ]
  },
  {
   "cell_type": "code",
   "execution_count": null,
   "metadata": {
    "lines_to_next_cell": 2,
    "message": false,
    "name": "autograder-req",
    "warning": false
   },
   "outputs": [],
   "source": [
    "library(testthat)\n",
    "library(digest)"
   ]
  },
  {
   "cell_type": "markdown",
   "metadata": {},
   "source": [
    "## Attributions\n",
    "\n",
    "The following resources were used as inspiration in the creation of this worksheet:\n",
    "\n",
    "+ [Swirl R Programming Tutorial](https://swirlstats.com/scn/rprog.html)\n",
    "+ [A (very) short introduction to R](https://github.com/ClaudiaBrauer/A-very-short-introduction-to-R/blob/master/documents/A%20(very)%20short%20introduction%20to%20R.pdf)\n",
    "+ [Happy Git and GitHub for the useR](https://happygitwithr.com/)\n",
    "+ [2019 STAT545 Guidebook](https://stat545guidebook.netlify.app/index.html)\n",
    "+ [Jenny Bryan's STAT545 Guidebook](https://stat545.com/)\n",
    "\n",
    "## Class 1: A first glance at the R world\n",
    "\n",
    "This section of the worksheet is to be completed during Class 1: Intro to STAT545 and R. By the end of today's class, you will be able to: *LO1*.\n",
    "\n",
    "### 1.1 Calculator\n",
    "\n",
    "In its simplest form, R can be used as a interactive calculator. "
   ]
  },
  {
   "cell_type": "code",
   "execution_count": null,
   "metadata": {
    "name": "example-1-0"
   },
   "outputs": [],
   "source": [
    "10 + 4 # you can add \n",
    "10 - 4 # subtract\n",
    "4 / 2 # divide\n",
    "2 * 5 # multiply\n",
    "3 ^ 4 # and exponentiate"
   ]
  },
  {
   "cell_type": "markdown",
   "metadata": {},
   "source": [
    "As you can see, R can handle any simple arithmetic expressions using the above operators. Your turn! Type 3 + 6 and press Enter."
   ]
  },
  {
   "cell_type": "code",
   "execution_count": null,
   "metadata": {
    "name": "activity-1-0"
   },
   "outputs": [],
   "source": []
  },
  {
   "cell_type": "markdown",
   "metadata": {},
   "source": [
    "Now, subtract 2 from the result above."
   ]
  },
  {
   "cell_type": "code",
   "execution_count": null,
   "metadata": {
    "name": "activity-1-1"
   },
   "outputs": [],
   "source": []
  },
  {
   "cell_type": "markdown",
   "metadata": {},
   "source": [
    "Pretty easy, right? All that you have to do is type in your arithmetic expression, and press Enter. Now, what if you need to compute a longer expression? Let's say that I want to find out the percentage of students in the STAT department that are taking STAT545A (note: these numbers are fictional!). I could compute this in several steps, or use a more complex expression. \n",
    "\n",
    "**Using multiple steps...**\n",
    "\n",
    "+ To calculate the number of students in the STAT department, I add 375 new students that have enrolled this year, to the 2000 that were already enrolled."
   ]
  },
  {
   "cell_type": "code",
   "execution_count": null,
   "metadata": {
    "name": "example-1-1a"
   },
   "outputs": [],
   "source": [
    "2000 + 375"
   ]
  },
  {
   "cell_type": "markdown",
   "metadata": {},
   "source": [
    "+ There are 82 students taking STAT545A this year. Last year, there was the same number of students, but 3 dropped the course after the first two weeks. Let's hypothesise that only 1 will drop the course this year - although I hope the real number is 0 :)"
   ]
  },
  {
   "cell_type": "code",
   "execution_count": null,
   "metadata": {
    "name": "example-1-1b"
   },
   "outputs": [],
   "source": [
    "82 - 1"
   ]
  },
  {
   "cell_type": "markdown",
   "metadata": {},
   "source": [
    "+ With the number of students taking STAT545 this year (hypothetically), and the number of students currently in the STAT department, I can now calculate what percentage of students in the STAT department are taking this class."
   ]
  },
  {
   "cell_type": "code",
   "execution_count": null,
   "metadata": {
    "name": "example-1-1c"
   },
   "outputs": [],
   "source": [
    "81 / 2375"
   ]
  },
  {
   "cell_type": "code",
   "execution_count": null,
   "metadata": {
    "name": "example 1-1d"
   },
   "outputs": [],
   "source": [
    "0.03410526 * 100"
   ]
  },
  {
   "cell_type": "markdown",
   "metadata": {},
   "source": [
    "**What if we use a single expression?**\n",
    "\n",
    "It seems that around 3% of students in the STAT department are taking STAT545A... but that took *a lot* of steps to calculate. We could also write it like this to save some time:"
   ]
  },
  {
   "cell_type": "code",
   "execution_count": null,
   "metadata": {
    "name": "example-1-2"
   },
   "outputs": [],
   "source": [
    "(82 - 1) / (2000 + 375) * 100 "
   ]
  },
  {
   "cell_type": "markdown",
   "metadata": {},
   "source": [
    "As you can see, *taking care of precedence rules* (i.e. using brackets appropriately), we can save some time by writing a single expression.\n",
    "\n",
    "Your turn! Can you calculate the percentage of your life that you have spent in university? \n",
    "\n",
    "Compute the difference between 2020 and the year that you started university, and divide this by the difference between 2020 and the year that you were born. Multiply this with 100 to get the percentage of your life that you have spent in university. Your *challenge* here is to use a single expression."
   ]
  },
  {
   "cell_type": "code",
   "execution_count": null,
   "metadata": {
    "name": "activity-1-2"
   },
   "outputs": [],
   "source": []
  },
  {
   "cell_type": "markdown",
   "metadata": {},
   "source": [
    "### 1.2 Variables\n",
    " \n",
    "Alright, R as a calculator works just fine... but you don't learn a programming language *only* to compute arithmetic expressions. What if you want to use your result from above in a second calculation? Instead of retyping your expression every time that you need it, or copying and pasting the result, you can simply create a new variable that stores it. \n",
    "\n",
    "Earlier, I figured out that I had spent 18% of my life at university. I want to assign this value to a variable called `life_university`, which will help me remember what my value means. The way you assign a value to a variable in R is by using the assignment operator, which is just a \"less than\" symbol, followed by a minus sign. It looks like this:"
   ]
  },
  {
   "cell_type": "code",
   "execution_count": null,
   "metadata": {
    "name": "example-1-3a"
   },
   "outputs": [],
   "source": [
    "life_university <- 18"
   ]
  },
  {
   "cell_type": "markdown",
   "metadata": {},
   "source": [
    "Now, the variable `life_university`, stores the value 18, which is the percentage of time that I had spent at university. But prior to saving this into a variable, I had to calculate the value separately. What if I directly assigned the arithmetic expression that I used to compute my value to the variable?"
   ]
  },
  {
   "cell_type": "code",
   "execution_count": null,
   "metadata": {
    "name": "example-1-3b"
   },
   "outputs": [],
   "source": [
    "life_university <- (2020 - 2016) / (2020 - 1998) * 100"
   ]
  },
  {
   "cell_type": "markdown",
   "metadata": {},
   "source": [
    "Notice that R did not print the result of my expression this time. When you use the assignment operator, R assumes that you don't want to see the result immediately, but rather that you intend to use it for something else later on. \n",
    "\n",
    "To view the contents of the variable, you simply have to type the name of the variable - in this case, `life_university` and press Enter. Try it below!"
   ]
  },
  {
   "cell_type": "code",
   "execution_count": null,
   "metadata": {
    "name": "activity-1-3"
   },
   "outputs": [],
   "source": []
  },
  {
   "cell_type": "markdown",
   "metadata": {},
   "source": [
    "**QUESTION 1.0**\n",
    "\n",
    "Now, it's your turn to store the percentage of time that **you** have spent at university into a variable - try typing the arithmetic expression that you used to compute that value, rather than the value itself! Name this variable `my_life_university`. It should be between 0 and 100."
   ]
  },
  {
   "cell_type": "code",
   "execution_count": null,
   "metadata": {
    "name": "question-1-0"
   },
   "outputs": [],
   "source": [
    "# Your answer here\n",
    "### BEGIN SOLUTION\n",
    "my_life_university <- 12 / 33  # Any number between 0 and 100.\n",
    "### END SOLUTION"
   ]
  },
  {
   "cell_type": "code",
   "execution_count": null,
   "metadata": {
    "name": "test-1-0"
   },
   "outputs": [],
   "source": [
    "test_that(\"Question 1.0\", {\n",
    "  expect_gte(my_life_university, 0)\n",
    "  expect_lte(my_life_university, 100)\n",
    "})"
   ]
  },
  {
   "cell_type": "markdown",
   "metadata": {},
   "source": [
    "### 1.3 Data structures\n",
    "\n",
    "Any object that contains data is called a data structure.\n",
    "\n",
    "### 1.3.1 Vectors\n",
    "\n",
    "#### Numeric vectors\n",
    "\n",
    "So far, you've learned how to use R as a calculator, and how to use variables to store numeric values. But in reality, a \"variable\" in R is just a way to name your data so that R can recall it later. Think of it as a label that you put on a box, so that you remember the contents that are inside it. \n",
    "\n",
    "The variable that you created above, `my_life_university`, stores the most basic data structure in R programming language: a vector. Even a single number is considered a vector of length one, which is the case with the vector that was assigned to `my_life_university`. Let's have a look again:"
   ]
  },
  {
   "cell_type": "code",
   "execution_count": null,
   "metadata": {
    "name": "example-1-3"
   },
   "outputs": [],
   "source": [
    "my_life_university"
   ]
  },
  {
   "cell_type": "markdown",
   "metadata": {},
   "source": [
    "In this way, you can think of the vector as the data structure, and the variable as a label. But what if you want a vector that's greater than length one, or in other words, that stores more than a single numeric value? The easiest way to create a vector is using `c()`, which stands for \"concatenate\", or \"combine\". \n",
    "\n",
    "**QUESTION 1.1**\n",
    "\n",
    "Let's give it a try. To create a vector containing the numbers 3.14, 2.71, and 6.28, type `c(3.14, 2.71, 6.28)`. Store the result in a variable called `x`. "
   ]
  },
  {
   "cell_type": "code",
   "execution_count": null,
   "metadata": {
    "name": "answer-1-1"
   },
   "outputs": [],
   "source": [
    "#x <- ...\n",
    "### BEGIN SOLUTION\n",
    "x <- c(3.14, 2.71, 6.28)\n",
    "### END SOLUTION"
   ]
  },
  {
   "cell_type": "code",
   "execution_count": null,
   "metadata": {
    "lines_to_next_cell": 2,
    "name": "test-1-1"
   },
   "outputs": [],
   "source": [
    "test_that(\"Question 1.1\", {\n",
    "  expect_equal(digest(x), \"d696b13d28ab63409f1f528a2d37bb0e\")\n",
    "})"
   ]
  },
  {
   "cell_type": "markdown",
   "metadata": {},
   "source": [
    "Now, type `x` and press Enter to view its contents. Notice that there are no commas separating the values in the output!"
   ]
  },
  {
   "cell_type": "code",
   "execution_count": null,
   "metadata": {
    "name": "activity-1-4"
   },
   "outputs": [],
   "source": []
  },
  {
   "cell_type": "markdown",
   "metadata": {},
   "source": [
    "You can combine several vectors to make a new vector. And here is where things get fun! For the sake of seeing the result immediately, we won't store this combined vector in a new variable for now."
   ]
  },
  {
   "cell_type": "code",
   "execution_count": null,
   "metadata": {
    "name": "example-1-6"
   },
   "outputs": [],
   "source": [
    "c(10, 50)"
   ]
  },
  {
   "cell_type": "markdown",
   "metadata": {},
   "source": [
    "And what's more: you can combine any numeric vectors together, regardless of whether they have already been assigned to a variable or not!"
   ]
  },
  {
   "cell_type": "code",
   "execution_count": null,
   "metadata": {
    "name": "example-1-7"
   },
   "outputs": [],
   "source": [
    "c(x, 50)"
   ]
  },
  {
   "cell_type": "markdown",
   "metadata": {},
   "source": [
    "**QUESTION 1.2**\n",
    "\n",
    "Your turn to give it a try. Create a new vector that contains `life_university`, `my_life_university`, and `25`. Store your result in a variable named `answer1.1`\n"
   ]
  },
  {
   "cell_type": "code",
   "execution_count": null,
   "metadata": {},
   "outputs": [],
   "source": [
    "#answer1.1 <- ...\n",
    "### BEGIN SOLUTION\n",
    "answer1.1 <- c(life_university, my_life_university, 25) \n",
    "### END SOLUTION\n",
    "print(\"success!\")"
   ]
  },
  {
   "cell_type": "code",
   "execution_count": null,
   "metadata": {
    "lines_to_next_cell": 2
   },
   "outputs": [],
   "source": [
    "test_that(\"Question 1.1\", {\n",
    "  expect_identical(answer1.1[1L], life_university)\n",
    "  expect_identical(answer1.1[2L], my_life_university)\n",
    "  expect_equal(answer1.1[3L], 25)\n",
    "})\n"
   ]
  },
  {
   "cell_type": "markdown",
   "metadata": {},
   "source": [
    "One more cool thing before we go on: numeric vectors can be used in arithmetic expressions. Remembering the vector that we created earlier and assigned to the variable `x`? Let's have a look at it again."
   ]
  },
  {
   "cell_type": "code",
   "execution_count": null,
   "metadata": {
    "name": "example-1-8"
   },
   "outputs": [],
   "source": [
    "x"
   ]
  },
  {
   "cell_type": "markdown",
   "metadata": {},
   "source": [
    "**QUESTION 1.3**\n",
    "\n",
    "Here's a fun fact: those three numbers are actually pi, euler's number, and tau. But that's a story for another course! Type the following to see what happens: `x * 2 + 100`... Actually, **wait!** What do **you** think will be the result of doing that?\n",
    "\n",
    "1: a vector of length three\n",
    "2: a single number (a vector of length 1)\n",
    "3: a vector of length 0 (i.e an empty vector)\n",
    "\n",
    "Assign your answer (`1`, `2`, or `3`) to a variable named `answer1.2`."
   ]
  },
  {
   "cell_type": "code",
   "execution_count": null,
   "metadata": {
    "name": "question-1-2"
   },
   "outputs": [],
   "source": [
    "#answer1.2 <- youranswer\n",
    "### BEGIN SOLUTION\n",
    "answer1.2 <- 1\n",
    "### END SOLUTION"
   ]
  },
  {
   "cell_type": "code",
   "execution_count": null,
   "metadata": {
    "lines_to_next_cell": 2,
    "name": "answer-1-2"
   },
   "outputs": [],
   "source": [
    "test_that(\"Answer check\", {\n",
    "  expect_identical(\n",
    "    digest(as.integer(answer1.2)), \n",
    "    \"4b5630ee914e848e8d07221556b0a2fb\"\n",
    "  )\n",
    "})\n",
    "print(\"success!\")"
   ]
  },
  {
   "cell_type": "markdown",
   "metadata": {},
   "source": [
    "Let's see what actually happens. Type `x * 2 + 100` and press Enter."
   ]
  },
  {
   "cell_type": "code",
   "execution_count": null,
   "metadata": {
    "name": "activity-1-5"
   },
   "outputs": [],
   "source": []
  },
  {
   "cell_type": "markdown",
   "metadata": {},
   "source": [
    "First, R multiplied each of the three elements in `x` by 2. Then, it added 100 to each element to get the result that you see.\n",
    "\n",
    "#### Logical vectors\n",
    "\n",
    "So far we have only dealt with **numeric** vectors. But there are other types of vectors in the R universe. Let's have a look.\n",
    "\n",
    "**QUESTION 1.4**\n",
    "\n",
    "Enough of university, let's talk about vacation! A group of friends are discussing the places that they visited in 2019, and trying to figure out how much total vacation time each of them took. Pablo says he took 54 days off to travel locally, Dana was on vacation for only 14 days, and Marianne went to the Caribbean for 30 days.\n",
    "\n",
    "Create a vector that contains the values of Pablo, Dana, and Marianne's vacation days, respectively. Assign it to a variable named `vacation_time`."
   ]
  },
  {
   "cell_type": "code",
   "execution_count": null,
   "metadata": {
    "name": "question-1-3"
   },
   "outputs": [],
   "source": [
    "# vacation_time <- ...\n",
    "### BEGIN SOLUTION\n",
    "vacation_time <- c(54, 14, 30)\n",
    "### END SOLUTION"
   ]
  },
  {
   "cell_type": "code",
   "execution_count": null,
   "metadata": {
    "lines_to_next_cell": 2,
    "name": "test 1-3"
   },
   "outputs": [],
   "source": [
    "test_that(\"Answer check\", {\n",
    "  expect_identical(\n",
    "    digest(as.integer(vacation_time)), \n",
    "    \"8336872ae5cc234b1c1574e27d863ebb\"\n",
    "  )\n",
    "})\n",
    "print(\"success!\")"
   ]
  },
  {
   "cell_type": "markdown",
   "metadata": {},
   "source": [
    "**QUESTION 1.5**\n",
    "\n",
    "Which person was on vacation for more than 21600 minutes? First, create a numeric vector that multiplies the `vacation_time` vector by 1440 (the number of minutes in a day), to find out what each person's vacation time is *in minutes*. Assign this to a variable named `vacation_time_minutes`."
   ]
  },
  {
   "cell_type": "code",
   "execution_count": null,
   "metadata": {
    "name": "question-1-4"
   },
   "outputs": [],
   "source": [
    "# vacation_time_minutes <- ...\n",
    "### BEGIN SOLUTION\n",
    "vacation_time_minutes <- vacation_time * 1440\n",
    "### END SOLUTION"
   ]
  },
  {
   "cell_type": "code",
   "execution_count": null,
   "metadata": {
    "name": "test-1-4"
   },
   "outputs": [],
   "source": [
    "test_that(\"Answer check\", {\n",
    "    expect_identical(\n",
    "      digest(as.numeric(vacation_time_minutes)),\n",
    "      \"ce79c61a9b5bd2b5bf4b4def95455438\"\n",
    "    )\n",
    "})\n",
    "print(\"success!\")"
   ]
  },
  {
   "cell_type": "markdown",
   "metadata": {},
   "source": [
    "**QUESTION 1.6**\n",
    "\n",
    "Now, create a variable called `under_21600` that gets the result of `vacation_time_minutes > 21600`, which is read as 'vacation_time_minutes is more than 21600'."
   ]
  },
  {
   "cell_type": "code",
   "execution_count": null,
   "metadata": {
    "name": "question-1-5"
   },
   "outputs": [],
   "source": [
    "# under_21600 <- ...\n",
    "### BEGIN SOLUTION\n",
    "under_21600 <- vacation_time_minutes > 21600\n",
    "### END SOLUTION"
   ]
  },
  {
   "cell_type": "code",
   "execution_count": null,
   "metadata": {
    "lines_to_next_cell": 2,
    "name": "test-1-5"
   },
   "outputs": [],
   "source": [
    "test_that(\"Answer check\", {\n",
    "    expect_identical(\n",
    "      digest(under_21600),\n",
    "      \"4f00878a54c541bdbf07c006a9d412dc\"\n",
    "    )\n",
    "})\n",
    "print(\"success!\")"
   ]
  },
  {
   "cell_type": "markdown",
   "metadata": {},
   "source": [
    "Have a look at the output of `under_21600` by typing the name and pressing Enter."
   ]
  },
  {
   "cell_type": "code",
   "execution_count": null,
   "metadata": {
    "name": "activity-1-6"
   },
   "outputs": [],
   "source": []
  },
  {
   "cell_type": "markdown",
   "metadata": {},
   "source": [
    "Congratulations! You've created your first **logical vector**. Logical vectors can contain the values `TRUE`, `FALSE`, and `NA` (for 'not available' - this happens when you have missing data!). These values are generated as the result of logical 'conditions'. We have seen the logical operator \"greater than\" in this activity, but there are [many more](https://www.statmethods.net/management/operators.html), such as \"less than\", \"exactly equal to\", or \"not equal to\". Don't worry, there will be plenty of time to use those in the future!\n",
    "\n",
    "#### ...and more\n",
    "\n",
    "There are other types of vectors out there in the R universe, such as character vectors. We won't get into the nitty gritty of these - logical and numeric are the most basic R vectors, the ones that you absolutely need to know & that we will use most often. However, we didn't want to leave you in the dark about these other types of vectors! If you really, really want to know more, you can read [more about vectors](https://r4ds.had.co.nz/vectors.html) here.\n",
    "\n",
    "Anyway, here is a handy tip! If you ever come across a vector and you're not sure what it is, you can inspect its two key properties: type, and length. Here is an example of how you would do it. *\"Double\" is just a type of numeric vector.*"
   ]
  },
  {
   "cell_type": "code",
   "execution_count": null,
   "metadata": {
    "name": "example-1-9"
   },
   "outputs": [],
   "source": [
    "typeof(x)\n",
    "length(x)"
   ]
  },
  {
   "cell_type": "markdown",
   "metadata": {},
   "source": [
    "### 1.3.2 Dataframes\n",
    "\n",
    "Living in a vector-only world would be nice if all data analyses involved one variable. When we have more than one variable, data frames come to the rescue. Basically, a data frame holds data in tabular format. R has some data frames \"built in\". For example, motor car data is attached to the variable name mtcars.\n",
    "\n",
    "Print `mtcars` to screen. If I haven't mentioned before, \"print\" means to type the name of the object, and press Enter -- which is the same as surrounding the object with the `print()` function. Notice the tabular format."
   ]
  },
  {
   "cell_type": "code",
   "execution_count": null,
   "metadata": {
    "name": "activity-1-7"
   },
   "outputs": [],
   "source": [
    "mtcars\n",
    "print(mtcars)"
   ]
  },
  {
   "cell_type": "markdown",
   "metadata": {},
   "source": [
    "We will talk more about dataframes in just a bit, but for now, just keep in mind that they are one of the most used data structures in R - albeit more complex than vectors.\n",
    "\n",
    "### 1.4 Subsetting\n",
    "\n",
    "Often, when you're working with a large dataset (such as `mtcars`), you will only be interested in a small portion of it. Even when working with a simpler data structure, such as vectors, you may want to extract a particular value that you are interested in. R has several ways of doing this, in a process that it calls \"subsetting\". Subsetting dataframes is definitely a more complex task - we will start little, with vectors.\n",
    "\n",
    "A student from a previous STAT545 cohort tracked his commute times for two weeks (10 days), and saved them in a vector that he stored in the variable `times`. Here is the `times` variable. "
   ]
  },
  {
   "cell_type": "code",
   "execution_count": null,
   "metadata": {
    "name": "times"
   },
   "outputs": [],
   "source": [
    "times <- c(18, 22, 43, 26, 75, 31, 32, 17, 16, 51)"
   ]
  },
  {
   "cell_type": "markdown",
   "metadata": {},
   "source": [
    "We use `[]` to subset the vector of times. Although we had a look at this in class, here are a couple examples to refresh your memory. To extract the first entry of a vector:"
   ]
  },
  {
   "cell_type": "code",
   "execution_count": null,
   "metadata": {
    "name": "example-1-10"
   },
   "outputs": [],
   "source": [
    "x[1]"
   ]
  },
  {
   "cell_type": "markdown",
   "metadata": {},
   "source": [
    "And if I want to extract everything *but* the first entry:"
   ]
  },
  {
   "cell_type": "code",
   "execution_count": null,
   "metadata": {
    "name": "example-1-11"
   },
   "outputs": [],
   "source": [
    "x[-1]"
   ]
  },
  {
   "cell_type": "markdown",
   "metadata": {},
   "source": [
    "You're doing a great job! Now, it's your turn to use `[]` to subset the vector of times. Keep it up!\n",
    "\n",
    "**QUESTION 1.7**\n",
    "\n",
    "Extract the third entry of the `times` vector, and store the result in a variable named `answer1.5`."
   ]
  },
  {
   "cell_type": "code",
   "execution_count": null,
   "metadata": {},
   "outputs": [],
   "source": [
    "# answer1.5 <- ...\n",
    "### BEGIN SOLUTION\n",
    "answer1.5 <- times[3]\n",
    "### END SOLUTION"
   ]
  },
  {
   "cell_type": "code",
   "execution_count": null,
   "metadata": {
    "lines_to_next_cell": 2
   },
   "outputs": [],
   "source": [
    "test_that(\"Answer check\", {\n",
    "    expect_identical(\n",
    "      digest(answer1.5),\n",
    "      \"e3aac2c171de0322895102f09101ba98\"\n",
    "    )\n",
    "})\n",
    "print(\"success!\")"
   ]
  },
  {
   "cell_type": "markdown",
   "metadata": {},
   "source": [
    "**QUESTION 1.8**\n",
    "\n",
    "Extract everything in `times` except the third entry. Store the result in a variable named `answer1.6`."
   ]
  },
  {
   "cell_type": "code",
   "execution_count": null,
   "metadata": {
    "name": "question-1-6"
   },
   "outputs": [],
   "source": [
    "# answer1.6 <- ...\n",
    "### BEGIN SOLUTION\n",
    "answer1.6 <- times[-3]\n",
    "### END SOLUTION"
   ]
  },
  {
   "cell_type": "code",
   "execution_count": null,
   "metadata": {
    "lines_to_next_cell": 2,
    "name": "test-1-6"
   },
   "outputs": [],
   "source": [
    "test_that(\"Answer check\", {\n",
    "    expect_identical(\n",
    "      digest(answer1.6),\n",
    "      \"600c1ff6db302a52139f9ac39dd41d0c\"\n",
    "    )\n",
    "})\n",
    "print(\"success!\")"
   ]
  },
  {
   "cell_type": "markdown",
   "metadata": {},
   "source": [
    "**QUESTION 1.9**\n",
    "\n",
    "Extract the second and fourth entry of `times`, and store it in a variable called `answer1.7a`. Extract the fourth and second entry of `times`, and store it in a variable called `answer1.7b`. *Hint: remember c()?*"
   ]
  },
  {
   "cell_type": "code",
   "execution_count": null,
   "metadata": {
    "name": "question-1-7"
   },
   "outputs": [],
   "source": [
    "# answer1.7a <- ...\n",
    "# answer1.7b <- ...\n",
    "### BEGIN SOLUTION\n",
    "answer1.7a <- times[c(2, 4)]\n",
    "answer1.7b <- times[c(4, 2)]\n",
    "### END SOLUTION"
   ]
  },
  {
   "cell_type": "code",
   "execution_count": null,
   "metadata": {
    "lines_to_next_cell": 0,
    "name": "test-1-7"
   },
   "outputs": [],
   "source": [
    "test_that(\"Answer check\", {\n",
    "  expect_identical(\n",
    "    digest(answer1.7a),\n",
    "    \"24887cb43232d541bb551ce34f852e69\"\n",
    "  )\n",
    "  expect_identical(\n",
    "    digest(answer1.7b),\n",
    "    \"94001bedd89d74d064e93afdf1b57986\"\n",
    "  )\n",
    "})\n",
    "print(\"success!\")"
   ]
  },
  {
   "cell_type": "markdown",
   "metadata": {},
   "source": [
    "**QUESTION 1.10**\n",
    "\n",
    "Extract the second through fifth entry of `times` – make use of `:` to construct sequential vectors. Store the result in a variable named `answer1.8`."
   ]
  },
  {
   "cell_type": "code",
   "execution_count": null,
   "metadata": {
    "name": "question-1-8"
   },
   "outputs": [],
   "source": [
    "# answer1.8 <- ...\n",
    "### BEGIN SOLUTION\n",
    "answer1.8 <- times[2:5]\n",
    "### END SOLUTION"
   ]
  },
  {
   "cell_type": "code",
   "execution_count": null,
   "metadata": {
    "lines_to_next_cell": 2,
    "name": "test-1-8"
   },
   "outputs": [],
   "source": [
    "test_that(\"Answer check\", {\n",
    "    expect_identical(\n",
    "      digest(answer1.8),\n",
    "      \"3dff0beb6577b621859c9a3579b8d379\"\n",
    "    )\n",
    "})\n",
    "print(\"success!\")"
   ]
  },
  {
   "cell_type": "markdown",
   "metadata": {},
   "source": [
    "**QUESTION 1.11**\n",
    "\n",
    "Extract all entries of `times` that are less than 30 minutes. Why does this work? Logical subsetting!"
   ]
  },
  {
   "cell_type": "code",
   "execution_count": null,
   "metadata": {
    "name": "question-1-9"
   },
   "outputs": [],
   "source": [
    "# answer1.9 <- ...\n",
    "### BEGIN SOLUTION\n",
    "answer1.9 <- times < 30\n",
    "### END SOLUTION"
   ]
  },
  {
   "cell_type": "code",
   "execution_count": null,
   "metadata": {
    "lines_to_next_cell": 2,
    "name": "test-1-9"
   },
   "outputs": [],
   "source": [
    "test_that(\"Answer check\", {\n",
    "    expect_identical(\n",
    "      digest(answer1.9),\n",
    "      \"2b916bf4357d49250dc2558d0dd54aa2\"\n",
    "    )\n",
    "})\n",
    "print(\"success!\")"
   ]
  },
  {
   "cell_type": "markdown",
   "metadata": {},
   "source": [
    "**QUESTION 1.12**\n",
    "\n",
    "After all of that, did the `times` object change at all?\n",
    "\n",
    "1: yes\n",
    "2: no\n",
    "3: not sure\n",
    "\n",
    "Store your answer in an object called `answer1.10`."
   ]
  },
  {
   "cell_type": "code",
   "execution_count": null,
   "metadata": {
    "name": "question-1-10"
   },
   "outputs": [],
   "source": [
    "#answer1.10 <- ...\n",
    "### BEGIN SOLUTION\n",
    "answer1.10 <- 2\n",
    "### END SOLUTION"
   ]
  },
  {
   "cell_type": "code",
   "execution_count": null,
   "metadata": {},
   "outputs": [],
   "source": [
    "test_that(\"Answer check\", {\n",
    "    expect_identical(\n",
    "      digest(as.integer(answer1.10)),\n",
    "      \"c01f179e4b57ab8bd9de309e6d576c48\"\n",
    "    )\n",
    "})\n",
    "print(\"success!\")"
   ]
  },
  {
   "cell_type": "markdown",
   "metadata": {},
   "source": [
    "**QUESTION 1.13**\n",
    "\n",
    "This is a bit of challenge, but I bet you can do it. Try using `[]` in conjunction with `<-` to change the `times` objects by replacing the 2nd and 3rd entries with 2 new travel times of your choosing.\n",
    "\n",
    "(Before you do that, allow us to store the original `times` object for autograding!)"
   ]
  },
  {
   "cell_type": "code",
   "execution_count": null,
   "metadata": {},
   "outputs": [],
   "source": [
    "times_old <- times"
   ]
  },
  {
   "cell_type": "markdown",
   "metadata": {},
   "source": [
    "Now, answer away!"
   ]
  },
  {
   "cell_type": "code",
   "execution_count": null,
   "metadata": {
    "name": "question-1-11"
   },
   "outputs": [],
   "source": [
    "# your answer here\n",
    "### BEGIN SOLUTION\n",
    "times[c(2, 3)] <- c(10, 12) # as an example, your answer could be different!\n",
    "### END SOLUTION"
   ]
  },
  {
   "cell_type": "code",
   "execution_count": null,
   "metadata": {
    "lines_to_next_cell": 2,
    "name": "test-1-11"
   },
   "outputs": [],
   "source": [
    "# Test that `times` still has length 10, and that the entries are the\n",
    "# same except for the 2nd and 3rd.\n",
    "test_that(\"Answer check\", {\n",
    "  expect_identical(length(times), 10L)\n",
    "  expect_identical(times_old[-c(2, 3)], times[-c(2, 3)])\n",
    "  expect_true(times_old[2] != times[2])\n",
    "  expect_true(times_old[3] != times[3])\n",
    "})\n",
    "print(\"success!\")"
   ]
  },
  {
   "cell_type": "markdown",
   "metadata": {},
   "source": [
    "### 1.6 Functions\n",
    "\n",
    "Functions are one of the fundamental building blocks of the R language. They are small pieces of reusable code that can be treated like any other R object. Functions are easily recognizable because they are usually characterized by their name followed by parenthesis. For example, if there was a function that could make bread, it would look like this: bread().\n",
    "\n",
    "**QUESTION 1.14**\n",
    "\n",
    "You have actually already used 3 functions in this worksheet before being formally introduced to what a function is. Can you recall if any of these functions have been used in this worksheet already?\n",
    "\n",
    "1. `c()`\n",
    "2. `mean()`\n",
    "3. `typeof()`\n",
    "4. `length()`\n",
    "\n",
    "Hint: More than 1 answer may be correct -- make a vector of all of the correct ones!"
   ]
  },
  {
   "cell_type": "code",
   "execution_count": null,
   "metadata": {
    "name": "answer-1-11"
   },
   "outputs": [],
   "source": [
    "# answer1.11 <- youranswer\n",
    "### BEGIN SOLUTION\n",
    "answer1.11 <- c(1,3,4)\n",
    "### END SOLUTION"
   ]
  },
  {
   "cell_type": "code",
   "execution_count": null,
   "metadata": {},
   "outputs": [],
   "source": [
    "test_that(\"Answer check\", {\n",
    "    expect_identical(\n",
    "      digest(as.numeric(sort(answer1.11))),\n",
    "      \"4134a7d98ca59ee300379e7486bca55d\"\n",
    "    )\n",
    "})\n",
    "print(\"success!\")"
   ]
  },
  {
   "cell_type": "markdown",
   "metadata": {},
   "source": [
    "There are tens of thousands of functions that one can use in R, which seems a bit large for this worksheet. Let's explore a few basic functions just for fun. Type `Sys.Date()` below to see what happens!"
   ]
  },
  {
   "cell_type": "code",
   "execution_count": null,
   "metadata": {
    "name": "activity-1-9"
   },
   "outputs": [],
   "source": []
  },
  {
   "cell_type": "markdown",
   "metadata": {},
   "source": [
    "Remember that there are different types of vectors, besides numeric and logical? Well, the output of `Sys.Date()` is actually an example of another vector type, known in R language as a \"string\". A \"string\" is just a character (any value written within a pair of single or double quotes in R) variable that contains one or more characters! \n",
    "\n",
    "The value that `Sys.Date()` computes is based on your computer's environment, but functions in R can also manipulate input data in order to compute a return value. At the start of this worksheet, you were introduced to the simplest form of R - as a calculator. Actually, R functions allow us to compute certain things that could be done manually as a calculator, but much faster.\n",
    "\n",
    "Recall the `times` vector earlier. What's the average travel time? Instead of computing this manually, we can use a function called `mean`. "
   ]
  },
  {
   "cell_type": "code",
   "execution_count": null,
   "metadata": {
    "name": "example-1-12"
   },
   "outputs": [],
   "source": [
    "mean(times)"
   ]
  },
  {
   "cell_type": "markdown",
   "metadata": {},
   "source": [
    "Notice the syntax of using a function: starting by the left with the *function name*, and the *input* goes inside brackets. We *input* times, and we got an *output*. Did this function change the *input*? Check:"
   ]
  },
  {
   "cell_type": "code",
   "execution_count": null,
   "metadata": {},
   "outputs": [],
   "source": []
  },
  {
   "cell_type": "markdown",
   "metadata": {},
   "source": [
    "**QUESTION 1.15**\n",
    "\n",
    "Aside from bizarre functions, this is always the case. But functions don't always return a single value. Try the `range()` function (assigning the result to `answer1.12a`), and the `sqrt()` function (assigning the result to `answer1.12b`), using the `times` vector as an argument for both.\n"
   ]
  },
  {
   "cell_type": "code",
   "execution_count": null,
   "metadata": {
    "lines_to_next_cell": 2,
    "name": "question-1-12"
   },
   "outputs": [],
   "source": [
    "#answer1.12a <- youranswer\n",
    "#answer1.12b <- youranswer\n",
    "### BEGIN SOLUTION\n",
    "answer1.12a <- range(times)\n",
    "answer1.12b <- sqrt(times)\n",
    "### END SOLUTION"
   ]
  },
  {
   "cell_type": "code",
   "execution_count": null,
   "metadata": {
    "name": "answer-1-12"
   },
   "outputs": [],
   "source": [
    "test_that(\"Answer check\", {\n",
    "  expect_identical(answer1.12a, range(times))\n",
    "  expect_identical(answer1.12b, sqrt(times))  \n",
    "})\n",
    "print(\"success!\")"
   ]
  },
  {
   "cell_type": "markdown",
   "metadata": {},
   "source": [
    "Functions can also take more than one argument as input, separated by commas. You can find out what these arguments are by accessing the function’s documentation, which you can do by executing `?\"function name\"`. Try accessing the documentation of the `mean()` function by executing `?mean`."
   ]
  },
  {
   "cell_type": "code",
   "execution_count": null,
   "metadata": {
    "name": "activity-1-10"
   },
   "outputs": [],
   "source": []
  },
  {
   "cell_type": "markdown",
   "metadata": {},
   "source": [
    "There are four arguments. All the arguments have names, except for the `...` argument (more on `...` -- ellipses -- later). This is always the case.\n",
    "\n",
    "Under \"Usage\", some of the arguments are of the form `name = value`. These are default values, in case you don't specify these arguments. This is a sure sign that these arguments are optional.\n",
    "\n",
    "`x` is \"on its own\". This typically means that it has no default, and often (but not always) means that the argument is required. We can specify an argument in one of two ways:\n",
    "\n",
    "+ specifying argument `name = value` in the function parentheses; or\n",
    "+ matching the ordering of the input with the ordering of the arguments.\n",
    "\n",
    "For readability, this is not recommended beyond the first or sometimes second argument! \n",
    "\n",
    "**QUESTION 1.16**\n",
    "\n",
    "Try executing `mean()` again with `times` as an argument, but this time, set the `na.rm` to `TRUE`."
   ]
  },
  {
   "cell_type": "code",
   "execution_count": null,
   "metadata": {
    "name": "question-1-13"
   },
   "outputs": [],
   "source": [
    "#answer1.13 <- youranswer\n",
    "### BEGIN SOLUTION\n",
    "answer1.13 <- mean(times, na.rm = TRUE)\n",
    "### END SOLUTION"
   ]
  },
  {
   "cell_type": "code",
   "execution_count": null,
   "metadata": {
    "name": "answer-1-13"
   },
   "outputs": [],
   "source": [
    "test_that(\"Answer check\", {\n",
    "    expect_identical(answer1.13, mean(times, na.rm = TRUE))\n",
    "})\n",
    "print(\"success!\")"
   ]
  },
  {
   "cell_type": "markdown",
   "metadata": {},
   "source": [
    "**QUESTION 1.17**\n",
    "\n",
    "The mean is the same, because there are no `NA` values in the vector `times`. Put your subsetting knowledge into practice by replacing the third entry of the `times` vector by a missing value (`NA`)."
   ]
  },
  {
   "cell_type": "code",
   "execution_count": null,
   "metadata": {
    "name": "question-1-14"
   },
   "outputs": [],
   "source": [
    "#answer1.14 <- youranswer\n",
    "#hint: solution starts with times[...\n",
    "### BEGIN SOLUTION\n",
    "times[3] <- NA\n",
    "### END SOLUTION"
   ]
  },
  {
   "cell_type": "code",
   "execution_count": null,
   "metadata": {
    "name": "answer-1-14"
   },
   "outputs": [],
   "source": [
    "test_that(\"Answer check\", {\n",
    "    expect_identical(which(is.na(times)), 3L)\n",
    "})\n",
    "print(\"success!\")"
   ]
  },
  {
   "cell_type": "markdown",
   "metadata": {},
   "source": [
    "**QUESTION 1.18**\n",
    "\n",
    "Now, try executing `mean()` specifying `na.rm` as `TRUE` again (with `times` as an input)."
   ]
  },
  {
   "cell_type": "code",
   "execution_count": null,
   "metadata": {
    "name": "question-1-15"
   },
   "outputs": [],
   "source": [
    "#answer1.15 <- youranswer\n",
    "### BEGIN SOLUTION\n",
    "answer1.15 <- mean(times, na.rm = TRUE)\n",
    "### END SOLUTION"
   ]
  },
  {
   "cell_type": "code",
   "execution_count": null,
   "metadata": {
    "name": "answer-1-15"
   },
   "outputs": [],
   "source": [
    "test_that(\"Answer check\", {\n",
    "    expect_identical(answer1.15, mean(times, na.rm = TRUE))\n",
    "})\n",
    "print(\"success!\")"
   ]
  },
  {
   "cell_type": "markdown",
   "metadata": {},
   "source": [
    "Notice how the output changes. What if you try setting `na.rm` as `FALSE` instead?"
   ]
  },
  {
   "cell_type": "code",
   "execution_count": null,
   "metadata": {
    "name": "activity-1-11"
   },
   "outputs": [],
   "source": []
  },
  {
   "cell_type": "markdown",
   "metadata": {},
   "source": [
    "The function cannot calculate the mean of the numeric vector if there are missing values. \n",
    "\n",
    "**Tip:** Always *look* at the data that you are using. When functions fail and you don't know what went wrong, the error is usually traceable to the input. But we will talk more about errors later on!\n",
    "\n",
    "## 2. R Markdown & Reproducibility \n",
    "\n",
    "This section of the worksheet is to be completed during Class 3: RMarkdown and Reproducibility. By the end of this section, you will be able to: *LO1*.\n",
    "\n",
    "### 2.1 What have we learned so far?\n",
    "\n",
    "**QUESTION 1.19**\n",
    "\n",
    "We've discussed output formats, which represent different ways in which you can display a manuscript. Previously, you have completed part 1 of this worksheet on a format known as Jupyter notebook, which you will continue to use throughout the course, *but we will not focus on how to actually generate this file*. What are other non-proprietary files? You may select more than one answer.\n",
    "\n",
    "1. PDF\n",
    "2. MS Word\n",
    "3. HTML\n",
    "4. TXT\n",
    "5. LaTeX"
   ]
  },
  {
   "cell_type": "code",
   "execution_count": null,
   "metadata": {
    "name": "question-1-16"
   },
   "outputs": [],
   "source": [
    "#answer1.16 <- youranswer\n",
    "### BEGIN SOLUTION\n",
    "answer1.16 <- c(1, 3, 4, 5)\n",
    "### END SOLUTION"
   ]
  },
  {
   "cell_type": "code",
   "execution_count": null,
   "metadata": {
    "name": "answer-1-16"
   },
   "outputs": [],
   "source": [
    "test_that(\"Answer check\", {\n",
    "    expect_false(2 %in% answer1.16 | 2L %in% answer1.16)\n",
    "})\n",
    "print(\"success!\")"
   ]
  },
  {
   "cell_type": "markdown",
   "metadata": {},
   "source": [
    "**QUESTION 1.20**\n",
    "\n",
    "When you are working on a data analysis project, being able to integrate reproducible code into a clear, legible document is key - not only for working with others, but also for revisiting your own analyses. Non-proprietary files should be the output of your R Markdown. Why not just use MS Word to report on your analysis? Again, you may select more than one answer.\n",
    "\n",
    "1: It costs money\n",
    "2: Files can be edited\n",
    "3: Files don't look as good\n",
    "4: It cannot integrate code"
   ]
  },
  {
   "cell_type": "code",
   "execution_count": null,
   "metadata": {
    "name": "question-1-17"
   },
   "outputs": [],
   "source": [
    "#answer1.17 <- youranswer\n",
    "### BEGIN SOLUTION\n",
    "answer1.17 <- c(2, 4)\n",
    "### END SOLUTION"
   ]
  },
  {
   "cell_type": "code",
   "execution_count": null,
   "metadata": {
    "name": "answer-1-17"
   },
   "outputs": [],
   "source": [
    "test_that(\"Answer check\", {\n",
    "  expect_false(1 %in% answer1.17 | 1L %in% answer1.17)\n",
    "  expect_false(3 %in% answer1.17 | 3L %in% answer1.17)\n",
    "})\n",
    "print(\"success!\")"
   ]
  },
  {
   "cell_type": "markdown",
   "metadata": {},
   "source": [
    "**QUESTION 1.21**\n",
    "\n",
    "Markdown is a markup language with plain-text-formatting syntax, or in other words, an easy-to-write and easy-to-read way to style text. It allows to control many aspects of your document display, such as formatting words as **bold** or *italic* or embedding [links](https://media0.giphy.com/media/S9RKaj4E4dhWvKfMHf/giphy.gif?cid=ecf05e47ajg4qei1tctlea9mtwpik0mrscyxfg3q7nixr8w8&rid=giphy.gif). Sites like GitHub and Reddit support markdown. R Markdown (Rmd) is a \"beefed up\" version of markdown with the same syntax, but many more features built into it. What are some important ones? More than one answer may be correct. \n",
    "\n",
    "1: Integrates code into the document\n",
    "2: Has HTML widgets\n",
    "3: Specifies more features through a YAML header"
   ]
  },
  {
   "cell_type": "code",
   "execution_count": null,
   "metadata": {
    "name": "question-1-18"
   },
   "outputs": [],
   "source": [
    "#answer1.18 <- youranswer\n",
    "### BEGIN SOLUTION\n",
    "answer1.18 <- c(1, 3)\n",
    "### END SOLUTION"
   ]
  },
  {
   "cell_type": "code",
   "execution_count": null,
   "metadata": {
    "name": "answer-1-18"
   },
   "outputs": [],
   "source": [
    "test_that(\"Answer check\", {\n",
    "  expect_false(2 %in% answer1.18 | 2L %in% answer1.18)\n",
    "})\n",
    "print(\"success!\")"
   ]
  },
  {
   "cell_type": "markdown",
   "metadata": {},
   "source": [
    "### 2.2 What we learn to do, we learn by doing!\n",
    "\n",
    "Enough questions. It's your turn to give R Markdown a try! \n",
    "\n",
    "**Instructions:** Open the .Rmd version of this worksheet (found in Canvas, under Class 3) in R Studio, and let's get started.\n",
    "\n",
    "**Working on this worksheet section outside of class hours?** In case of catastrophic failure to make anything work:\n",
    "\n",
    "+ Contact any of the STAT545A teaching team - contact details [here](https://stat545.stat.ubc.ca/#contact).\n",
    "+ Jenny Bryan, the STAT545 founder, compiled a [troubleshooting](https://happygitwithr.com/rmd-test-drive.html#rmd-troubleshooting) for R Markdown page that guides you through common fixes.\n",
    "\n",
    "### Getting set up with R packages\n",
    "\n",
    "R packages are the fundamental unit of shareable code. Each package is a collection of functions, data, and compiled code in well-defined format. Packages are usually developed by the R community (meaning that yes, you can develop a package yourself!) and they are easy to share with others.\n",
    "\n",
    "To get started with using R Markdown, you’ll need to install the **rmarkdown** R package. The activity we have also depends on the **gapminder**, **tibble**, and **DT** packages. Run the chunk below to install them.\n",
    "\n",
    "```\n",
    "install.packages('rmarkdown')\n",
    "install.packages('gapminder')\n",
    "install.packages('tibble')\n",
    "install.packages('DT')\n",
    "```\n",
    "\n",
    "*Normally*, you would type commands for installing packages in the R console rather than a code chunk - this is just streamlined for the purpose of completing the workshop. \n",
    "\n",
    "\"Official\" R packages are stored and retrieved from [CRAN](https://cran.r-project.org/), the Comprehensive R Archive Network. If you need information about a package, you can check out its vignette with this command, which will open a window in your browser:\n",
    "\n",
    "```\n",
    "browseVignettes(package = \"rmarkdown\")\n",
    "```"
   ]
  },
  {
   "cell_type": "markdown",
   "metadata": {},
   "source": [
    "### Exploring code chunks\n",
    "\n",
    "**INSTRUCTIONS:**\n",
    "\n",
    "Read through the following instructions carefully to explore the different features of R Markdown:\n",
    "\n",
    "1. Go to the top of this document and explore the YAML header. \n",
    "\n",
    "2. Open a new Rmd document (but don't close this one!) in RStudio via \"File\" > \"New File\" > \"R Markdown\". Accept the default output format of HTML. See the differences with this document in the header? As you can see, when I started writing this Rmd, I scrapped everything that appears below the YAML header - this is common practice.\n",
    "\n",
    "3. Add a code chunk below these instructions (below **START**) via \"Insert\" -> \"R\" (look for this at the top of this Rmd document window). Or by: cmd + option + I (MAC) / ctrl + alt + i (WINDOWS).\n",
    "\n",
    "4. The R packages that you installed previously are ready in your local machine, but to be able to use them in this document, you must **load** them first. To do this, add the following code into the code chunk that you just created.\n",
    "\n",
    "5. Create a new code chunk. Print out the \"mtcars\" dataframe to explore the output, and then convert it to a tibble using the tibble::as_tibble() function.\n",
    "\n",
    "6. In another code chunk, print out the \"gapminder\" dataframe to explore the output, and try out the DT::datatable() function to see what it looks like.\n",
    "\n",
    "7. Add some markdown commentary to this comparative analysis! If you were to give this document to someone to read through your \"analysis\", a few notes would make it more readable. Use at least 3 text markup [features of R Markdown](https://rstudio.com/wp-content/uploads/2016/03/rmarkdown-cheatsheet-2.0.pdf?_ga=2.83099670.1689512796.1597728464-1784159993.1567907747) - see the second page of the cheatsheet on the left under \"Pandoc's Markdown\".\n",
    "\n",
    "8. Add an [in-line code chunk](https://rmarkdown.rstudio.com/lesson-4.html) specifying the number of rows of the mtcars dataset. Hint: nrow()\n",
    "\n",
    "9. \"Knit\" to html & pdf. \n",
    "\n",
    "**START:**\n",
    "\n",
    "### Exploring the YAML header\n",
    "\n",
    "\"Fallen off the bus\" from the last exercise? Here is a \"bus stop\" for you to get back on. We're going to work on modifying the metadata via the YAML header. [Here](https://bookdown.org/yihui/rmarkdown/html-document.html) are a bunch of YAML options that you can explore at your own pace.\n",
    "\n",
    "**INSTRUCTIONS:**\n",
    "\n",
    "1. Delete everything between the YAML header and \"2.2 What we learn to do, we learn by doing\" in this document, such that the YAML header is immediately followed by the 2.2 section header.\n",
    "\n",
    "2. Change the Author to your name. You deserve some credit!\n",
    "\n",
    "3. The output of this document is already a HTML file. We'll be specifying settings for the html document, so the \"html_document:\" line needs to go on a new line after the \"output:\" field, like this:\n",
    "\n",
    "```\n",
    "output:\n",
    "  html_document:\n",
    "    SETTINGS\n",
    "    GO\n",
    "    HERE\n",
    "```\n",
    "    \n",
    "3. Add the following settings:\n",
    "\n",
    "- Keep the \"md\" intermediate file with `keep_md: true`\n",
    "- Add a theme. My favorite is cerulean: `theme: cerulean`\n",
    "- Add a table of contents with `toc: true`\n",
    "- Make the toc float: `toc_float: true`\n",
    "\n",
    "4. Save this document to a reasonable filename and location. \n",
    "\n",
    "5. Knit the results! You can do this by clicking on \"Knit > Knit to HTML\" or do File > Knit Document. RStudio should display a preview of the resulting HTML. Also, look at the file browser, you should see the R Markdown document (my-first-markdown.Rmd) and the resulting HTML (my-first-markdown.html)\n",
    "\n",
    "### Last touches! Exploring chunk options\n",
    "\n",
    "Another bus stop! Couldn't get previous exercises to work? No problem, just start a fresh R Markdown document with File -> New File -> R Markdown (only if you need to!) and copy + paste everything below the YAML header (section 2.2 of this worksheet). Need more help? Ask any of the TAs, we'll help you troubleshoot.\n",
    "\n",
    "Just like YAML is metadata for the Rmd document, *code chunk options* are metadata for the code chunk. Specify them within the `{r}` at the top of a code chunk, separated by commas.\n",
    "\n",
    "**INSTRUCTIONS:**\n",
    "\n",
    "1. In any of the code chunks that you have created above, hide the code from the output with `echo = FALSE`. It would look like this `{r echo = FALSE}`.\n",
    "\n",
    "2. Prevent warnings from the chunk that loads packages with `warning = FALSE`.\n",
    "\n",
    "3. Knit the results. Can you spot the differences?\n"
   ]
  }
 ],
 "metadata": {
  "jupytext": {
   "cell_metadata_filter": "warning,name,message,-all",
   "notebook_metadata_filter": "-all",
   "text_representation": {
    "extension": ".Rmd",
    "format_name": "rmarkdown"
   }
  },
  "kernelspec": {
   "display_name": "R",
   "language": "R",
   "name": "ir"
  },
  "language_info": {
   "codemirror_mode": "r",
   "file_extension": ".r",
   "mimetype": "text/x-r-source",
   "name": "R",
   "pygments_lexer": "r",
   "version": "4.0.2"
  }
 },
 "nbformat": 4,
 "nbformat_minor": 4
}
